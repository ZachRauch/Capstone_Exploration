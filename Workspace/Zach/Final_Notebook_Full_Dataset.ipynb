{
  "cells": [
    {
      "cell_type": "markdown",
      "id": "011f121f",
      "metadata": {
        "id": "011f121f"
      },
      "source": [
        "# Hulu Recommendation System Notebook"
      ]
    },
    {
      "cell_type": "markdown",
      "id": "f10fd841",
      "metadata": {
        "id": "f10fd841"
      },
      "source": [
        "![img](https://github.com/xiaohua-su/Recommender_System/blob/main/Workspace/Zach/images/Hulu_Banner.jpeg?raw=1)"
      ]
    },
    {
      "cell_type": "markdown",
      "id": "c870bc6a",
      "metadata": {
        "id": "c870bc6a"
      },
      "source": [
        "## Overview"
      ]
    },
    {
      "cell_type": "markdown",
      "id": "dbdab0c4",
      "metadata": {
        "id": "dbdab0c4"
      },
      "source": [
        "The aim of this project is to build a model that provides **top 5 movie recommendations** to a user, based on their **ratings of other movies** from Hulu. Our audience in this case is the **Hulu Technology Team** headed by the *CTO* of Hulu. They are holding a competition to upgrade their current machine learning algorithm that oversees the movie recommendations given to a Hulu subscriber. "
      ]
    },
    {
      "cell_type": "markdown",
      "id": "37f39a4a",
      "metadata": {
        "id": "37f39a4a"
      },
      "source": [
        "## Business/Industry Understanding "
      ]
    },
    {
      "cell_type": "markdown",
      "id": "65b3888d",
      "metadata": {
        "id": "65b3888d"
      },
      "source": [
        "Todays streaming landscape is vast and diverse, with over *1 billion users worldwide* and generating over *500 billion dollars* in revenue.  Hulu currently holds *11% of the market share* within the streaming industry, trailing behind *Netflix* with *25% of the market*, *Amazon Prime Video* with *18%*, *HBO Max* with *17%* and *Disney Plus* *with 14%*.  It's also important to note that *85%* of Hulu users are also subscribed to Netflix.  Currently, Hulu uses a *item-based collaborative filtering algorithm*, this is a successful approach commonly used by many recommender systems. This type of recommender system takes into consideration the ratings given to movies and shows by users as the sole source of information for learning to make recommendations. "
      ]
    },
    {
      "cell_type": "markdown",
      "id": "4a734ccb",
      "metadata": {
        "id": "4a734ccb"
      },
      "source": [
        "## Data Understanding"
      ]
    },
    {
      "cell_type": "markdown",
      "id": "b9970e49",
      "metadata": {
        "id": "b9970e49"
      },
      "source": [
        "Our dataset is from Grouplens which got it's information from imdb and tmdb. The ratings and movies were taken between 1996 to 2018.The data has over 100,000 movie ratings given by 610 different users for about 9700 movies. Each user had reviewed  at least 20 different movies. Due to time constraints, however, this model was built off of 100,000 movies rating versus 1.9 million ratings available. "
      ]
    },
    {
      "cell_type": "markdown",
      "id": "13858716",
      "metadata": {
        "id": "13858716"
      },
      "source": [
        "# Imports"
      ]
    },
    {
      "cell_type": "markdown",
      "id": "4b3a9e2b",
      "metadata": {
        "id": "4b3a9e2b"
      },
      "source": [
        "`Surprise` was the main library we used to produce our *collaborative filtering model*.This library has endogenous methods of splitting our data set, cross validating, performing grid searches as well various different algorithms that can be used to build recommendation systems. \n",
        "\n",
        "As you go through this notebook, you will see that we had to use a combination of both surprise and `scikit-learn` methods to ensure the successful deployment of model. Since the syntax of `surprise` and `sklearn` are similar, this made this process much more efficient. This also ensures that the notebook would be readable to anyone with a background in *data science*. We mainly utilized `surprise` to transform the data set to a suitable data format that can be used in *recommendation systems*. We also employed `pickling` to make loading onto any new computer an easier process. "
      ]
    },
    {
      "cell_type": "code",
      "source": [
        "!pip install surprise"
      ],
      "metadata": {
        "id": "E4OHoEL6ovk7",
        "outputId": "025c7370-90fb-40a8-82bd-deac538e2da5",
        "colab": {
          "base_uri": "https://localhost:8080/"
        }
      },
      "id": "E4OHoEL6ovk7",
      "execution_count": 1,
      "outputs": [
        {
          "output_type": "stream",
          "name": "stdout",
          "text": [
            "Looking in indexes: https://pypi.org/simple, https://us-python.pkg.dev/colab-wheels/public/simple/\n",
            "Collecting surprise\n",
            "  Downloading surprise-0.1-py2.py3-none-any.whl (1.8 kB)\n",
            "Collecting scikit-surprise\n",
            "  Downloading scikit-surprise-1.1.1.tar.gz (11.8 MB)\n",
            "\u001b[K     |████████████████████████████████| 11.8 MB 3.8 MB/s \n",
            "\u001b[?25hRequirement already satisfied: joblib>=0.11 in /usr/local/lib/python3.7/dist-packages (from scikit-surprise->surprise) (1.1.0)\n",
            "Requirement already satisfied: numpy>=1.11.2 in /usr/local/lib/python3.7/dist-packages (from scikit-surprise->surprise) (1.21.6)\n",
            "Requirement already satisfied: scipy>=1.0.0 in /usr/local/lib/python3.7/dist-packages (from scikit-surprise->surprise) (1.4.1)\n",
            "Requirement already satisfied: six>=1.10.0 in /usr/local/lib/python3.7/dist-packages (from scikit-surprise->surprise) (1.15.0)\n",
            "Building wheels for collected packages: scikit-surprise\n",
            "  Building wheel for scikit-surprise (setup.py) ... \u001b[?25l\u001b[?25hdone\n",
            "  Created wheel for scikit-surprise: filename=scikit_surprise-1.1.1-cp37-cp37m-linux_x86_64.whl size=1633703 sha256=576ecb63f705a1e42e7333ff318cb8de05892675b52bd0597d3a6a881a773fcd\n",
            "  Stored in directory: /root/.cache/pip/wheels/76/44/74/b498c42be47b2406bd27994e16c5188e337c657025ab400c1c\n",
            "Successfully built scikit-surprise\n",
            "Installing collected packages: scikit-surprise, surprise\n",
            "Successfully installed scikit-surprise-1.1.1 surprise-0.1\n"
          ]
        }
      ]
    },
    {
      "cell_type": "code",
      "execution_count": 2,
      "id": "d509d7aa",
      "metadata": {
        "ExecuteTime": {
          "end_time": "2022-05-11T18:31:59.365549Z",
          "start_time": "2022-05-11T18:31:59.355413Z"
        },
        "id": "d509d7aa"
      },
      "outputs": [],
      "source": [
        "import pandas as pd\n",
        "\n",
        "from surprise import Dataset, Reader, accuracy\n",
        "from surprise.model_selection import cross_validate,GridSearchCV\n",
        "from surprise.prediction_algorithms import SVD, SVDpp, NMF, BaselineOnly,\\\n",
        "                                            NormalPredictor, KNNBasic\n",
        "from sklearn.model_selection import train_test_split\n",
        "\n",
        "import matplotlib.pyplot as plt; plt.rcdefaults()\n",
        "import numpy as np\n",
        "import matplotlib.pyplot as plt"
      ]
    },
    {
      "cell_type": "code",
      "source": [
        "from google.colab import drive\n",
        "drive.mount('/content/drive')"
      ],
      "metadata": {
        "id": "Mvarvt1LpHu7",
        "outputId": "cf59637e-8247-4867-fdb8-0b978a198d83",
        "colab": {
          "base_uri": "https://localhost:8080/"
        }
      },
      "id": "Mvarvt1LpHu7",
      "execution_count": 3,
      "outputs": [
        {
          "output_type": "stream",
          "name": "stdout",
          "text": [
            "Mounted at /content/drive\n"
          ]
        }
      ]
    },
    {
      "cell_type": "code",
      "source": [
        ""
      ],
      "metadata": {
        "id": "_WUrt5vppOtB"
      },
      "id": "_WUrt5vppOtB",
      "execution_count": 3,
      "outputs": []
    },
    {
      "cell_type": "markdown",
      "id": "eafa30f9",
      "metadata": {
        "id": "eafa30f9"
      },
      "source": [
        "# EDA"
      ]
    },
    {
      "cell_type": "markdown",
      "id": "15c7efaa",
      "metadata": {
        "id": "15c7efaa"
      },
      "source": [
        "Our Exploratory Data Analysis also includes *data cleaning* and *reformatting*. Below we use pandas to load the two csv files into a pandas data frame"
      ]
    },
    {
      "cell_type": "code",
      "execution_count": 4,
      "id": "9806c9a6",
      "metadata": {
        "ExecuteTime": {
          "end_time": "2022-05-11T18:06:39.644916Z",
          "start_time": "2022-05-11T18:06:39.577529Z"
        },
        "id": "9806c9a6"
      },
      "outputs": [],
      "source": [
        "movies = pd.read_csv('/content/drive/MyDrive/ml-latest/movies.csv')\n",
        "rating = pd.read_csv('/content/drive/MyDrive/ml-latest/ratings.csv')"
      ]
    },
    {
      "cell_type": "code",
      "execution_count": 5,
      "id": "f64548d5",
      "metadata": {
        "ExecuteTime": {
          "end_time": "2022-05-11T18:06:40.245685Z",
          "start_time": "2022-05-11T18:06:40.209611Z"
        },
        "scrolled": true,
        "id": "f64548d5",
        "outputId": "b08f4185-3321-4136-e968-fcab52c51306",
        "colab": {
          "base_uri": "https://localhost:8080/",
          "height": 502
        }
      },
      "outputs": [
        {
          "output_type": "execute_result",
          "data": {
            "text/plain": [
              "       movieId                                    title  \\\n",
              "0            1                         Toy Story (1995)   \n",
              "1            2                           Jumanji (1995)   \n",
              "2            3                  Grumpier Old Men (1995)   \n",
              "3            4                 Waiting to Exhale (1995)   \n",
              "4            5       Father of the Bride Part II (1995)   \n",
              "...        ...                                      ...   \n",
              "58093   193876                  The Great Glinka (1946)   \n",
              "58094   193878  Les tribulations d'une caissière (2011)   \n",
              "58095   193880                 Her Name Was Mumu (2016)   \n",
              "58096   193882                             Flora (2017)   \n",
              "58097   193886                              Leal (2018)   \n",
              "\n",
              "                                            genres  \n",
              "0      Adventure|Animation|Children|Comedy|Fantasy  \n",
              "1                       Adventure|Children|Fantasy  \n",
              "2                                   Comedy|Romance  \n",
              "3                             Comedy|Drama|Romance  \n",
              "4                                           Comedy  \n",
              "...                                            ...  \n",
              "58093                           (no genres listed)  \n",
              "58094                                       Comedy  \n",
              "58095                                        Drama  \n",
              "58096                Adventure|Drama|Horror|Sci-Fi  \n",
              "58097                           Action|Crime|Drama  \n",
              "\n",
              "[58098 rows x 3 columns]"
            ],
            "text/html": [
              "\n",
              "  <div id=\"df-4e8b5ba5-4350-4d3d-8ee7-f16f252cd827\">\n",
              "    <div class=\"colab-df-container\">\n",
              "      <div>\n",
              "<style scoped>\n",
              "    .dataframe tbody tr th:only-of-type {\n",
              "        vertical-align: middle;\n",
              "    }\n",
              "\n",
              "    .dataframe tbody tr th {\n",
              "        vertical-align: top;\n",
              "    }\n",
              "\n",
              "    .dataframe thead th {\n",
              "        text-align: right;\n",
              "    }\n",
              "</style>\n",
              "<table border=\"1\" class=\"dataframe\">\n",
              "  <thead>\n",
              "    <tr style=\"text-align: right;\">\n",
              "      <th></th>\n",
              "      <th>movieId</th>\n",
              "      <th>title</th>\n",
              "      <th>genres</th>\n",
              "    </tr>\n",
              "  </thead>\n",
              "  <tbody>\n",
              "    <tr>\n",
              "      <th>0</th>\n",
              "      <td>1</td>\n",
              "      <td>Toy Story (1995)</td>\n",
              "      <td>Adventure|Animation|Children|Comedy|Fantasy</td>\n",
              "    </tr>\n",
              "    <tr>\n",
              "      <th>1</th>\n",
              "      <td>2</td>\n",
              "      <td>Jumanji (1995)</td>\n",
              "      <td>Adventure|Children|Fantasy</td>\n",
              "    </tr>\n",
              "    <tr>\n",
              "      <th>2</th>\n",
              "      <td>3</td>\n",
              "      <td>Grumpier Old Men (1995)</td>\n",
              "      <td>Comedy|Romance</td>\n",
              "    </tr>\n",
              "    <tr>\n",
              "      <th>3</th>\n",
              "      <td>4</td>\n",
              "      <td>Waiting to Exhale (1995)</td>\n",
              "      <td>Comedy|Drama|Romance</td>\n",
              "    </tr>\n",
              "    <tr>\n",
              "      <th>4</th>\n",
              "      <td>5</td>\n",
              "      <td>Father of the Bride Part II (1995)</td>\n",
              "      <td>Comedy</td>\n",
              "    </tr>\n",
              "    <tr>\n",
              "      <th>...</th>\n",
              "      <td>...</td>\n",
              "      <td>...</td>\n",
              "      <td>...</td>\n",
              "    </tr>\n",
              "    <tr>\n",
              "      <th>58093</th>\n",
              "      <td>193876</td>\n",
              "      <td>The Great Glinka (1946)</td>\n",
              "      <td>(no genres listed)</td>\n",
              "    </tr>\n",
              "    <tr>\n",
              "      <th>58094</th>\n",
              "      <td>193878</td>\n",
              "      <td>Les tribulations d'une caissière (2011)</td>\n",
              "      <td>Comedy</td>\n",
              "    </tr>\n",
              "    <tr>\n",
              "      <th>58095</th>\n",
              "      <td>193880</td>\n",
              "      <td>Her Name Was Mumu (2016)</td>\n",
              "      <td>Drama</td>\n",
              "    </tr>\n",
              "    <tr>\n",
              "      <th>58096</th>\n",
              "      <td>193882</td>\n",
              "      <td>Flora (2017)</td>\n",
              "      <td>Adventure|Drama|Horror|Sci-Fi</td>\n",
              "    </tr>\n",
              "    <tr>\n",
              "      <th>58097</th>\n",
              "      <td>193886</td>\n",
              "      <td>Leal (2018)</td>\n",
              "      <td>Action|Crime|Drama</td>\n",
              "    </tr>\n",
              "  </tbody>\n",
              "</table>\n",
              "<p>58098 rows × 3 columns</p>\n",
              "</div>\n",
              "      <button class=\"colab-df-convert\" onclick=\"convertToInteractive('df-4e8b5ba5-4350-4d3d-8ee7-f16f252cd827')\"\n",
              "              title=\"Convert this dataframe to an interactive table.\"\n",
              "              style=\"display:none;\">\n",
              "        \n",
              "  <svg xmlns=\"http://www.w3.org/2000/svg\" height=\"24px\"viewBox=\"0 0 24 24\"\n",
              "       width=\"24px\">\n",
              "    <path d=\"M0 0h24v24H0V0z\" fill=\"none\"/>\n",
              "    <path d=\"M18.56 5.44l.94 2.06.94-2.06 2.06-.94-2.06-.94-.94-2.06-.94 2.06-2.06.94zm-11 1L8.5 8.5l.94-2.06 2.06-.94-2.06-.94L8.5 2.5l-.94 2.06-2.06.94zm10 10l.94 2.06.94-2.06 2.06-.94-2.06-.94-.94-2.06-.94 2.06-2.06.94z\"/><path d=\"M17.41 7.96l-1.37-1.37c-.4-.4-.92-.59-1.43-.59-.52 0-1.04.2-1.43.59L10.3 9.45l-7.72 7.72c-.78.78-.78 2.05 0 2.83L4 21.41c.39.39.9.59 1.41.59.51 0 1.02-.2 1.41-.59l7.78-7.78 2.81-2.81c.8-.78.8-2.07 0-2.86zM5.41 20L4 18.59l7.72-7.72 1.47 1.35L5.41 20z\"/>\n",
              "  </svg>\n",
              "      </button>\n",
              "      \n",
              "  <style>\n",
              "    .colab-df-container {\n",
              "      display:flex;\n",
              "      flex-wrap:wrap;\n",
              "      gap: 12px;\n",
              "    }\n",
              "\n",
              "    .colab-df-convert {\n",
              "      background-color: #E8F0FE;\n",
              "      border: none;\n",
              "      border-radius: 50%;\n",
              "      cursor: pointer;\n",
              "      display: none;\n",
              "      fill: #1967D2;\n",
              "      height: 32px;\n",
              "      padding: 0 0 0 0;\n",
              "      width: 32px;\n",
              "    }\n",
              "\n",
              "    .colab-df-convert:hover {\n",
              "      background-color: #E2EBFA;\n",
              "      box-shadow: 0px 1px 2px rgba(60, 64, 67, 0.3), 0px 1px 3px 1px rgba(60, 64, 67, 0.15);\n",
              "      fill: #174EA6;\n",
              "    }\n",
              "\n",
              "    [theme=dark] .colab-df-convert {\n",
              "      background-color: #3B4455;\n",
              "      fill: #D2E3FC;\n",
              "    }\n",
              "\n",
              "    [theme=dark] .colab-df-convert:hover {\n",
              "      background-color: #434B5C;\n",
              "      box-shadow: 0px 1px 3px 1px rgba(0, 0, 0, 0.15);\n",
              "      filter: drop-shadow(0px 1px 2px rgba(0, 0, 0, 0.3));\n",
              "      fill: #FFFFFF;\n",
              "    }\n",
              "  </style>\n",
              "\n",
              "      <script>\n",
              "        const buttonEl =\n",
              "          document.querySelector('#df-4e8b5ba5-4350-4d3d-8ee7-f16f252cd827 button.colab-df-convert');\n",
              "        buttonEl.style.display =\n",
              "          google.colab.kernel.accessAllowed ? 'block' : 'none';\n",
              "\n",
              "        async function convertToInteractive(key) {\n",
              "          const element = document.querySelector('#df-4e8b5ba5-4350-4d3d-8ee7-f16f252cd827');\n",
              "          const dataTable =\n",
              "            await google.colab.kernel.invokeFunction('convertToInteractive',\n",
              "                                                     [key], {});\n",
              "          if (!dataTable) return;\n",
              "\n",
              "          const docLinkHtml = 'Like what you see? Visit the ' +\n",
              "            '<a target=\"_blank\" href=https://colab.research.google.com/notebooks/data_table.ipynb>data table notebook</a>'\n",
              "            + ' to learn more about interactive tables.';\n",
              "          element.innerHTML = '';\n",
              "          dataTable['output_type'] = 'display_data';\n",
              "          await google.colab.output.renderOutput(dataTable, element);\n",
              "          const docLink = document.createElement('div');\n",
              "          docLink.innerHTML = docLinkHtml;\n",
              "          element.appendChild(docLink);\n",
              "        }\n",
              "      </script>\n",
              "    </div>\n",
              "  </div>\n",
              "  "
            ]
          },
          "metadata": {},
          "execution_count": 5
        }
      ],
      "source": [
        "#looking at the movies df\n",
        "movies"
      ]
    },
    {
      "cell_type": "markdown",
      "id": "4f7ba69d",
      "metadata": {
        "id": "4f7ba69d"
      },
      "source": [
        "The movies data set has **9742 rows** and **3 columns**, where each row represents **one movie**. The first column : `movieId` corresponds to a **unique id** that defines each movie in this dataset. The second column : `title`  contains the movie title which, in this case, is a combination of both the title of the movie and the year it was released. The final column is `genres` and it contains the `genres` of the movie, some movies are tied to multiple genres. For example, the movie *Toy Story* is considered a Children's movie, but also an action movie, as well as adventure, comedy and fantasy."
      ]
    },
    {
      "cell_type": "code",
      "execution_count": 6,
      "id": "87469fd5",
      "metadata": {
        "ExecuteTime": {
          "end_time": "2022-05-11T18:06:40.460536Z",
          "start_time": "2022-05-11T18:06:40.444535Z"
        },
        "id": "87469fd5",
        "outputId": "03894953-8eb1-44fc-eec0-b09ab7fdd3dc",
        "colab": {
          "base_uri": "https://localhost:8080/"
        }
      },
      "outputs": [
        {
          "output_type": "execute_result",
          "data": {
            "text/plain": [
              "movieId    0\n",
              "title      0\n",
              "genres     0\n",
              "dtype: int64"
            ]
          },
          "metadata": {},
          "execution_count": 6
        }
      ],
      "source": [
        "movies.isna().sum()"
      ]
    },
    {
      "cell_type": "code",
      "execution_count": 7,
      "id": "4cfe4e14",
      "metadata": {
        "ExecuteTime": {
          "end_time": "2022-05-11T18:06:40.920420Z",
          "start_time": "2022-05-11T18:06:40.894986Z"
        },
        "id": "4cfe4e14",
        "outputId": "fde769c4-ba5b-43e2-a466-f05eba48dba3",
        "colab": {
          "base_uri": "https://localhost:8080/"
        }
      },
      "outputs": [
        {
          "output_type": "execute_result",
          "data": {
            "text/plain": [
              "Slow Burn (2000)                                            2\n",
              "Blackout (2007)                                             2\n",
              "20,000 Leagues Under the Sea (1997)                         2\n",
              "Beneath (2013)                                              2\n",
              "Deranged (2012)                                             2\n",
              "                                                           ..\n",
              "Euridice BA 2O37 (Evridiki BA 2O37) (1975)                  1\n",
              "Stoplight Society, The (La Sociedad del Semáforo) (2010)    1\n",
              "Flying Fleet, The (1929)                                    1\n",
              "Savages (2012)                                              1\n",
              "Leal (2018)                                                 1\n",
              "Name: title, Length: 58020, dtype: int64"
            ]
          },
          "metadata": {},
          "execution_count": 7
        }
      ],
      "source": [
        "movies.title.value_counts()"
      ]
    },
    {
      "cell_type": "code",
      "execution_count": 8,
      "id": "42982d3a",
      "metadata": {
        "ExecuteTime": {
          "end_time": "2022-05-11T18:06:41.109376Z",
          "start_time": "2022-05-11T18:06:41.099210Z"
        },
        "id": "42982d3a",
        "outputId": "89209700-a46d-4629-e940-a2750eb66697",
        "colab": {
          "base_uri": "https://localhost:8080/"
        }
      },
      "outputs": [
        {
          "output_type": "execute_result",
          "data": {
            "text/plain": [
              "78"
            ]
          },
          "metadata": {},
          "execution_count": 8
        }
      ],
      "source": [
        "movies.title.duplicated().sum()"
      ]
    },
    {
      "cell_type": "markdown",
      "id": "29447e9f",
      "metadata": {
        "id": "29447e9f"
      },
      "source": [
        "First, we established that there were **no nulls** in the data frame. Then we checked to see whether there were any **duplicates** by looking at the `value_counts` specific to *movie titles* and we noticed **78 duplicated data points**, so we dropped the duplicates present in the data. We then reconfirmed that our data had no duplicates and the size of new data frame without duplicates was **58020**, **78 less** than the original **58098**."
      ]
    },
    {
      "cell_type": "code",
      "execution_count": 9,
      "id": "04cf45d0",
      "metadata": {
        "ExecuteTime": {
          "end_time": "2022-05-11T18:06:41.332928Z",
          "start_time": "2022-05-11T18:06:41.315725Z"
        },
        "id": "04cf45d0"
      },
      "outputs": [],
      "source": [
        "#Drop the 78 duplicated movie titles\n",
        "movies.drop_duplicates(subset='title', inplace=True)"
      ]
    },
    {
      "cell_type": "code",
      "execution_count": 10,
      "id": "0e432c78",
      "metadata": {
        "ExecuteTime": {
          "end_time": "2022-05-11T18:06:41.486080Z",
          "start_time": "2022-05-11T18:06:41.474383Z"
        },
        "id": "0e432c78",
        "outputId": "a1ef1652-6533-4618-c7e7-f060a4e84cf5",
        "colab": {
          "base_uri": "https://localhost:8080/"
        }
      },
      "outputs": [
        {
          "output_type": "execute_result",
          "data": {
            "text/plain": [
              "0"
            ]
          },
          "metadata": {},
          "execution_count": 10
        }
      ],
      "source": [
        "#Sanity check to ensure all duplicates were dropped from title column\n",
        "\n",
        "movies.title.duplicated().sum()"
      ]
    },
    {
      "cell_type": "code",
      "execution_count": 11,
      "id": "11bfad1f",
      "metadata": {
        "ExecuteTime": {
          "end_time": "2022-05-11T18:06:41.663117Z",
          "start_time": "2022-05-11T18:06:41.643421Z"
        },
        "id": "11bfad1f",
        "outputId": "c3acedf0-da26-420c-fdd2-8d42fc04817b",
        "colab": {
          "base_uri": "https://localhost:8080/",
          "height": 49
        }
      },
      "outputs": [
        {
          "output_type": "execute_result",
          "data": {
            "text/plain": [
              "Empty DataFrame\n",
              "Columns: [movieId, title, genres]\n",
              "Index: []"
            ],
            "text/html": [
              "\n",
              "  <div id=\"df-e7a990c1-98ea-4362-812a-badefc04c615\">\n",
              "    <div class=\"colab-df-container\">\n",
              "      <div>\n",
              "<style scoped>\n",
              "    .dataframe tbody tr th:only-of-type {\n",
              "        vertical-align: middle;\n",
              "    }\n",
              "\n",
              "    .dataframe tbody tr th {\n",
              "        vertical-align: top;\n",
              "    }\n",
              "\n",
              "    .dataframe thead th {\n",
              "        text-align: right;\n",
              "    }\n",
              "</style>\n",
              "<table border=\"1\" class=\"dataframe\">\n",
              "  <thead>\n",
              "    <tr style=\"text-align: right;\">\n",
              "      <th></th>\n",
              "      <th>movieId</th>\n",
              "      <th>title</th>\n",
              "      <th>genres</th>\n",
              "    </tr>\n",
              "  </thead>\n",
              "  <tbody>\n",
              "  </tbody>\n",
              "</table>\n",
              "</div>\n",
              "      <button class=\"colab-df-convert\" onclick=\"convertToInteractive('df-e7a990c1-98ea-4362-812a-badefc04c615')\"\n",
              "              title=\"Convert this dataframe to an interactive table.\"\n",
              "              style=\"display:none;\">\n",
              "        \n",
              "  <svg xmlns=\"http://www.w3.org/2000/svg\" height=\"24px\"viewBox=\"0 0 24 24\"\n",
              "       width=\"24px\">\n",
              "    <path d=\"M0 0h24v24H0V0z\" fill=\"none\"/>\n",
              "    <path d=\"M18.56 5.44l.94 2.06.94-2.06 2.06-.94-2.06-.94-.94-2.06-.94 2.06-2.06.94zm-11 1L8.5 8.5l.94-2.06 2.06-.94-2.06-.94L8.5 2.5l-.94 2.06-2.06.94zm10 10l.94 2.06.94-2.06 2.06-.94-2.06-.94-.94-2.06-.94 2.06-2.06.94z\"/><path d=\"M17.41 7.96l-1.37-1.37c-.4-.4-.92-.59-1.43-.59-.52 0-1.04.2-1.43.59L10.3 9.45l-7.72 7.72c-.78.78-.78 2.05 0 2.83L4 21.41c.39.39.9.59 1.41.59.51 0 1.02-.2 1.41-.59l7.78-7.78 2.81-2.81c.8-.78.8-2.07 0-2.86zM5.41 20L4 18.59l7.72-7.72 1.47 1.35L5.41 20z\"/>\n",
              "  </svg>\n",
              "      </button>\n",
              "      \n",
              "  <style>\n",
              "    .colab-df-container {\n",
              "      display:flex;\n",
              "      flex-wrap:wrap;\n",
              "      gap: 12px;\n",
              "    }\n",
              "\n",
              "    .colab-df-convert {\n",
              "      background-color: #E8F0FE;\n",
              "      border: none;\n",
              "      border-radius: 50%;\n",
              "      cursor: pointer;\n",
              "      display: none;\n",
              "      fill: #1967D2;\n",
              "      height: 32px;\n",
              "      padding: 0 0 0 0;\n",
              "      width: 32px;\n",
              "    }\n",
              "\n",
              "    .colab-df-convert:hover {\n",
              "      background-color: #E2EBFA;\n",
              "      box-shadow: 0px 1px 2px rgba(60, 64, 67, 0.3), 0px 1px 3px 1px rgba(60, 64, 67, 0.15);\n",
              "      fill: #174EA6;\n",
              "    }\n",
              "\n",
              "    [theme=dark] .colab-df-convert {\n",
              "      background-color: #3B4455;\n",
              "      fill: #D2E3FC;\n",
              "    }\n",
              "\n",
              "    [theme=dark] .colab-df-convert:hover {\n",
              "      background-color: #434B5C;\n",
              "      box-shadow: 0px 1px 3px 1px rgba(0, 0, 0, 0.15);\n",
              "      filter: drop-shadow(0px 1px 2px rgba(0, 0, 0, 0.3));\n",
              "      fill: #FFFFFF;\n",
              "    }\n",
              "  </style>\n",
              "\n",
              "      <script>\n",
              "        const buttonEl =\n",
              "          document.querySelector('#df-e7a990c1-98ea-4362-812a-badefc04c615 button.colab-df-convert');\n",
              "        buttonEl.style.display =\n",
              "          google.colab.kernel.accessAllowed ? 'block' : 'none';\n",
              "\n",
              "        async function convertToInteractive(key) {\n",
              "          const element = document.querySelector('#df-e7a990c1-98ea-4362-812a-badefc04c615');\n",
              "          const dataTable =\n",
              "            await google.colab.kernel.invokeFunction('convertToInteractive',\n",
              "                                                     [key], {});\n",
              "          if (!dataTable) return;\n",
              "\n",
              "          const docLinkHtml = 'Like what you see? Visit the ' +\n",
              "            '<a target=\"_blank\" href=https://colab.research.google.com/notebooks/data_table.ipynb>data table notebook</a>'\n",
              "            + ' to learn more about interactive tables.';\n",
              "          element.innerHTML = '';\n",
              "          dataTable['output_type'] = 'display_data';\n",
              "          await google.colab.output.renderOutput(dataTable, element);\n",
              "          const docLink = document.createElement('div');\n",
              "          docLink.innerHTML = docLinkHtml;\n",
              "          element.appendChild(docLink);\n",
              "        }\n",
              "      </script>\n",
              "    </div>\n",
              "  </div>\n",
              "  "
            ]
          },
          "metadata": {},
          "execution_count": 11
        }
      ],
      "source": [
        "movies[movies.title.duplicated() == True]"
      ]
    },
    {
      "cell_type": "code",
      "execution_count": 12,
      "id": "2a1ffc53",
      "metadata": {
        "ExecuteTime": {
          "end_time": "2022-05-11T18:06:41.846938Z",
          "start_time": "2022-05-11T18:06:41.842824Z"
        },
        "id": "2a1ffc53",
        "outputId": "2d64ec5b-9add-4319-9fa8-711817ed5bfb",
        "colab": {
          "base_uri": "https://localhost:8080/"
        }
      },
      "outputs": [
        {
          "output_type": "execute_result",
          "data": {
            "text/plain": [
              "58020"
            ]
          },
          "metadata": {},
          "execution_count": 12
        }
      ],
      "source": [
        "len(movies)"
      ]
    },
    {
      "cell_type": "code",
      "execution_count": 13,
      "id": "4c1dbba4",
      "metadata": {
        "ExecuteTime": {
          "end_time": "2022-05-11T18:06:42.076781Z",
          "start_time": "2022-05-11T18:06:42.027407Z"
        },
        "id": "4c1dbba4"
      },
      "outputs": [],
      "source": [
        "# Split title column into two new columns: Title and year \n",
        "\n",
        "movies['Title'] = movies['title'].str.split('(', n=1, expand=True)[0]\n",
        "\n",
        "movies['year_released'] = movies['title'].str.split('(', n=1, expand=True)[1]"
      ]
    },
    {
      "cell_type": "markdown",
      "id": "aba71179",
      "metadata": {
        "id": "aba71179"
      },
      "source": [
        "We decided to format the `title` column, so we split it by the `delimiter '()'` so that we could separate the `title` and `year_released`. We felt that we wanted to isolate these two variables as we wanted to see what effect `year_released` would have on the model.  "
      ]
    },
    {
      "cell_type": "code",
      "execution_count": 14,
      "id": "a716f594",
      "metadata": {
        "ExecuteTime": {
          "end_time": "2022-05-11T18:06:42.240304Z",
          "start_time": "2022-05-11T18:06:42.229269Z"
        },
        "id": "a716f594"
      },
      "outputs": [],
      "source": [
        "# Drop original column title\n",
        "\n",
        "movies.drop(columns='title', inplace=True)"
      ]
    },
    {
      "cell_type": "code",
      "execution_count": 15,
      "id": "0adf9dd3",
      "metadata": {
        "ExecuteTime": {
          "end_time": "2022-05-11T18:06:42.470222Z",
          "start_time": "2022-05-11T18:06:42.448061Z"
        },
        "scrolled": true,
        "id": "0adf9dd3",
        "outputId": "bc2449fa-cec9-4e7d-ba68-35bb1e809ddb",
        "colab": {
          "base_uri": "https://localhost:8080/",
          "height": 624
        }
      },
      "outputs": [
        {
          "output_type": "execute_result",
          "data": {
            "text/plain": [
              "       movieId                                       genres  \\\n",
              "0            1  Adventure|Animation|Children|Comedy|Fantasy   \n",
              "1            2                   Adventure|Children|Fantasy   \n",
              "2            3                               Comedy|Romance   \n",
              "3            4                         Comedy|Drama|Romance   \n",
              "4            5                                       Comedy   \n",
              "...        ...                                          ...   \n",
              "58093   193876                           (no genres listed)   \n",
              "58094   193878                                       Comedy   \n",
              "58095   193880                                        Drama   \n",
              "58096   193882                Adventure|Drama|Horror|Sci-Fi   \n",
              "58097   193886                           Action|Crime|Drama   \n",
              "\n",
              "                                   Title year_released  \n",
              "0                             Toy Story          1995)  \n",
              "1                               Jumanji          1995)  \n",
              "2                      Grumpier Old Men          1995)  \n",
              "3                     Waiting to Exhale          1995)  \n",
              "4           Father of the Bride Part II          1995)  \n",
              "...                                  ...           ...  \n",
              "58093                  The Great Glinka          1946)  \n",
              "58094  Les tribulations d'une caissière          2011)  \n",
              "58095                 Her Name Was Mumu          2016)  \n",
              "58096                             Flora          2017)  \n",
              "58097                              Leal          2018)  \n",
              "\n",
              "[58020 rows x 4 columns]"
            ],
            "text/html": [
              "\n",
              "  <div id=\"df-001f65ee-b967-475f-bb50-9c0994077c0f\">\n",
              "    <div class=\"colab-df-container\">\n",
              "      <div>\n",
              "<style scoped>\n",
              "    .dataframe tbody tr th:only-of-type {\n",
              "        vertical-align: middle;\n",
              "    }\n",
              "\n",
              "    .dataframe tbody tr th {\n",
              "        vertical-align: top;\n",
              "    }\n",
              "\n",
              "    .dataframe thead th {\n",
              "        text-align: right;\n",
              "    }\n",
              "</style>\n",
              "<table border=\"1\" class=\"dataframe\">\n",
              "  <thead>\n",
              "    <tr style=\"text-align: right;\">\n",
              "      <th></th>\n",
              "      <th>movieId</th>\n",
              "      <th>genres</th>\n",
              "      <th>Title</th>\n",
              "      <th>year_released</th>\n",
              "    </tr>\n",
              "  </thead>\n",
              "  <tbody>\n",
              "    <tr>\n",
              "      <th>0</th>\n",
              "      <td>1</td>\n",
              "      <td>Adventure|Animation|Children|Comedy|Fantasy</td>\n",
              "      <td>Toy Story</td>\n",
              "      <td>1995)</td>\n",
              "    </tr>\n",
              "    <tr>\n",
              "      <th>1</th>\n",
              "      <td>2</td>\n",
              "      <td>Adventure|Children|Fantasy</td>\n",
              "      <td>Jumanji</td>\n",
              "      <td>1995)</td>\n",
              "    </tr>\n",
              "    <tr>\n",
              "      <th>2</th>\n",
              "      <td>3</td>\n",
              "      <td>Comedy|Romance</td>\n",
              "      <td>Grumpier Old Men</td>\n",
              "      <td>1995)</td>\n",
              "    </tr>\n",
              "    <tr>\n",
              "      <th>3</th>\n",
              "      <td>4</td>\n",
              "      <td>Comedy|Drama|Romance</td>\n",
              "      <td>Waiting to Exhale</td>\n",
              "      <td>1995)</td>\n",
              "    </tr>\n",
              "    <tr>\n",
              "      <th>4</th>\n",
              "      <td>5</td>\n",
              "      <td>Comedy</td>\n",
              "      <td>Father of the Bride Part II</td>\n",
              "      <td>1995)</td>\n",
              "    </tr>\n",
              "    <tr>\n",
              "      <th>...</th>\n",
              "      <td>...</td>\n",
              "      <td>...</td>\n",
              "      <td>...</td>\n",
              "      <td>...</td>\n",
              "    </tr>\n",
              "    <tr>\n",
              "      <th>58093</th>\n",
              "      <td>193876</td>\n",
              "      <td>(no genres listed)</td>\n",
              "      <td>The Great Glinka</td>\n",
              "      <td>1946)</td>\n",
              "    </tr>\n",
              "    <tr>\n",
              "      <th>58094</th>\n",
              "      <td>193878</td>\n",
              "      <td>Comedy</td>\n",
              "      <td>Les tribulations d'une caissière</td>\n",
              "      <td>2011)</td>\n",
              "    </tr>\n",
              "    <tr>\n",
              "      <th>58095</th>\n",
              "      <td>193880</td>\n",
              "      <td>Drama</td>\n",
              "      <td>Her Name Was Mumu</td>\n",
              "      <td>2016)</td>\n",
              "    </tr>\n",
              "    <tr>\n",
              "      <th>58096</th>\n",
              "      <td>193882</td>\n",
              "      <td>Adventure|Drama|Horror|Sci-Fi</td>\n",
              "      <td>Flora</td>\n",
              "      <td>2017)</td>\n",
              "    </tr>\n",
              "    <tr>\n",
              "      <th>58097</th>\n",
              "      <td>193886</td>\n",
              "      <td>Action|Crime|Drama</td>\n",
              "      <td>Leal</td>\n",
              "      <td>2018)</td>\n",
              "    </tr>\n",
              "  </tbody>\n",
              "</table>\n",
              "<p>58020 rows × 4 columns</p>\n",
              "</div>\n",
              "      <button class=\"colab-df-convert\" onclick=\"convertToInteractive('df-001f65ee-b967-475f-bb50-9c0994077c0f')\"\n",
              "              title=\"Convert this dataframe to an interactive table.\"\n",
              "              style=\"display:none;\">\n",
              "        \n",
              "  <svg xmlns=\"http://www.w3.org/2000/svg\" height=\"24px\"viewBox=\"0 0 24 24\"\n",
              "       width=\"24px\">\n",
              "    <path d=\"M0 0h24v24H0V0z\" fill=\"none\"/>\n",
              "    <path d=\"M18.56 5.44l.94 2.06.94-2.06 2.06-.94-2.06-.94-.94-2.06-.94 2.06-2.06.94zm-11 1L8.5 8.5l.94-2.06 2.06-.94-2.06-.94L8.5 2.5l-.94 2.06-2.06.94zm10 10l.94 2.06.94-2.06 2.06-.94-2.06-.94-.94-2.06-.94 2.06-2.06.94z\"/><path d=\"M17.41 7.96l-1.37-1.37c-.4-.4-.92-.59-1.43-.59-.52 0-1.04.2-1.43.59L10.3 9.45l-7.72 7.72c-.78.78-.78 2.05 0 2.83L4 21.41c.39.39.9.59 1.41.59.51 0 1.02-.2 1.41-.59l7.78-7.78 2.81-2.81c.8-.78.8-2.07 0-2.86zM5.41 20L4 18.59l7.72-7.72 1.47 1.35L5.41 20z\"/>\n",
              "  </svg>\n",
              "      </button>\n",
              "      \n",
              "  <style>\n",
              "    .colab-df-container {\n",
              "      display:flex;\n",
              "      flex-wrap:wrap;\n",
              "      gap: 12px;\n",
              "    }\n",
              "\n",
              "    .colab-df-convert {\n",
              "      background-color: #E8F0FE;\n",
              "      border: none;\n",
              "      border-radius: 50%;\n",
              "      cursor: pointer;\n",
              "      display: none;\n",
              "      fill: #1967D2;\n",
              "      height: 32px;\n",
              "      padding: 0 0 0 0;\n",
              "      width: 32px;\n",
              "    }\n",
              "\n",
              "    .colab-df-convert:hover {\n",
              "      background-color: #E2EBFA;\n",
              "      box-shadow: 0px 1px 2px rgba(60, 64, 67, 0.3), 0px 1px 3px 1px rgba(60, 64, 67, 0.15);\n",
              "      fill: #174EA6;\n",
              "    }\n",
              "\n",
              "    [theme=dark] .colab-df-convert {\n",
              "      background-color: #3B4455;\n",
              "      fill: #D2E3FC;\n",
              "    }\n",
              "\n",
              "    [theme=dark] .colab-df-convert:hover {\n",
              "      background-color: #434B5C;\n",
              "      box-shadow: 0px 1px 3px 1px rgba(0, 0, 0, 0.15);\n",
              "      filter: drop-shadow(0px 1px 2px rgba(0, 0, 0, 0.3));\n",
              "      fill: #FFFFFF;\n",
              "    }\n",
              "  </style>\n",
              "\n",
              "      <script>\n",
              "        const buttonEl =\n",
              "          document.querySelector('#df-001f65ee-b967-475f-bb50-9c0994077c0f button.colab-df-convert');\n",
              "        buttonEl.style.display =\n",
              "          google.colab.kernel.accessAllowed ? 'block' : 'none';\n",
              "\n",
              "        async function convertToInteractive(key) {\n",
              "          const element = document.querySelector('#df-001f65ee-b967-475f-bb50-9c0994077c0f');\n",
              "          const dataTable =\n",
              "            await google.colab.kernel.invokeFunction('convertToInteractive',\n",
              "                                                     [key], {});\n",
              "          if (!dataTable) return;\n",
              "\n",
              "          const docLinkHtml = 'Like what you see? Visit the ' +\n",
              "            '<a target=\"_blank\" href=https://colab.research.google.com/notebooks/data_table.ipynb>data table notebook</a>'\n",
              "            + ' to learn more about interactive tables.';\n",
              "          element.innerHTML = '';\n",
              "          dataTable['output_type'] = 'display_data';\n",
              "          await google.colab.output.renderOutput(dataTable, element);\n",
              "          const docLink = document.createElement('div');\n",
              "          docLink.innerHTML = docLinkHtml;\n",
              "          element.appendChild(docLink);\n",
              "        }\n",
              "      </script>\n",
              "    </div>\n",
              "  </div>\n",
              "  "
            ]
          },
          "metadata": {},
          "execution_count": 15
        }
      ],
      "source": [
        "# Sanity Check \n",
        "movies"
      ]
    },
    {
      "cell_type": "code",
      "source": [
        "movies[movies['genres'] == '(no genres listed)'\t]"
      ],
      "metadata": {
        "id": "bZayaJc3sVaQ",
        "outputId": "d2e45424-15cb-4cb1-d534-30fbd7d2720f",
        "colab": {
          "base_uri": "https://localhost:8080/",
          "height": 468
        }
      },
      "id": "bZayaJc3sVaQ",
      "execution_count": 16,
      "outputs": [
        {
          "output_type": "execute_result",
          "data": {
            "text/plain": [
              "       movieId              genres                        Title  \\\n",
              "16662    83773  (no genres listed)             Away with Words    \n",
              "16677    83829  (no genres listed)              Scorpio Rising    \n",
              "16856    84768  (no genres listed)                  Glitterbug    \n",
              "17178    86493  (no genres listed)       Age of the Earth, The    \n",
              "17343    87061  (no genres listed)                      Trails    \n",
              "...        ...                 ...                          ...   \n",
              "58064   193815  (no genres listed)               Tempting Fate    \n",
              "58079   193849  (no genres listed)   Rafinha Bastos: Ultimatum    \n",
              "58082   193855  (no genres listed)  Spring Night, Summer Night    \n",
              "58090   193870  (no genres listed)          Isabelle Eberhardt    \n",
              "58093   193876  (no genres listed)            The Great Glinka    \n",
              "\n",
              "                  year_released  \n",
              "16662      San tiao ren) (1999)  \n",
              "16677                     1964)  \n",
              "16856                     1994)  \n",
              "17178  A Idade da Terra) (1980)  \n",
              "17343           Veredas) (1978)  \n",
              "...                         ...  \n",
              "58064                     1998)  \n",
              "58079                     2018)  \n",
              "58082                     1967)  \n",
              "58090                     1991)  \n",
              "58093                     1946)  \n",
              "\n",
              "[4258 rows x 4 columns]"
            ],
            "text/html": [
              "\n",
              "  <div id=\"df-62d460a9-b498-4293-abb1-b74fae008b82\">\n",
              "    <div class=\"colab-df-container\">\n",
              "      <div>\n",
              "<style scoped>\n",
              "    .dataframe tbody tr th:only-of-type {\n",
              "        vertical-align: middle;\n",
              "    }\n",
              "\n",
              "    .dataframe tbody tr th {\n",
              "        vertical-align: top;\n",
              "    }\n",
              "\n",
              "    .dataframe thead th {\n",
              "        text-align: right;\n",
              "    }\n",
              "</style>\n",
              "<table border=\"1\" class=\"dataframe\">\n",
              "  <thead>\n",
              "    <tr style=\"text-align: right;\">\n",
              "      <th></th>\n",
              "      <th>movieId</th>\n",
              "      <th>genres</th>\n",
              "      <th>Title</th>\n",
              "      <th>year_released</th>\n",
              "    </tr>\n",
              "  </thead>\n",
              "  <tbody>\n",
              "    <tr>\n",
              "      <th>16662</th>\n",
              "      <td>83773</td>\n",
              "      <td>(no genres listed)</td>\n",
              "      <td>Away with Words</td>\n",
              "      <td>San tiao ren) (1999)</td>\n",
              "    </tr>\n",
              "    <tr>\n",
              "      <th>16677</th>\n",
              "      <td>83829</td>\n",
              "      <td>(no genres listed)</td>\n",
              "      <td>Scorpio Rising</td>\n",
              "      <td>1964)</td>\n",
              "    </tr>\n",
              "    <tr>\n",
              "      <th>16856</th>\n",
              "      <td>84768</td>\n",
              "      <td>(no genres listed)</td>\n",
              "      <td>Glitterbug</td>\n",
              "      <td>1994)</td>\n",
              "    </tr>\n",
              "    <tr>\n",
              "      <th>17178</th>\n",
              "      <td>86493</td>\n",
              "      <td>(no genres listed)</td>\n",
              "      <td>Age of the Earth, The</td>\n",
              "      <td>A Idade da Terra) (1980)</td>\n",
              "    </tr>\n",
              "    <tr>\n",
              "      <th>17343</th>\n",
              "      <td>87061</td>\n",
              "      <td>(no genres listed)</td>\n",
              "      <td>Trails</td>\n",
              "      <td>Veredas) (1978)</td>\n",
              "    </tr>\n",
              "    <tr>\n",
              "      <th>...</th>\n",
              "      <td>...</td>\n",
              "      <td>...</td>\n",
              "      <td>...</td>\n",
              "      <td>...</td>\n",
              "    </tr>\n",
              "    <tr>\n",
              "      <th>58064</th>\n",
              "      <td>193815</td>\n",
              "      <td>(no genres listed)</td>\n",
              "      <td>Tempting Fate</td>\n",
              "      <td>1998)</td>\n",
              "    </tr>\n",
              "    <tr>\n",
              "      <th>58079</th>\n",
              "      <td>193849</td>\n",
              "      <td>(no genres listed)</td>\n",
              "      <td>Rafinha Bastos: Ultimatum</td>\n",
              "      <td>2018)</td>\n",
              "    </tr>\n",
              "    <tr>\n",
              "      <th>58082</th>\n",
              "      <td>193855</td>\n",
              "      <td>(no genres listed)</td>\n",
              "      <td>Spring Night, Summer Night</td>\n",
              "      <td>1967)</td>\n",
              "    </tr>\n",
              "    <tr>\n",
              "      <th>58090</th>\n",
              "      <td>193870</td>\n",
              "      <td>(no genres listed)</td>\n",
              "      <td>Isabelle Eberhardt</td>\n",
              "      <td>1991)</td>\n",
              "    </tr>\n",
              "    <tr>\n",
              "      <th>58093</th>\n",
              "      <td>193876</td>\n",
              "      <td>(no genres listed)</td>\n",
              "      <td>The Great Glinka</td>\n",
              "      <td>1946)</td>\n",
              "    </tr>\n",
              "  </tbody>\n",
              "</table>\n",
              "<p>4258 rows × 4 columns</p>\n",
              "</div>\n",
              "      <button class=\"colab-df-convert\" onclick=\"convertToInteractive('df-62d460a9-b498-4293-abb1-b74fae008b82')\"\n",
              "              title=\"Convert this dataframe to an interactive table.\"\n",
              "              style=\"display:none;\">\n",
              "        \n",
              "  <svg xmlns=\"http://www.w3.org/2000/svg\" height=\"24px\"viewBox=\"0 0 24 24\"\n",
              "       width=\"24px\">\n",
              "    <path d=\"M0 0h24v24H0V0z\" fill=\"none\"/>\n",
              "    <path d=\"M18.56 5.44l.94 2.06.94-2.06 2.06-.94-2.06-.94-.94-2.06-.94 2.06-2.06.94zm-11 1L8.5 8.5l.94-2.06 2.06-.94-2.06-.94L8.5 2.5l-.94 2.06-2.06.94zm10 10l.94 2.06.94-2.06 2.06-.94-2.06-.94-.94-2.06-.94 2.06-2.06.94z\"/><path d=\"M17.41 7.96l-1.37-1.37c-.4-.4-.92-.59-1.43-.59-.52 0-1.04.2-1.43.59L10.3 9.45l-7.72 7.72c-.78.78-.78 2.05 0 2.83L4 21.41c.39.39.9.59 1.41.59.51 0 1.02-.2 1.41-.59l7.78-7.78 2.81-2.81c.8-.78.8-2.07 0-2.86zM5.41 20L4 18.59l7.72-7.72 1.47 1.35L5.41 20z\"/>\n",
              "  </svg>\n",
              "      </button>\n",
              "      \n",
              "  <style>\n",
              "    .colab-df-container {\n",
              "      display:flex;\n",
              "      flex-wrap:wrap;\n",
              "      gap: 12px;\n",
              "    }\n",
              "\n",
              "    .colab-df-convert {\n",
              "      background-color: #E8F0FE;\n",
              "      border: none;\n",
              "      border-radius: 50%;\n",
              "      cursor: pointer;\n",
              "      display: none;\n",
              "      fill: #1967D2;\n",
              "      height: 32px;\n",
              "      padding: 0 0 0 0;\n",
              "      width: 32px;\n",
              "    }\n",
              "\n",
              "    .colab-df-convert:hover {\n",
              "      background-color: #E2EBFA;\n",
              "      box-shadow: 0px 1px 2px rgba(60, 64, 67, 0.3), 0px 1px 3px 1px rgba(60, 64, 67, 0.15);\n",
              "      fill: #174EA6;\n",
              "    }\n",
              "\n",
              "    [theme=dark] .colab-df-convert {\n",
              "      background-color: #3B4455;\n",
              "      fill: #D2E3FC;\n",
              "    }\n",
              "\n",
              "    [theme=dark] .colab-df-convert:hover {\n",
              "      background-color: #434B5C;\n",
              "      box-shadow: 0px 1px 3px 1px rgba(0, 0, 0, 0.15);\n",
              "      filter: drop-shadow(0px 1px 2px rgba(0, 0, 0, 0.3));\n",
              "      fill: #FFFFFF;\n",
              "    }\n",
              "  </style>\n",
              "\n",
              "      <script>\n",
              "        const buttonEl =\n",
              "          document.querySelector('#df-62d460a9-b498-4293-abb1-b74fae008b82 button.colab-df-convert');\n",
              "        buttonEl.style.display =\n",
              "          google.colab.kernel.accessAllowed ? 'block' : 'none';\n",
              "\n",
              "        async function convertToInteractive(key) {\n",
              "          const element = document.querySelector('#df-62d460a9-b498-4293-abb1-b74fae008b82');\n",
              "          const dataTable =\n",
              "            await google.colab.kernel.invokeFunction('convertToInteractive',\n",
              "                                                     [key], {});\n",
              "          if (!dataTable) return;\n",
              "\n",
              "          const docLinkHtml = 'Like what you see? Visit the ' +\n",
              "            '<a target=\"_blank\" href=https://colab.research.google.com/notebooks/data_table.ipynb>data table notebook</a>'\n",
              "            + ' to learn more about interactive tables.';\n",
              "          element.innerHTML = '';\n",
              "          dataTable['output_type'] = 'display_data';\n",
              "          await google.colab.output.renderOutput(dataTable, element);\n",
              "          const docLink = document.createElement('div');\n",
              "          docLink.innerHTML = docLinkHtml;\n",
              "          element.appendChild(docLink);\n",
              "        }\n",
              "      </script>\n",
              "    </div>\n",
              "  </div>\n",
              "  "
            ]
          },
          "metadata": {},
          "execution_count": 16
        }
      ]
    },
    {
      "cell_type": "markdown",
      "id": "cf9f778f",
      "metadata": {
        "id": "cf9f778f"
      },
      "source": [
        "When we originally ran the formatting code, it didn't delete the *close* parenthesis, so we had to write additional code above to fix that and ensure clean data. "
      ]
    },
    {
      "cell_type": "code",
      "execution_count": 17,
      "id": "096a36f6",
      "metadata": {
        "ExecuteTime": {
          "end_time": "2022-05-11T18:06:42.951505Z",
          "start_time": "2022-05-11T18:06:42.929991Z"
        },
        "id": "096a36f6",
        "outputId": "b22b2a7c-5a69-4cb6-ebb7-4c4a6dc85e81",
        "colab": {
          "base_uri": "https://localhost:8080/"
        }
      },
      "outputs": [
        {
          "output_type": "stream",
          "name": "stderr",
          "text": [
            "/usr/local/lib/python3.7/dist-packages/ipykernel_launcher.py:3: FutureWarning: The default value of regex will change from True to False in a future version. In addition, single character regular expressions will *not* be treated as literal strings when regex=True.\n",
            "  This is separate from the ipykernel package so we can avoid doing imports until\n"
          ]
        }
      ],
      "source": [
        "# Format year_released column\n",
        "\n",
        "movies['year_released'] = movies.year_released.str.replace(')', '')"
      ]
    },
    {
      "cell_type": "code",
      "execution_count": 18,
      "id": "e153caaf",
      "metadata": {
        "ExecuteTime": {
          "end_time": "2022-05-11T18:06:43.397520Z",
          "start_time": "2022-05-11T18:06:43.374540Z"
        },
        "id": "e153caaf",
        "outputId": "a9ce3f5f-6254-42b8-d9c0-45b02aac14a8",
        "colab": {
          "base_uri": "https://localhost:8080/",
          "height": 624
        }
      },
      "outputs": [
        {
          "output_type": "execute_result",
          "data": {
            "text/plain": [
              "       movieId                                       genres  \\\n",
              "0            1  Adventure|Animation|Children|Comedy|Fantasy   \n",
              "1            2                   Adventure|Children|Fantasy   \n",
              "2            3                               Comedy|Romance   \n",
              "3            4                         Comedy|Drama|Romance   \n",
              "4            5                                       Comedy   \n",
              "...        ...                                          ...   \n",
              "58093   193876                           (no genres listed)   \n",
              "58094   193878                                       Comedy   \n",
              "58095   193880                                        Drama   \n",
              "58096   193882                Adventure|Drama|Horror|Sci-Fi   \n",
              "58097   193886                           Action|Crime|Drama   \n",
              "\n",
              "                                   Title year_released  \n",
              "0                             Toy Story           1995  \n",
              "1                               Jumanji           1995  \n",
              "2                      Grumpier Old Men           1995  \n",
              "3                     Waiting to Exhale           1995  \n",
              "4           Father of the Bride Part II           1995  \n",
              "...                                  ...           ...  \n",
              "58093                  The Great Glinka           1946  \n",
              "58094  Les tribulations d'une caissière           2011  \n",
              "58095                 Her Name Was Mumu           2016  \n",
              "58096                             Flora           2017  \n",
              "58097                              Leal           2018  \n",
              "\n",
              "[58020 rows x 4 columns]"
            ],
            "text/html": [
              "\n",
              "  <div id=\"df-aa3281a5-dbc4-4743-ad1c-28ede2b8ca8d\">\n",
              "    <div class=\"colab-df-container\">\n",
              "      <div>\n",
              "<style scoped>\n",
              "    .dataframe tbody tr th:only-of-type {\n",
              "        vertical-align: middle;\n",
              "    }\n",
              "\n",
              "    .dataframe tbody tr th {\n",
              "        vertical-align: top;\n",
              "    }\n",
              "\n",
              "    .dataframe thead th {\n",
              "        text-align: right;\n",
              "    }\n",
              "</style>\n",
              "<table border=\"1\" class=\"dataframe\">\n",
              "  <thead>\n",
              "    <tr style=\"text-align: right;\">\n",
              "      <th></th>\n",
              "      <th>movieId</th>\n",
              "      <th>genres</th>\n",
              "      <th>Title</th>\n",
              "      <th>year_released</th>\n",
              "    </tr>\n",
              "  </thead>\n",
              "  <tbody>\n",
              "    <tr>\n",
              "      <th>0</th>\n",
              "      <td>1</td>\n",
              "      <td>Adventure|Animation|Children|Comedy|Fantasy</td>\n",
              "      <td>Toy Story</td>\n",
              "      <td>1995</td>\n",
              "    </tr>\n",
              "    <tr>\n",
              "      <th>1</th>\n",
              "      <td>2</td>\n",
              "      <td>Adventure|Children|Fantasy</td>\n",
              "      <td>Jumanji</td>\n",
              "      <td>1995</td>\n",
              "    </tr>\n",
              "    <tr>\n",
              "      <th>2</th>\n",
              "      <td>3</td>\n",
              "      <td>Comedy|Romance</td>\n",
              "      <td>Grumpier Old Men</td>\n",
              "      <td>1995</td>\n",
              "    </tr>\n",
              "    <tr>\n",
              "      <th>3</th>\n",
              "      <td>4</td>\n",
              "      <td>Comedy|Drama|Romance</td>\n",
              "      <td>Waiting to Exhale</td>\n",
              "      <td>1995</td>\n",
              "    </tr>\n",
              "    <tr>\n",
              "      <th>4</th>\n",
              "      <td>5</td>\n",
              "      <td>Comedy</td>\n",
              "      <td>Father of the Bride Part II</td>\n",
              "      <td>1995</td>\n",
              "    </tr>\n",
              "    <tr>\n",
              "      <th>...</th>\n",
              "      <td>...</td>\n",
              "      <td>...</td>\n",
              "      <td>...</td>\n",
              "      <td>...</td>\n",
              "    </tr>\n",
              "    <tr>\n",
              "      <th>58093</th>\n",
              "      <td>193876</td>\n",
              "      <td>(no genres listed)</td>\n",
              "      <td>The Great Glinka</td>\n",
              "      <td>1946</td>\n",
              "    </tr>\n",
              "    <tr>\n",
              "      <th>58094</th>\n",
              "      <td>193878</td>\n",
              "      <td>Comedy</td>\n",
              "      <td>Les tribulations d'une caissière</td>\n",
              "      <td>2011</td>\n",
              "    </tr>\n",
              "    <tr>\n",
              "      <th>58095</th>\n",
              "      <td>193880</td>\n",
              "      <td>Drama</td>\n",
              "      <td>Her Name Was Mumu</td>\n",
              "      <td>2016</td>\n",
              "    </tr>\n",
              "    <tr>\n",
              "      <th>58096</th>\n",
              "      <td>193882</td>\n",
              "      <td>Adventure|Drama|Horror|Sci-Fi</td>\n",
              "      <td>Flora</td>\n",
              "      <td>2017</td>\n",
              "    </tr>\n",
              "    <tr>\n",
              "      <th>58097</th>\n",
              "      <td>193886</td>\n",
              "      <td>Action|Crime|Drama</td>\n",
              "      <td>Leal</td>\n",
              "      <td>2018</td>\n",
              "    </tr>\n",
              "  </tbody>\n",
              "</table>\n",
              "<p>58020 rows × 4 columns</p>\n",
              "</div>\n",
              "      <button class=\"colab-df-convert\" onclick=\"convertToInteractive('df-aa3281a5-dbc4-4743-ad1c-28ede2b8ca8d')\"\n",
              "              title=\"Convert this dataframe to an interactive table.\"\n",
              "              style=\"display:none;\">\n",
              "        \n",
              "  <svg xmlns=\"http://www.w3.org/2000/svg\" height=\"24px\"viewBox=\"0 0 24 24\"\n",
              "       width=\"24px\">\n",
              "    <path d=\"M0 0h24v24H0V0z\" fill=\"none\"/>\n",
              "    <path d=\"M18.56 5.44l.94 2.06.94-2.06 2.06-.94-2.06-.94-.94-2.06-.94 2.06-2.06.94zm-11 1L8.5 8.5l.94-2.06 2.06-.94-2.06-.94L8.5 2.5l-.94 2.06-2.06.94zm10 10l.94 2.06.94-2.06 2.06-.94-2.06-.94-.94-2.06-.94 2.06-2.06.94z\"/><path d=\"M17.41 7.96l-1.37-1.37c-.4-.4-.92-.59-1.43-.59-.52 0-1.04.2-1.43.59L10.3 9.45l-7.72 7.72c-.78.78-.78 2.05 0 2.83L4 21.41c.39.39.9.59 1.41.59.51 0 1.02-.2 1.41-.59l7.78-7.78 2.81-2.81c.8-.78.8-2.07 0-2.86zM5.41 20L4 18.59l7.72-7.72 1.47 1.35L5.41 20z\"/>\n",
              "  </svg>\n",
              "      </button>\n",
              "      \n",
              "  <style>\n",
              "    .colab-df-container {\n",
              "      display:flex;\n",
              "      flex-wrap:wrap;\n",
              "      gap: 12px;\n",
              "    }\n",
              "\n",
              "    .colab-df-convert {\n",
              "      background-color: #E8F0FE;\n",
              "      border: none;\n",
              "      border-radius: 50%;\n",
              "      cursor: pointer;\n",
              "      display: none;\n",
              "      fill: #1967D2;\n",
              "      height: 32px;\n",
              "      padding: 0 0 0 0;\n",
              "      width: 32px;\n",
              "    }\n",
              "\n",
              "    .colab-df-convert:hover {\n",
              "      background-color: #E2EBFA;\n",
              "      box-shadow: 0px 1px 2px rgba(60, 64, 67, 0.3), 0px 1px 3px 1px rgba(60, 64, 67, 0.15);\n",
              "      fill: #174EA6;\n",
              "    }\n",
              "\n",
              "    [theme=dark] .colab-df-convert {\n",
              "      background-color: #3B4455;\n",
              "      fill: #D2E3FC;\n",
              "    }\n",
              "\n",
              "    [theme=dark] .colab-df-convert:hover {\n",
              "      background-color: #434B5C;\n",
              "      box-shadow: 0px 1px 3px 1px rgba(0, 0, 0, 0.15);\n",
              "      filter: drop-shadow(0px 1px 2px rgba(0, 0, 0, 0.3));\n",
              "      fill: #FFFFFF;\n",
              "    }\n",
              "  </style>\n",
              "\n",
              "      <script>\n",
              "        const buttonEl =\n",
              "          document.querySelector('#df-aa3281a5-dbc4-4743-ad1c-28ede2b8ca8d button.colab-df-convert');\n",
              "        buttonEl.style.display =\n",
              "          google.colab.kernel.accessAllowed ? 'block' : 'none';\n",
              "\n",
              "        async function convertToInteractive(key) {\n",
              "          const element = document.querySelector('#df-aa3281a5-dbc4-4743-ad1c-28ede2b8ca8d');\n",
              "          const dataTable =\n",
              "            await google.colab.kernel.invokeFunction('convertToInteractive',\n",
              "                                                     [key], {});\n",
              "          if (!dataTable) return;\n",
              "\n",
              "          const docLinkHtml = 'Like what you see? Visit the ' +\n",
              "            '<a target=\"_blank\" href=https://colab.research.google.com/notebooks/data_table.ipynb>data table notebook</a>'\n",
              "            + ' to learn more about interactive tables.';\n",
              "          element.innerHTML = '';\n",
              "          dataTable['output_type'] = 'display_data';\n",
              "          await google.colab.output.renderOutput(dataTable, element);\n",
              "          const docLink = document.createElement('div');\n",
              "          docLink.innerHTML = docLinkHtml;\n",
              "          element.appendChild(docLink);\n",
              "        }\n",
              "      </script>\n",
              "    </div>\n",
              "  </div>\n",
              "  "
            ]
          },
          "metadata": {},
          "execution_count": 18
        }
      ],
      "source": [
        "# Sanity Check to ensure formatting was completed\n",
        "movies"
      ]
    },
    {
      "cell_type": "code",
      "execution_count": 19,
      "id": "5bec9d6e",
      "metadata": {
        "ExecuteTime": {
          "end_time": "2022-05-11T18:06:43.611404Z",
          "start_time": "2022-05-11T18:06:43.595162Z"
        },
        "id": "5bec9d6e"
      },
      "outputs": [],
      "source": [
        "movies['genres']=[row.strip().lower().replace('|',', ') for row in movies['genres']]"
      ]
    },
    {
      "cell_type": "markdown",
      "id": "6b34d38e",
      "metadata": {
        "id": "6b34d38e"
      },
      "source": [
        "The code above is to change the genres from its current format into a list that we can iterate over in our final function"
      ]
    },
    {
      "cell_type": "code",
      "execution_count": 20,
      "id": "7f0ce9ac",
      "metadata": {
        "ExecuteTime": {
          "end_time": "2022-05-11T18:06:43.857808Z",
          "start_time": "2022-05-11T18:06:43.837110Z"
        },
        "id": "7f0ce9ac",
        "outputId": "fff3ef0f-1823-4911-8ac5-e88e234136f8",
        "colab": {
          "base_uri": "https://localhost:8080/",
          "height": 520
        }
      },
      "outputs": [
        {
          "output_type": "execute_result",
          "data": {
            "text/plain": [
              "       movieId                                           genres  \\\n",
              "0            1  adventure, animation, children, comedy, fantasy   \n",
              "1            2                     adventure, children, fantasy   \n",
              "2            3                                  comedy, romance   \n",
              "3            4                           comedy, drama, romance   \n",
              "4            5                                           comedy   \n",
              "...        ...                                              ...   \n",
              "58093   193876                               (no genres listed)   \n",
              "58094   193878                                           comedy   \n",
              "58095   193880                                            drama   \n",
              "58096   193882                 adventure, drama, horror, sci-fi   \n",
              "58097   193886                             action, crime, drama   \n",
              "\n",
              "                                   Title year_released  \n",
              "0                             Toy Story           1995  \n",
              "1                               Jumanji           1995  \n",
              "2                      Grumpier Old Men           1995  \n",
              "3                     Waiting to Exhale           1995  \n",
              "4           Father of the Bride Part II           1995  \n",
              "...                                  ...           ...  \n",
              "58093                  The Great Glinka           1946  \n",
              "58094  Les tribulations d'une caissière           2011  \n",
              "58095                 Her Name Was Mumu           2016  \n",
              "58096                             Flora           2017  \n",
              "58097                              Leal           2018  \n",
              "\n",
              "[58020 rows x 4 columns]"
            ],
            "text/html": [
              "\n",
              "  <div id=\"df-ea7fd44b-a1cf-4e7c-8f31-a16cba714ce0\">\n",
              "    <div class=\"colab-df-container\">\n",
              "      <div>\n",
              "<style scoped>\n",
              "    .dataframe tbody tr th:only-of-type {\n",
              "        vertical-align: middle;\n",
              "    }\n",
              "\n",
              "    .dataframe tbody tr th {\n",
              "        vertical-align: top;\n",
              "    }\n",
              "\n",
              "    .dataframe thead th {\n",
              "        text-align: right;\n",
              "    }\n",
              "</style>\n",
              "<table border=\"1\" class=\"dataframe\">\n",
              "  <thead>\n",
              "    <tr style=\"text-align: right;\">\n",
              "      <th></th>\n",
              "      <th>movieId</th>\n",
              "      <th>genres</th>\n",
              "      <th>Title</th>\n",
              "      <th>year_released</th>\n",
              "    </tr>\n",
              "  </thead>\n",
              "  <tbody>\n",
              "    <tr>\n",
              "      <th>0</th>\n",
              "      <td>1</td>\n",
              "      <td>adventure, animation, children, comedy, fantasy</td>\n",
              "      <td>Toy Story</td>\n",
              "      <td>1995</td>\n",
              "    </tr>\n",
              "    <tr>\n",
              "      <th>1</th>\n",
              "      <td>2</td>\n",
              "      <td>adventure, children, fantasy</td>\n",
              "      <td>Jumanji</td>\n",
              "      <td>1995</td>\n",
              "    </tr>\n",
              "    <tr>\n",
              "      <th>2</th>\n",
              "      <td>3</td>\n",
              "      <td>comedy, romance</td>\n",
              "      <td>Grumpier Old Men</td>\n",
              "      <td>1995</td>\n",
              "    </tr>\n",
              "    <tr>\n",
              "      <th>3</th>\n",
              "      <td>4</td>\n",
              "      <td>comedy, drama, romance</td>\n",
              "      <td>Waiting to Exhale</td>\n",
              "      <td>1995</td>\n",
              "    </tr>\n",
              "    <tr>\n",
              "      <th>4</th>\n",
              "      <td>5</td>\n",
              "      <td>comedy</td>\n",
              "      <td>Father of the Bride Part II</td>\n",
              "      <td>1995</td>\n",
              "    </tr>\n",
              "    <tr>\n",
              "      <th>...</th>\n",
              "      <td>...</td>\n",
              "      <td>...</td>\n",
              "      <td>...</td>\n",
              "      <td>...</td>\n",
              "    </tr>\n",
              "    <tr>\n",
              "      <th>58093</th>\n",
              "      <td>193876</td>\n",
              "      <td>(no genres listed)</td>\n",
              "      <td>The Great Glinka</td>\n",
              "      <td>1946</td>\n",
              "    </tr>\n",
              "    <tr>\n",
              "      <th>58094</th>\n",
              "      <td>193878</td>\n",
              "      <td>comedy</td>\n",
              "      <td>Les tribulations d'une caissière</td>\n",
              "      <td>2011</td>\n",
              "    </tr>\n",
              "    <tr>\n",
              "      <th>58095</th>\n",
              "      <td>193880</td>\n",
              "      <td>drama</td>\n",
              "      <td>Her Name Was Mumu</td>\n",
              "      <td>2016</td>\n",
              "    </tr>\n",
              "    <tr>\n",
              "      <th>58096</th>\n",
              "      <td>193882</td>\n",
              "      <td>adventure, drama, horror, sci-fi</td>\n",
              "      <td>Flora</td>\n",
              "      <td>2017</td>\n",
              "    </tr>\n",
              "    <tr>\n",
              "      <th>58097</th>\n",
              "      <td>193886</td>\n",
              "      <td>action, crime, drama</td>\n",
              "      <td>Leal</td>\n",
              "      <td>2018</td>\n",
              "    </tr>\n",
              "  </tbody>\n",
              "</table>\n",
              "<p>58020 rows × 4 columns</p>\n",
              "</div>\n",
              "      <button class=\"colab-df-convert\" onclick=\"convertToInteractive('df-ea7fd44b-a1cf-4e7c-8f31-a16cba714ce0')\"\n",
              "              title=\"Convert this dataframe to an interactive table.\"\n",
              "              style=\"display:none;\">\n",
              "        \n",
              "  <svg xmlns=\"http://www.w3.org/2000/svg\" height=\"24px\"viewBox=\"0 0 24 24\"\n",
              "       width=\"24px\">\n",
              "    <path d=\"M0 0h24v24H0V0z\" fill=\"none\"/>\n",
              "    <path d=\"M18.56 5.44l.94 2.06.94-2.06 2.06-.94-2.06-.94-.94-2.06-.94 2.06-2.06.94zm-11 1L8.5 8.5l.94-2.06 2.06-.94-2.06-.94L8.5 2.5l-.94 2.06-2.06.94zm10 10l.94 2.06.94-2.06 2.06-.94-2.06-.94-.94-2.06-.94 2.06-2.06.94z\"/><path d=\"M17.41 7.96l-1.37-1.37c-.4-.4-.92-.59-1.43-.59-.52 0-1.04.2-1.43.59L10.3 9.45l-7.72 7.72c-.78.78-.78 2.05 0 2.83L4 21.41c.39.39.9.59 1.41.59.51 0 1.02-.2 1.41-.59l7.78-7.78 2.81-2.81c.8-.78.8-2.07 0-2.86zM5.41 20L4 18.59l7.72-7.72 1.47 1.35L5.41 20z\"/>\n",
              "  </svg>\n",
              "      </button>\n",
              "      \n",
              "  <style>\n",
              "    .colab-df-container {\n",
              "      display:flex;\n",
              "      flex-wrap:wrap;\n",
              "      gap: 12px;\n",
              "    }\n",
              "\n",
              "    .colab-df-convert {\n",
              "      background-color: #E8F0FE;\n",
              "      border: none;\n",
              "      border-radius: 50%;\n",
              "      cursor: pointer;\n",
              "      display: none;\n",
              "      fill: #1967D2;\n",
              "      height: 32px;\n",
              "      padding: 0 0 0 0;\n",
              "      width: 32px;\n",
              "    }\n",
              "\n",
              "    .colab-df-convert:hover {\n",
              "      background-color: #E2EBFA;\n",
              "      box-shadow: 0px 1px 2px rgba(60, 64, 67, 0.3), 0px 1px 3px 1px rgba(60, 64, 67, 0.15);\n",
              "      fill: #174EA6;\n",
              "    }\n",
              "\n",
              "    [theme=dark] .colab-df-convert {\n",
              "      background-color: #3B4455;\n",
              "      fill: #D2E3FC;\n",
              "    }\n",
              "\n",
              "    [theme=dark] .colab-df-convert:hover {\n",
              "      background-color: #434B5C;\n",
              "      box-shadow: 0px 1px 3px 1px rgba(0, 0, 0, 0.15);\n",
              "      filter: drop-shadow(0px 1px 2px rgba(0, 0, 0, 0.3));\n",
              "      fill: #FFFFFF;\n",
              "    }\n",
              "  </style>\n",
              "\n",
              "      <script>\n",
              "        const buttonEl =\n",
              "          document.querySelector('#df-ea7fd44b-a1cf-4e7c-8f31-a16cba714ce0 button.colab-df-convert');\n",
              "        buttonEl.style.display =\n",
              "          google.colab.kernel.accessAllowed ? 'block' : 'none';\n",
              "\n",
              "        async function convertToInteractive(key) {\n",
              "          const element = document.querySelector('#df-ea7fd44b-a1cf-4e7c-8f31-a16cba714ce0');\n",
              "          const dataTable =\n",
              "            await google.colab.kernel.invokeFunction('convertToInteractive',\n",
              "                                                     [key], {});\n",
              "          if (!dataTable) return;\n",
              "\n",
              "          const docLinkHtml = 'Like what you see? Visit the ' +\n",
              "            '<a target=\"_blank\" href=https://colab.research.google.com/notebooks/data_table.ipynb>data table notebook</a>'\n",
              "            + ' to learn more about interactive tables.';\n",
              "          element.innerHTML = '';\n",
              "          dataTable['output_type'] = 'display_data';\n",
              "          await google.colab.output.renderOutput(dataTable, element);\n",
              "          const docLink = document.createElement('div');\n",
              "          docLink.innerHTML = docLinkHtml;\n",
              "          element.appendChild(docLink);\n",
              "        }\n",
              "      </script>\n",
              "    </div>\n",
              "  </div>\n",
              "  "
            ]
          },
          "metadata": {},
          "execution_count": 20
        }
      ],
      "source": [
        "movies"
      ]
    },
    {
      "cell_type": "code",
      "execution_count": 21,
      "id": "9405ff23",
      "metadata": {
        "ExecuteTime": {
          "end_time": "2022-05-11T18:06:44.064759Z",
          "start_time": "2022-05-11T18:06:44.041103Z"
        },
        "scrolled": true,
        "id": "9405ff23",
        "outputId": "9db0334f-b930-49ab-b27e-666ae4a1f14b",
        "colab": {
          "base_uri": "https://localhost:8080/",
          "height": 424
        }
      },
      "outputs": [
        {
          "output_type": "execute_result",
          "data": {
            "text/plain": [
              "          userId  movieId  rating   timestamp\n",
              "0              1      307     3.5  1256677221\n",
              "1              1      481     3.5  1256677456\n",
              "2              1     1091     1.5  1256677471\n",
              "3              1     1257     4.5  1256677460\n",
              "4              1     1449     4.5  1256677264\n",
              "...          ...      ...     ...         ...\n",
              "27753439  283228     8542     4.5  1379882795\n",
              "27753440  283228     8712     4.5  1379882751\n",
              "27753441  283228    34405     4.5  1379882889\n",
              "27753442  283228    44761     4.5  1354159524\n",
              "27753443  283228    54286     4.5  1354159718\n",
              "\n",
              "[27753444 rows x 4 columns]"
            ],
            "text/html": [
              "\n",
              "  <div id=\"df-bafc0cdb-c639-4181-868c-50c29410be24\">\n",
              "    <div class=\"colab-df-container\">\n",
              "      <div>\n",
              "<style scoped>\n",
              "    .dataframe tbody tr th:only-of-type {\n",
              "        vertical-align: middle;\n",
              "    }\n",
              "\n",
              "    .dataframe tbody tr th {\n",
              "        vertical-align: top;\n",
              "    }\n",
              "\n",
              "    .dataframe thead th {\n",
              "        text-align: right;\n",
              "    }\n",
              "</style>\n",
              "<table border=\"1\" class=\"dataframe\">\n",
              "  <thead>\n",
              "    <tr style=\"text-align: right;\">\n",
              "      <th></th>\n",
              "      <th>userId</th>\n",
              "      <th>movieId</th>\n",
              "      <th>rating</th>\n",
              "      <th>timestamp</th>\n",
              "    </tr>\n",
              "  </thead>\n",
              "  <tbody>\n",
              "    <tr>\n",
              "      <th>0</th>\n",
              "      <td>1</td>\n",
              "      <td>307</td>\n",
              "      <td>3.5</td>\n",
              "      <td>1256677221</td>\n",
              "    </tr>\n",
              "    <tr>\n",
              "      <th>1</th>\n",
              "      <td>1</td>\n",
              "      <td>481</td>\n",
              "      <td>3.5</td>\n",
              "      <td>1256677456</td>\n",
              "    </tr>\n",
              "    <tr>\n",
              "      <th>2</th>\n",
              "      <td>1</td>\n",
              "      <td>1091</td>\n",
              "      <td>1.5</td>\n",
              "      <td>1256677471</td>\n",
              "    </tr>\n",
              "    <tr>\n",
              "      <th>3</th>\n",
              "      <td>1</td>\n",
              "      <td>1257</td>\n",
              "      <td>4.5</td>\n",
              "      <td>1256677460</td>\n",
              "    </tr>\n",
              "    <tr>\n",
              "      <th>4</th>\n",
              "      <td>1</td>\n",
              "      <td>1449</td>\n",
              "      <td>4.5</td>\n",
              "      <td>1256677264</td>\n",
              "    </tr>\n",
              "    <tr>\n",
              "      <th>...</th>\n",
              "      <td>...</td>\n",
              "      <td>...</td>\n",
              "      <td>...</td>\n",
              "      <td>...</td>\n",
              "    </tr>\n",
              "    <tr>\n",
              "      <th>27753439</th>\n",
              "      <td>283228</td>\n",
              "      <td>8542</td>\n",
              "      <td>4.5</td>\n",
              "      <td>1379882795</td>\n",
              "    </tr>\n",
              "    <tr>\n",
              "      <th>27753440</th>\n",
              "      <td>283228</td>\n",
              "      <td>8712</td>\n",
              "      <td>4.5</td>\n",
              "      <td>1379882751</td>\n",
              "    </tr>\n",
              "    <tr>\n",
              "      <th>27753441</th>\n",
              "      <td>283228</td>\n",
              "      <td>34405</td>\n",
              "      <td>4.5</td>\n",
              "      <td>1379882889</td>\n",
              "    </tr>\n",
              "    <tr>\n",
              "      <th>27753442</th>\n",
              "      <td>283228</td>\n",
              "      <td>44761</td>\n",
              "      <td>4.5</td>\n",
              "      <td>1354159524</td>\n",
              "    </tr>\n",
              "    <tr>\n",
              "      <th>27753443</th>\n",
              "      <td>283228</td>\n",
              "      <td>54286</td>\n",
              "      <td>4.5</td>\n",
              "      <td>1354159718</td>\n",
              "    </tr>\n",
              "  </tbody>\n",
              "</table>\n",
              "<p>27753444 rows × 4 columns</p>\n",
              "</div>\n",
              "      <button class=\"colab-df-convert\" onclick=\"convertToInteractive('df-bafc0cdb-c639-4181-868c-50c29410be24')\"\n",
              "              title=\"Convert this dataframe to an interactive table.\"\n",
              "              style=\"display:none;\">\n",
              "        \n",
              "  <svg xmlns=\"http://www.w3.org/2000/svg\" height=\"24px\"viewBox=\"0 0 24 24\"\n",
              "       width=\"24px\">\n",
              "    <path d=\"M0 0h24v24H0V0z\" fill=\"none\"/>\n",
              "    <path d=\"M18.56 5.44l.94 2.06.94-2.06 2.06-.94-2.06-.94-.94-2.06-.94 2.06-2.06.94zm-11 1L8.5 8.5l.94-2.06 2.06-.94-2.06-.94L8.5 2.5l-.94 2.06-2.06.94zm10 10l.94 2.06.94-2.06 2.06-.94-2.06-.94-.94-2.06-.94 2.06-2.06.94z\"/><path d=\"M17.41 7.96l-1.37-1.37c-.4-.4-.92-.59-1.43-.59-.52 0-1.04.2-1.43.59L10.3 9.45l-7.72 7.72c-.78.78-.78 2.05 0 2.83L4 21.41c.39.39.9.59 1.41.59.51 0 1.02-.2 1.41-.59l7.78-7.78 2.81-2.81c.8-.78.8-2.07 0-2.86zM5.41 20L4 18.59l7.72-7.72 1.47 1.35L5.41 20z\"/>\n",
              "  </svg>\n",
              "      </button>\n",
              "      \n",
              "  <style>\n",
              "    .colab-df-container {\n",
              "      display:flex;\n",
              "      flex-wrap:wrap;\n",
              "      gap: 12px;\n",
              "    }\n",
              "\n",
              "    .colab-df-convert {\n",
              "      background-color: #E8F0FE;\n",
              "      border: none;\n",
              "      border-radius: 50%;\n",
              "      cursor: pointer;\n",
              "      display: none;\n",
              "      fill: #1967D2;\n",
              "      height: 32px;\n",
              "      padding: 0 0 0 0;\n",
              "      width: 32px;\n",
              "    }\n",
              "\n",
              "    .colab-df-convert:hover {\n",
              "      background-color: #E2EBFA;\n",
              "      box-shadow: 0px 1px 2px rgba(60, 64, 67, 0.3), 0px 1px 3px 1px rgba(60, 64, 67, 0.15);\n",
              "      fill: #174EA6;\n",
              "    }\n",
              "\n",
              "    [theme=dark] .colab-df-convert {\n",
              "      background-color: #3B4455;\n",
              "      fill: #D2E3FC;\n",
              "    }\n",
              "\n",
              "    [theme=dark] .colab-df-convert:hover {\n",
              "      background-color: #434B5C;\n",
              "      box-shadow: 0px 1px 3px 1px rgba(0, 0, 0, 0.15);\n",
              "      filter: drop-shadow(0px 1px 2px rgba(0, 0, 0, 0.3));\n",
              "      fill: #FFFFFF;\n",
              "    }\n",
              "  </style>\n",
              "\n",
              "      <script>\n",
              "        const buttonEl =\n",
              "          document.querySelector('#df-bafc0cdb-c639-4181-868c-50c29410be24 button.colab-df-convert');\n",
              "        buttonEl.style.display =\n",
              "          google.colab.kernel.accessAllowed ? 'block' : 'none';\n",
              "\n",
              "        async function convertToInteractive(key) {\n",
              "          const element = document.querySelector('#df-bafc0cdb-c639-4181-868c-50c29410be24');\n",
              "          const dataTable =\n",
              "            await google.colab.kernel.invokeFunction('convertToInteractive',\n",
              "                                                     [key], {});\n",
              "          if (!dataTable) return;\n",
              "\n",
              "          const docLinkHtml = 'Like what you see? Visit the ' +\n",
              "            '<a target=\"_blank\" href=https://colab.research.google.com/notebooks/data_table.ipynb>data table notebook</a>'\n",
              "            + ' to learn more about interactive tables.';\n",
              "          element.innerHTML = '';\n",
              "          dataTable['output_type'] = 'display_data';\n",
              "          await google.colab.output.renderOutput(dataTable, element);\n",
              "          const docLink = document.createElement('div');\n",
              "          docLink.innerHTML = docLinkHtml;\n",
              "          element.appendChild(docLink);\n",
              "        }\n",
              "      </script>\n",
              "    </div>\n",
              "  </div>\n",
              "  "
            ]
          },
          "metadata": {},
          "execution_count": 21
        }
      ],
      "source": [
        "#checking rating df\n",
        "rating"
      ]
    },
    {
      "cell_type": "markdown",
      "id": "faa34929",
      "metadata": {
        "id": "faa34929"
      },
      "source": [
        "The ratings data frame has **27,753,444 rows** and **4 columns**, where each row is one rating given by a specific user to a specific movie. The first column : `userId` corresponds to a `unique id` that identifies the **specific user** that rated the **specific movie**, denoted by the second column: `movieId`. This `movieId` is the same identifying key that is present in the `movies` data frame. The third column represents the `rating` that a user gave the movie, on a **1-5 rating scale**. Lastly, the final column corresponds to the `date and time` the rating was made, in the format of a `UNIX timestamp`."
      ]
    },
    {
      "cell_type": "code",
      "execution_count": 22,
      "id": "1be6d183",
      "metadata": {
        "ExecuteTime": {
          "end_time": "2022-05-11T18:06:44.376945Z",
          "start_time": "2022-05-11T18:06:44.342295Z"
        },
        "id": "1be6d183"
      },
      "outputs": [],
      "source": [
        "#converted timestamp to datetime\n",
        "rating['timestamp'] = pd.to_datetime(rating['timestamp'], unit='s')"
      ]
    },
    {
      "cell_type": "markdown",
      "id": "a7ca9db0",
      "metadata": {
        "id": "a7ca9db0"
      },
      "source": [
        "We converted the `UNIX timestamp` into a `date time object`, to determine if we could incorporate the element of time as a feature within our moldel.  However, after reviewing the data, we decided that these datasets will change over time, and are not appropriate for reporting research results. "
      ]
    },
    {
      "cell_type": "code",
      "execution_count": 23,
      "id": "9c14811b",
      "metadata": {
        "ExecuteTime": {
          "end_time": "2022-05-11T18:06:44.891322Z",
          "start_time": "2022-05-11T18:06:44.874819Z"
        },
        "id": "9c14811b",
        "outputId": "ac4377d3-0f33-4c55-e040-a5082befc82f",
        "colab": {
          "base_uri": "https://localhost:8080/"
        }
      },
      "outputs": [
        {
          "output_type": "execute_result",
          "data": {
            "text/plain": [
              "4.0    0.266443\n",
              "3.0    0.198738\n",
              "5.0    0.146689\n",
              "3.5    0.122664\n",
              "4.5    0.085523\n",
              "2.0    0.066681\n",
              "2.5    0.049486\n",
              "1.0    0.031932\n",
              "0.5    0.015940\n",
              "1.5    0.015903\n",
              "Name: rating, dtype: float64"
            ]
          },
          "metadata": {},
          "execution_count": 23
        }
      ],
      "source": [
        "rating.rating.value_counts(normalize=True)"
      ]
    },
    {
      "cell_type": "code",
      "execution_count": 24,
      "id": "a49f30c2",
      "metadata": {
        "ExecuteTime": {
          "end_time": "2022-05-11T18:06:45.120405Z",
          "start_time": "2022-05-11T18:06:45.093910Z"
        },
        "id": "a49f30c2",
        "outputId": "f6dca338-847d-4865-cfc6-eee6707e4f6e",
        "colab": {
          "base_uri": "https://localhost:8080/"
        }
      },
      "outputs": [
        {
          "output_type": "execute_result",
          "data": {
            "text/plain": [
              "0"
            ]
          },
          "metadata": {},
          "execution_count": 24
        }
      ],
      "source": [
        "rating.duplicated().sum()"
      ]
    },
    {
      "cell_type": "code",
      "execution_count": 25,
      "id": "58387575",
      "metadata": {
        "ExecuteTime": {
          "end_time": "2022-05-11T18:06:45.427428Z",
          "start_time": "2022-05-11T18:06:45.415615Z"
        },
        "scrolled": true,
        "id": "58387575",
        "outputId": "e14666d5-885d-4ff2-cb66-3869d7b19f5f",
        "colab": {
          "base_uri": "https://localhost:8080/"
        }
      },
      "outputs": [
        {
          "output_type": "execute_result",
          "data": {
            "text/plain": [
              "userId       0\n",
              "movieId      0\n",
              "rating       0\n",
              "timestamp    0\n",
              "dtype: int64"
            ]
          },
          "metadata": {},
          "execution_count": 25
        }
      ],
      "source": [
        "rating.isna().sum()"
      ]
    },
    {
      "cell_type": "markdown",
      "id": "535dfa4d",
      "metadata": {
        "id": "535dfa4d"
      },
      "source": [
        "First, we established that there were **no nulls** in the data frame, then we checked to see whether there were any **duplicates**, so we did a `value_counts` specific to ratings and confirmed there are **no duplicates**."
      ]
    },
    {
      "cell_type": "code",
      "execution_count": 26,
      "id": "9f042298",
      "metadata": {
        "ExecuteTime": {
          "end_time": "2022-05-11T18:06:45.795944Z",
          "start_time": "2022-05-11T18:06:45.761802Z"
        },
        "id": "9f042298"
      },
      "outputs": [],
      "source": [
        "# merging rating and movies\n",
        "movie_rating = movies.merge(rating, on='movieId', how='outer')"
      ]
    },
    {
      "cell_type": "code",
      "execution_count": 27,
      "id": "0c73bb4d",
      "metadata": {
        "ExecuteTime": {
          "end_time": "2022-05-11T18:06:46.003585Z",
          "start_time": "2022-05-11T18:06:45.974894Z"
        },
        "id": "0c73bb4d",
        "outputId": "6fddcf87-8dfa-4fed-d18b-7cd1c456d31d",
        "colab": {
          "base_uri": "https://localhost:8080/",
          "height": 902
        }
      },
      "outputs": [
        {
          "output_type": "execute_result",
          "data": {
            "text/plain": [
              "          movieId                                           genres  \\\n",
              "0               1  adventure, animation, children, comedy, fantasy   \n",
              "1               1  adventure, animation, children, comedy, fantasy   \n",
              "2               1  adventure, animation, children, comedy, fantasy   \n",
              "3               1  adventure, animation, children, comedy, fantasy   \n",
              "4               1  adventure, animation, children, comedy, fantasy   \n",
              "...           ...                                              ...   \n",
              "27757643   181655                                              NaN   \n",
              "27757644   160356                                              NaN   \n",
              "27757645   185925                                              NaN   \n",
              "27757646   191713                                              NaN   \n",
              "27757647   193559                                              NaN   \n",
              "\n",
              "               Title year_released    userId  rating           timestamp  \n",
              "0         Toy Story           1995       4.0     4.0 2005-04-17 19:25:37  \n",
              "1         Toy Story           1995      10.0     5.0 2000-01-26 11:24:10  \n",
              "2         Toy Story           1995      14.0     4.5 2015-09-13 18:36:15  \n",
              "3         Toy Story           1995      15.0     4.0 2013-06-09 20:34:23  \n",
              "4         Toy Story           1995      22.0     4.0 2009-03-21 08:03:51  \n",
              "...              ...           ...       ...     ...                 ...  \n",
              "27757643         NaN           NaN  241786.0     3.0 2017-12-05 15:21:33  \n",
              "27757644         NaN           NaN  258724.0     3.0 2018-07-30 18:55:12  \n",
              "27757645         NaN           NaN  262278.0     4.0 2018-03-26 16:47:59  \n",
              "27757646         NaN           NaN  262584.0     3.5 2018-07-27 13:20:49  \n",
              "27757647         NaN           NaN  268656.0     2.5 2018-09-16 10:16:09  \n",
              "\n",
              "[27757648 rows x 7 columns]"
            ],
            "text/html": [
              "\n",
              "  <div id=\"df-a020ea6e-f4fe-4919-afd4-1ebfbe2ca8af\">\n",
              "    <div class=\"colab-df-container\">\n",
              "      <div>\n",
              "<style scoped>\n",
              "    .dataframe tbody tr th:only-of-type {\n",
              "        vertical-align: middle;\n",
              "    }\n",
              "\n",
              "    .dataframe tbody tr th {\n",
              "        vertical-align: top;\n",
              "    }\n",
              "\n",
              "    .dataframe thead th {\n",
              "        text-align: right;\n",
              "    }\n",
              "</style>\n",
              "<table border=\"1\" class=\"dataframe\">\n",
              "  <thead>\n",
              "    <tr style=\"text-align: right;\">\n",
              "      <th></th>\n",
              "      <th>movieId</th>\n",
              "      <th>genres</th>\n",
              "      <th>Title</th>\n",
              "      <th>year_released</th>\n",
              "      <th>userId</th>\n",
              "      <th>rating</th>\n",
              "      <th>timestamp</th>\n",
              "    </tr>\n",
              "  </thead>\n",
              "  <tbody>\n",
              "    <tr>\n",
              "      <th>0</th>\n",
              "      <td>1</td>\n",
              "      <td>adventure, animation, children, comedy, fantasy</td>\n",
              "      <td>Toy Story</td>\n",
              "      <td>1995</td>\n",
              "      <td>4.0</td>\n",
              "      <td>4.0</td>\n",
              "      <td>2005-04-17 19:25:37</td>\n",
              "    </tr>\n",
              "    <tr>\n",
              "      <th>1</th>\n",
              "      <td>1</td>\n",
              "      <td>adventure, animation, children, comedy, fantasy</td>\n",
              "      <td>Toy Story</td>\n",
              "      <td>1995</td>\n",
              "      <td>10.0</td>\n",
              "      <td>5.0</td>\n",
              "      <td>2000-01-26 11:24:10</td>\n",
              "    </tr>\n",
              "    <tr>\n",
              "      <th>2</th>\n",
              "      <td>1</td>\n",
              "      <td>adventure, animation, children, comedy, fantasy</td>\n",
              "      <td>Toy Story</td>\n",
              "      <td>1995</td>\n",
              "      <td>14.0</td>\n",
              "      <td>4.5</td>\n",
              "      <td>2015-09-13 18:36:15</td>\n",
              "    </tr>\n",
              "    <tr>\n",
              "      <th>3</th>\n",
              "      <td>1</td>\n",
              "      <td>adventure, animation, children, comedy, fantasy</td>\n",
              "      <td>Toy Story</td>\n",
              "      <td>1995</td>\n",
              "      <td>15.0</td>\n",
              "      <td>4.0</td>\n",
              "      <td>2013-06-09 20:34:23</td>\n",
              "    </tr>\n",
              "    <tr>\n",
              "      <th>4</th>\n",
              "      <td>1</td>\n",
              "      <td>adventure, animation, children, comedy, fantasy</td>\n",
              "      <td>Toy Story</td>\n",
              "      <td>1995</td>\n",
              "      <td>22.0</td>\n",
              "      <td>4.0</td>\n",
              "      <td>2009-03-21 08:03:51</td>\n",
              "    </tr>\n",
              "    <tr>\n",
              "      <th>...</th>\n",
              "      <td>...</td>\n",
              "      <td>...</td>\n",
              "      <td>...</td>\n",
              "      <td>...</td>\n",
              "      <td>...</td>\n",
              "      <td>...</td>\n",
              "      <td>...</td>\n",
              "    </tr>\n",
              "    <tr>\n",
              "      <th>27757643</th>\n",
              "      <td>181655</td>\n",
              "      <td>NaN</td>\n",
              "      <td>NaN</td>\n",
              "      <td>NaN</td>\n",
              "      <td>241786.0</td>\n",
              "      <td>3.0</td>\n",
              "      <td>2017-12-05 15:21:33</td>\n",
              "    </tr>\n",
              "    <tr>\n",
              "      <th>27757644</th>\n",
              "      <td>160356</td>\n",
              "      <td>NaN</td>\n",
              "      <td>NaN</td>\n",
              "      <td>NaN</td>\n",
              "      <td>258724.0</td>\n",
              "      <td>3.0</td>\n",
              "      <td>2018-07-30 18:55:12</td>\n",
              "    </tr>\n",
              "    <tr>\n",
              "      <th>27757645</th>\n",
              "      <td>185925</td>\n",
              "      <td>NaN</td>\n",
              "      <td>NaN</td>\n",
              "      <td>NaN</td>\n",
              "      <td>262278.0</td>\n",
              "      <td>4.0</td>\n",
              "      <td>2018-03-26 16:47:59</td>\n",
              "    </tr>\n",
              "    <tr>\n",
              "      <th>27757646</th>\n",
              "      <td>191713</td>\n",
              "      <td>NaN</td>\n",
              "      <td>NaN</td>\n",
              "      <td>NaN</td>\n",
              "      <td>262584.0</td>\n",
              "      <td>3.5</td>\n",
              "      <td>2018-07-27 13:20:49</td>\n",
              "    </tr>\n",
              "    <tr>\n",
              "      <th>27757647</th>\n",
              "      <td>193559</td>\n",
              "      <td>NaN</td>\n",
              "      <td>NaN</td>\n",
              "      <td>NaN</td>\n",
              "      <td>268656.0</td>\n",
              "      <td>2.5</td>\n",
              "      <td>2018-09-16 10:16:09</td>\n",
              "    </tr>\n",
              "  </tbody>\n",
              "</table>\n",
              "<p>27757648 rows × 7 columns</p>\n",
              "</div>\n",
              "      <button class=\"colab-df-convert\" onclick=\"convertToInteractive('df-a020ea6e-f4fe-4919-afd4-1ebfbe2ca8af')\"\n",
              "              title=\"Convert this dataframe to an interactive table.\"\n",
              "              style=\"display:none;\">\n",
              "        \n",
              "  <svg xmlns=\"http://www.w3.org/2000/svg\" height=\"24px\"viewBox=\"0 0 24 24\"\n",
              "       width=\"24px\">\n",
              "    <path d=\"M0 0h24v24H0V0z\" fill=\"none\"/>\n",
              "    <path d=\"M18.56 5.44l.94 2.06.94-2.06 2.06-.94-2.06-.94-.94-2.06-.94 2.06-2.06.94zm-11 1L8.5 8.5l.94-2.06 2.06-.94-2.06-.94L8.5 2.5l-.94 2.06-2.06.94zm10 10l.94 2.06.94-2.06 2.06-.94-2.06-.94-.94-2.06-.94 2.06-2.06.94z\"/><path d=\"M17.41 7.96l-1.37-1.37c-.4-.4-.92-.59-1.43-.59-.52 0-1.04.2-1.43.59L10.3 9.45l-7.72 7.72c-.78.78-.78 2.05 0 2.83L4 21.41c.39.39.9.59 1.41.59.51 0 1.02-.2 1.41-.59l7.78-7.78 2.81-2.81c.8-.78.8-2.07 0-2.86zM5.41 20L4 18.59l7.72-7.72 1.47 1.35L5.41 20z\"/>\n",
              "  </svg>\n",
              "      </button>\n",
              "      \n",
              "  <style>\n",
              "    .colab-df-container {\n",
              "      display:flex;\n",
              "      flex-wrap:wrap;\n",
              "      gap: 12px;\n",
              "    }\n",
              "\n",
              "    .colab-df-convert {\n",
              "      background-color: #E8F0FE;\n",
              "      border: none;\n",
              "      border-radius: 50%;\n",
              "      cursor: pointer;\n",
              "      display: none;\n",
              "      fill: #1967D2;\n",
              "      height: 32px;\n",
              "      padding: 0 0 0 0;\n",
              "      width: 32px;\n",
              "    }\n",
              "\n",
              "    .colab-df-convert:hover {\n",
              "      background-color: #E2EBFA;\n",
              "      box-shadow: 0px 1px 2px rgba(60, 64, 67, 0.3), 0px 1px 3px 1px rgba(60, 64, 67, 0.15);\n",
              "      fill: #174EA6;\n",
              "    }\n",
              "\n",
              "    [theme=dark] .colab-df-convert {\n",
              "      background-color: #3B4455;\n",
              "      fill: #D2E3FC;\n",
              "    }\n",
              "\n",
              "    [theme=dark] .colab-df-convert:hover {\n",
              "      background-color: #434B5C;\n",
              "      box-shadow: 0px 1px 3px 1px rgba(0, 0, 0, 0.15);\n",
              "      filter: drop-shadow(0px 1px 2px rgba(0, 0, 0, 0.3));\n",
              "      fill: #FFFFFF;\n",
              "    }\n",
              "  </style>\n",
              "\n",
              "      <script>\n",
              "        const buttonEl =\n",
              "          document.querySelector('#df-a020ea6e-f4fe-4919-afd4-1ebfbe2ca8af button.colab-df-convert');\n",
              "        buttonEl.style.display =\n",
              "          google.colab.kernel.accessAllowed ? 'block' : 'none';\n",
              "\n",
              "        async function convertToInteractive(key) {\n",
              "          const element = document.querySelector('#df-a020ea6e-f4fe-4919-afd4-1ebfbe2ca8af');\n",
              "          const dataTable =\n",
              "            await google.colab.kernel.invokeFunction('convertToInteractive',\n",
              "                                                     [key], {});\n",
              "          if (!dataTable) return;\n",
              "\n",
              "          const docLinkHtml = 'Like what you see? Visit the ' +\n",
              "            '<a target=\"_blank\" href=https://colab.research.google.com/notebooks/data_table.ipynb>data table notebook</a>'\n",
              "            + ' to learn more about interactive tables.';\n",
              "          element.innerHTML = '';\n",
              "          dataTable['output_type'] = 'display_data';\n",
              "          await google.colab.output.renderOutput(dataTable, element);\n",
              "          const docLink = document.createElement('div');\n",
              "          docLink.innerHTML = docLinkHtml;\n",
              "          element.appendChild(docLink);\n",
              "        }\n",
              "      </script>\n",
              "    </div>\n",
              "  </div>\n",
              "  "
            ]
          },
          "metadata": {},
          "execution_count": 27
        }
      ],
      "source": [
        "movie_rating"
      ]
    },
    {
      "cell_type": "code",
      "execution_count": 28,
      "id": "54374d32",
      "metadata": {
        "ExecuteTime": {
          "end_time": "2022-05-11T18:06:46.321081Z",
          "start_time": "2022-05-11T18:06:46.283200Z"
        },
        "id": "54374d32"
      },
      "outputs": [],
      "source": [
        "movie_rating.dropna(inplace=True)"
      ]
    },
    {
      "cell_type": "code",
      "execution_count": 29,
      "id": "018ae646",
      "metadata": {
        "ExecuteTime": {
          "end_time": "2022-05-11T18:06:46.574834Z",
          "start_time": "2022-05-11T18:06:46.562232Z"
        },
        "id": "018ae646",
        "outputId": "d5a85c21-b508-4455-f877-fa5c527e171f",
        "colab": {
          "base_uri": "https://localhost:8080/"
        }
      },
      "outputs": [
        {
          "output_type": "execute_result",
          "data": {
            "text/plain": [
              "283225"
            ]
          },
          "metadata": {},
          "execution_count": 29
        }
      ],
      "source": [
        "movie_rating['userId'].nunique()"
      ]
    },
    {
      "cell_type": "markdown",
      "id": "74ed8288",
      "metadata": {
        "id": "74ed8288"
      },
      "source": [
        "The code above was to determine how many unique users contributed to the total ratings, in this case, 283,225 unique users made 27,753,444 ratings of 58,020 movies."
      ]
    },
    {
      "cell_type": "code",
      "execution_count": 30,
      "id": "59c87f76",
      "metadata": {
        "ExecuteTime": {
          "end_time": "2022-05-11T18:06:47.121476Z",
          "start_time": "2022-05-11T18:06:47.094906Z"
        },
        "scrolled": true,
        "id": "59c87f76",
        "outputId": "8bd75018-0e66-47d3-fc9d-2d67e5a17d07",
        "colab": {
          "base_uri": "https://localhost:8080/",
          "height": 1000
        }
      },
      "outputs": [
        {
          "output_type": "execute_result",
          "data": {
            "text/plain": [
              "          movieId                                           genres  \\\n",
              "0               1  adventure, animation, children, comedy, fantasy   \n",
              "1               1  adventure, animation, children, comedy, fantasy   \n",
              "2               1  adventure, animation, children, comedy, fantasy   \n",
              "3               1  adventure, animation, children, comedy, fantasy   \n",
              "4               1  adventure, animation, children, comedy, fantasy   \n",
              "...           ...                                              ...   \n",
              "27756079   193878                                           comedy   \n",
              "27756080   193880                                            drama   \n",
              "27756081   193882                 adventure, drama, horror, sci-fi   \n",
              "27756082   193886                             action, crime, drama   \n",
              "27756083   193886                             action, crime, drama   \n",
              "\n",
              "                                      Title year_released    userId  rating  \\\n",
              "0                                Toy Story           1995       4.0     4.0   \n",
              "1                                Toy Story           1995      10.0     5.0   \n",
              "2                                Toy Story           1995      14.0     4.5   \n",
              "3                                Toy Story           1995      15.0     4.0   \n",
              "4                                Toy Story           1995      22.0     4.0   \n",
              "...                                     ...           ...       ...     ...   \n",
              "27756079  Les tribulations d'une caissière           2011  176871.0     2.0   \n",
              "27756080                 Her Name Was Mumu           2016   81710.0     2.0   \n",
              "27756081                             Flora           2017   33330.0     2.0   \n",
              "27756082                              Leal           2018  206009.0     2.5   \n",
              "27756083                              Leal           2018  226715.0     4.0   \n",
              "\n",
              "                   timestamp  \n",
              "0        2005-04-17 19:25:37  \n",
              "1        2000-01-26 11:24:10  \n",
              "2        2015-09-13 18:36:15  \n",
              "3        2013-06-09 20:34:23  \n",
              "4        2009-03-21 08:03:51  \n",
              "...                      ...  \n",
              "27756079 2018-09-25 11:31:20  \n",
              "27756080 2018-09-25 14:37:12  \n",
              "27756081 2018-09-25 15:48:32  \n",
              "27756082 2018-09-25 23:24:14  \n",
              "27756083 2018-09-25 22:56:17  \n",
              "\n",
              "[27745141 rows x 7 columns]"
            ],
            "text/html": [
              "\n",
              "  <div id=\"df-6563bcc0-6e3c-47a9-9d11-95ae99b1130f\">\n",
              "    <div class=\"colab-df-container\">\n",
              "      <div>\n",
              "<style scoped>\n",
              "    .dataframe tbody tr th:only-of-type {\n",
              "        vertical-align: middle;\n",
              "    }\n",
              "\n",
              "    .dataframe tbody tr th {\n",
              "        vertical-align: top;\n",
              "    }\n",
              "\n",
              "    .dataframe thead th {\n",
              "        text-align: right;\n",
              "    }\n",
              "</style>\n",
              "<table border=\"1\" class=\"dataframe\">\n",
              "  <thead>\n",
              "    <tr style=\"text-align: right;\">\n",
              "      <th></th>\n",
              "      <th>movieId</th>\n",
              "      <th>genres</th>\n",
              "      <th>Title</th>\n",
              "      <th>year_released</th>\n",
              "      <th>userId</th>\n",
              "      <th>rating</th>\n",
              "      <th>timestamp</th>\n",
              "    </tr>\n",
              "  </thead>\n",
              "  <tbody>\n",
              "    <tr>\n",
              "      <th>0</th>\n",
              "      <td>1</td>\n",
              "      <td>adventure, animation, children, comedy, fantasy</td>\n",
              "      <td>Toy Story</td>\n",
              "      <td>1995</td>\n",
              "      <td>4.0</td>\n",
              "      <td>4.0</td>\n",
              "      <td>2005-04-17 19:25:37</td>\n",
              "    </tr>\n",
              "    <tr>\n",
              "      <th>1</th>\n",
              "      <td>1</td>\n",
              "      <td>adventure, animation, children, comedy, fantasy</td>\n",
              "      <td>Toy Story</td>\n",
              "      <td>1995</td>\n",
              "      <td>10.0</td>\n",
              "      <td>5.0</td>\n",
              "      <td>2000-01-26 11:24:10</td>\n",
              "    </tr>\n",
              "    <tr>\n",
              "      <th>2</th>\n",
              "      <td>1</td>\n",
              "      <td>adventure, animation, children, comedy, fantasy</td>\n",
              "      <td>Toy Story</td>\n",
              "      <td>1995</td>\n",
              "      <td>14.0</td>\n",
              "      <td>4.5</td>\n",
              "      <td>2015-09-13 18:36:15</td>\n",
              "    </tr>\n",
              "    <tr>\n",
              "      <th>3</th>\n",
              "      <td>1</td>\n",
              "      <td>adventure, animation, children, comedy, fantasy</td>\n",
              "      <td>Toy Story</td>\n",
              "      <td>1995</td>\n",
              "      <td>15.0</td>\n",
              "      <td>4.0</td>\n",
              "      <td>2013-06-09 20:34:23</td>\n",
              "    </tr>\n",
              "    <tr>\n",
              "      <th>4</th>\n",
              "      <td>1</td>\n",
              "      <td>adventure, animation, children, comedy, fantasy</td>\n",
              "      <td>Toy Story</td>\n",
              "      <td>1995</td>\n",
              "      <td>22.0</td>\n",
              "      <td>4.0</td>\n",
              "      <td>2009-03-21 08:03:51</td>\n",
              "    </tr>\n",
              "    <tr>\n",
              "      <th>...</th>\n",
              "      <td>...</td>\n",
              "      <td>...</td>\n",
              "      <td>...</td>\n",
              "      <td>...</td>\n",
              "      <td>...</td>\n",
              "      <td>...</td>\n",
              "      <td>...</td>\n",
              "    </tr>\n",
              "    <tr>\n",
              "      <th>27756079</th>\n",
              "      <td>193878</td>\n",
              "      <td>comedy</td>\n",
              "      <td>Les tribulations d'une caissière</td>\n",
              "      <td>2011</td>\n",
              "      <td>176871.0</td>\n",
              "      <td>2.0</td>\n",
              "      <td>2018-09-25 11:31:20</td>\n",
              "    </tr>\n",
              "    <tr>\n",
              "      <th>27756080</th>\n",
              "      <td>193880</td>\n",
              "      <td>drama</td>\n",
              "      <td>Her Name Was Mumu</td>\n",
              "      <td>2016</td>\n",
              "      <td>81710.0</td>\n",
              "      <td>2.0</td>\n",
              "      <td>2018-09-25 14:37:12</td>\n",
              "    </tr>\n",
              "    <tr>\n",
              "      <th>27756081</th>\n",
              "      <td>193882</td>\n",
              "      <td>adventure, drama, horror, sci-fi</td>\n",
              "      <td>Flora</td>\n",
              "      <td>2017</td>\n",
              "      <td>33330.0</td>\n",
              "      <td>2.0</td>\n",
              "      <td>2018-09-25 15:48:32</td>\n",
              "    </tr>\n",
              "    <tr>\n",
              "      <th>27756082</th>\n",
              "      <td>193886</td>\n",
              "      <td>action, crime, drama</td>\n",
              "      <td>Leal</td>\n",
              "      <td>2018</td>\n",
              "      <td>206009.0</td>\n",
              "      <td>2.5</td>\n",
              "      <td>2018-09-25 23:24:14</td>\n",
              "    </tr>\n",
              "    <tr>\n",
              "      <th>27756083</th>\n",
              "      <td>193886</td>\n",
              "      <td>action, crime, drama</td>\n",
              "      <td>Leal</td>\n",
              "      <td>2018</td>\n",
              "      <td>226715.0</td>\n",
              "      <td>4.0</td>\n",
              "      <td>2018-09-25 22:56:17</td>\n",
              "    </tr>\n",
              "  </tbody>\n",
              "</table>\n",
              "<p>27745141 rows × 7 columns</p>\n",
              "</div>\n",
              "      <button class=\"colab-df-convert\" onclick=\"convertToInteractive('df-6563bcc0-6e3c-47a9-9d11-95ae99b1130f')\"\n",
              "              title=\"Convert this dataframe to an interactive table.\"\n",
              "              style=\"display:none;\">\n",
              "        \n",
              "  <svg xmlns=\"http://www.w3.org/2000/svg\" height=\"24px\"viewBox=\"0 0 24 24\"\n",
              "       width=\"24px\">\n",
              "    <path d=\"M0 0h24v24H0V0z\" fill=\"none\"/>\n",
              "    <path d=\"M18.56 5.44l.94 2.06.94-2.06 2.06-.94-2.06-.94-.94-2.06-.94 2.06-2.06.94zm-11 1L8.5 8.5l.94-2.06 2.06-.94-2.06-.94L8.5 2.5l-.94 2.06-2.06.94zm10 10l.94 2.06.94-2.06 2.06-.94-2.06-.94-.94-2.06-.94 2.06-2.06.94z\"/><path d=\"M17.41 7.96l-1.37-1.37c-.4-.4-.92-.59-1.43-.59-.52 0-1.04.2-1.43.59L10.3 9.45l-7.72 7.72c-.78.78-.78 2.05 0 2.83L4 21.41c.39.39.9.59 1.41.59.51 0 1.02-.2 1.41-.59l7.78-7.78 2.81-2.81c.8-.78.8-2.07 0-2.86zM5.41 20L4 18.59l7.72-7.72 1.47 1.35L5.41 20z\"/>\n",
              "  </svg>\n",
              "      </button>\n",
              "      \n",
              "  <style>\n",
              "    .colab-df-container {\n",
              "      display:flex;\n",
              "      flex-wrap:wrap;\n",
              "      gap: 12px;\n",
              "    }\n",
              "\n",
              "    .colab-df-convert {\n",
              "      background-color: #E8F0FE;\n",
              "      border: none;\n",
              "      border-radius: 50%;\n",
              "      cursor: pointer;\n",
              "      display: none;\n",
              "      fill: #1967D2;\n",
              "      height: 32px;\n",
              "      padding: 0 0 0 0;\n",
              "      width: 32px;\n",
              "    }\n",
              "\n",
              "    .colab-df-convert:hover {\n",
              "      background-color: #E2EBFA;\n",
              "      box-shadow: 0px 1px 2px rgba(60, 64, 67, 0.3), 0px 1px 3px 1px rgba(60, 64, 67, 0.15);\n",
              "      fill: #174EA6;\n",
              "    }\n",
              "\n",
              "    [theme=dark] .colab-df-convert {\n",
              "      background-color: #3B4455;\n",
              "      fill: #D2E3FC;\n",
              "    }\n",
              "\n",
              "    [theme=dark] .colab-df-convert:hover {\n",
              "      background-color: #434B5C;\n",
              "      box-shadow: 0px 1px 3px 1px rgba(0, 0, 0, 0.15);\n",
              "      filter: drop-shadow(0px 1px 2px rgba(0, 0, 0, 0.3));\n",
              "      fill: #FFFFFF;\n",
              "    }\n",
              "  </style>\n",
              "\n",
              "      <script>\n",
              "        const buttonEl =\n",
              "          document.querySelector('#df-6563bcc0-6e3c-47a9-9d11-95ae99b1130f button.colab-df-convert');\n",
              "        buttonEl.style.display =\n",
              "          google.colab.kernel.accessAllowed ? 'block' : 'none';\n",
              "\n",
              "        async function convertToInteractive(key) {\n",
              "          const element = document.querySelector('#df-6563bcc0-6e3c-47a9-9d11-95ae99b1130f');\n",
              "          const dataTable =\n",
              "            await google.colab.kernel.invokeFunction('convertToInteractive',\n",
              "                                                     [key], {});\n",
              "          if (!dataTable) return;\n",
              "\n",
              "          const docLinkHtml = 'Like what you see? Visit the ' +\n",
              "            '<a target=\"_blank\" href=https://colab.research.google.com/notebooks/data_table.ipynb>data table notebook</a>'\n",
              "            + ' to learn more about interactive tables.';\n",
              "          element.innerHTML = '';\n",
              "          dataTable['output_type'] = 'display_data';\n",
              "          await google.colab.output.renderOutput(dataTable, element);\n",
              "          const docLink = document.createElement('div');\n",
              "          docLink.innerHTML = docLinkHtml;\n",
              "          element.appendChild(docLink);\n",
              "        }\n",
              "      </script>\n",
              "    </div>\n",
              "  </div>\n",
              "  "
            ]
          },
          "metadata": {},
          "execution_count": 30
        }
      ],
      "source": [
        "movie_rating"
      ]
    },
    {
      "cell_type": "code",
      "execution_count": 31,
      "id": "9cdc954c",
      "metadata": {
        "ExecuteTime": {
          "end_time": "2022-05-11T18:06:47.560862Z",
          "start_time": "2022-05-11T18:06:47.544040Z"
        },
        "scrolled": true,
        "id": "9cdc954c",
        "outputId": "ad5940b4-a634-47e8-9003-36b329131137",
        "colab": {
          "base_uri": "https://localhost:8080/"
        }
      },
      "outputs": [
        {
          "output_type": "execute_result",
          "data": {
            "text/plain": [
              "123100.0    23634\n",
              "117490.0     9277\n",
              "134596.0     8368\n",
              "212343.0     7876\n",
              "242683.0     7514\n",
              "            ...  \n",
              "142774.0        1\n",
              "201727.0        1\n",
              "116816.0        1\n",
              "100074.0        1\n",
              "687.0           1\n",
              "Name: userId, Length: 283225, dtype: int64"
            ]
          },
          "metadata": {},
          "execution_count": 31
        }
      ],
      "source": [
        "movie_rating['userId'].value_counts()"
      ]
    },
    {
      "cell_type": "code",
      "execution_count": 32,
      "id": "1f455220",
      "metadata": {
        "ExecuteTime": {
          "end_time": "2022-05-11T18:30:03.318811Z",
          "start_time": "2022-05-11T18:30:03.276606Z"
        },
        "id": "1f455220",
        "outputId": "e3b5a013-51ff-46f4-a0b9-649d8f4ddd3b",
        "colab": {
          "base_uri": "https://localhost:8080/"
        }
      },
      "outputs": [
        {
          "output_type": "execute_result",
          "data": {
            "text/plain": [
              "count    283225.000000\n",
              "mean         97.961483\n",
              "std         212.610884\n",
              "min           1.000000\n",
              "25%          15.000000\n",
              "50%          30.000000\n",
              "75%          95.000000\n",
              "max       23634.000000\n",
              "Name: userId, dtype: float64"
            ]
          },
          "metadata": {},
          "execution_count": 32
        }
      ],
      "source": [
        "movie_rating['userId'].value_counts().describe()"
      ]
    },
    {
      "cell_type": "code",
      "execution_count": 33,
      "id": "b67c1887",
      "metadata": {
        "ExecuteTime": {
          "end_time": "2022-05-11T18:06:48.144095Z",
          "start_time": "2022-05-11T18:06:48.112022Z"
        },
        "id": "b67c1887",
        "outputId": "92686d44-dee1-4dc9-ef54-ebca32446b57",
        "colab": {
          "base_uri": "https://localhost:8080/"
        }
      },
      "outputs": [
        {
          "output_type": "execute_result",
          "data": {
            "text/plain": [
              "97.96148291993998"
            ]
          },
          "metadata": {},
          "execution_count": 33
        }
      ],
      "source": [
        "len(movie_rating['rating'])/len(set(movie_rating['userId']))"
      ]
    },
    {
      "cell_type": "code",
      "source": [
        "(movie_rating['userId'].value_counts() <= 4).sum()"
      ],
      "metadata": {
        "id": "S15iSI9mt8vW",
        "outputId": "33101f56-412a-4145-d171-dc51daf86106",
        "colab": {
          "base_uri": "https://localhost:8080/"
        }
      },
      "id": "S15iSI9mt8vW",
      "execution_count": 34,
      "outputs": [
        {
          "output_type": "execute_result",
          "data": {
            "text/plain": [
              "16251"
            ]
          },
          "metadata": {},
          "execution_count": 34
        }
      ]
    },
    {
      "cell_type": "markdown",
      "id": "b232c05a",
      "metadata": {
        "id": "b232c05a"
      },
      "source": [
        "On average a user rates 98 movies. Each user has at least 1 rating. 16,251 users have rated less than 5 movies. Cold Start issue."
      ]
    },
    {
      "cell_type": "code",
      "execution_count": 35,
      "id": "c4b757a9",
      "metadata": {
        "ExecuteTime": {
          "end_time": "2022-05-11T18:08:26.878264Z",
          "start_time": "2022-05-11T18:08:26.843184Z"
        },
        "scrolled": false,
        "id": "c4b757a9",
        "outputId": "44ebe470-bb98-4d2c-9501-1e467fbcd361",
        "colab": {
          "base_uri": "https://localhost:8080/"
        }
      },
      "outputs": [
        {
          "output_type": "execute_result",
          "data": {
            "text/plain": [
              "count    50017.000000\n",
              "mean       554.714217\n",
              "std       3064.110604\n",
              "min          1.000000\n",
              "25%          2.000000\n",
              "50%          7.000000\n",
              "75%         54.000000\n",
              "max      97999.000000\n",
              "Name: Title, dtype: float64"
            ]
          },
          "metadata": {},
          "execution_count": 35
        }
      ],
      "source": [
        "movie_rating['Title'].value_counts().describe()"
      ]
    },
    {
      "cell_type": "code",
      "execution_count": 36,
      "id": "3a80d2c2",
      "metadata": {
        "ExecuteTime": {
          "end_time": "2022-05-11T18:12:54.807021Z",
          "start_time": "2022-05-11T18:12:54.759510Z"
        },
        "id": "3a80d2c2",
        "outputId": "d6a0e2f8-6794-4b34-d3c6-fe95fdb2b5e8",
        "colab": {
          "base_uri": "https://localhost:8080/"
        }
      },
      "outputs": [
        {
          "output_type": "execute_result",
          "data": {
            "text/plain": [
              "1       9145\n",
              "2       5664\n",
              "3       3598\n",
              "4       2456\n",
              "5       1875\n",
              "        ... \n",
              "4897       1\n",
              "4896       1\n",
              "4894       1\n",
              "4883       1\n",
              "2558       1\n",
              "Name: Title, Length: 3949, dtype: int64"
            ]
          },
          "metadata": {},
          "execution_count": 36
        }
      ],
      "source": [
        "movie_rating['Title'].value_counts().value_counts()"
      ]
    },
    {
      "cell_type": "code",
      "execution_count": 37,
      "id": "6258552c",
      "metadata": {
        "ExecuteTime": {
          "end_time": "2022-05-11T18:08:19.468392Z",
          "start_time": "2022-05-11T18:08:19.436485Z"
        },
        "scrolled": true,
        "id": "6258552c",
        "outputId": "a51d4c70-6a97-4b5a-f35e-2c7b2f816fc5",
        "colab": {
          "base_uri": "https://localhost:8080/"
        }
      },
      "outputs": [
        {
          "output_type": "execute_result",
          "data": {
            "text/plain": [
              "Shawshank Redemption, The     97999\n",
              "Forrest Gump                  97040\n",
              "Pulp Fiction                  92406\n",
              "Silence of the Lambs, The     87899\n",
              "Matrix, The                   84545\n",
              "                              ...  \n",
              "Spies of Mississippi              1\n",
              "The Last White Knight             1\n",
              "The Model Solution                1\n",
              "Gogol Bordello Non-Stop           1\n",
              "7 Hours of Violence               1\n",
              "Name: Title, Length: 50017, dtype: int64"
            ]
          },
          "metadata": {},
          "execution_count": 37
        }
      ],
      "source": [
        "movie_rating['Title'].value_counts()"
      ]
    },
    {
      "cell_type": "code",
      "source": [
        "(movie_rating['Title'].value_counts() <= 4).sum()"
      ],
      "metadata": {
        "id": "25DTTIFhv215",
        "outputId": "cd359c1a-c171-49f5-9acf-f9bf2f0f8c2b",
        "colab": {
          "base_uri": "https://localhost:8080/"
        }
      },
      "id": "25DTTIFhv215",
      "execution_count": 38,
      "outputs": [
        {
          "output_type": "execute_result",
          "data": {
            "text/plain": [
              "20863"
            ]
          },
          "metadata": {},
          "execution_count": 38
        }
      ]
    },
    {
      "cell_type": "markdown",
      "id": "58ea03ca",
      "metadata": {
        "ExecuteTime": {
          "end_time": "2022-05-11T16:31:42.274164Z",
          "start_time": "2022-05-11T16:31:42.266381Z"
        },
        "id": "58ea03ca"
      },
      "source": [
        "Shawshank Redemption has the most ratings. There are a considerable number of movies that have less than 5 ratings (20,863)."
      ]
    },
    {
      "cell_type": "markdown",
      "id": "deb341f1",
      "metadata": {
        "id": "deb341f1"
      },
      "source": [
        "# Splits"
      ]
    },
    {
      "cell_type": "markdown",
      "id": "e895e7a8",
      "metadata": {
        "id": "e895e7a8"
      },
      "source": [
        "The `train test split` process was a little bit different than usual. This is because of how the `surprise` library's methods for `cross validation` and `GridSearch` are comprised. A different input type is needed for `GridSearch` and `cross validation` methods compared to the `.fit` and `.test` methods. The documentation recommends doing `cross validation` **OR** the `train test split`. Since we wanted to do both we had to `train test split` **twice:** `train_data` and `test_data`, defined below are used for `fitting` and `cross validation` while `train_data2` is used for predictions. "
      ]
    },
    {
      "cell_type": "code",
      "execution_count": 39,
      "id": "88fa2c75",
      "metadata": {
        "ExecuteTime": {
          "end_time": "2022-05-11T18:15:40.511172Z",
          "start_time": "2022-05-11T18:15:40.391720Z"
        },
        "id": "88fa2c75"
      },
      "outputs": [],
      "source": [
        "#for function building/final model\n",
        "reader = Reader(rating_scale=(1, 5))\n",
        "complete_data = Dataset.load_from_df(movie_rating[['userId', 'movieId', 'rating']], reader)"
      ]
    },
    {
      "cell_type": "code",
      "execution_count": 40,
      "id": "e01b165f",
      "metadata": {
        "ExecuteTime": {
          "end_time": "2022-05-11T18:15:40.812854Z",
          "start_time": "2022-05-11T18:15:40.575523Z"
        },
        "id": "e01b165f"
      },
      "outputs": [],
      "source": [
        "#use sklearn for model selection/choosing \n",
        "train, test = train_test_split(movie_rating, random_state=42)\n",
        "\n",
        "reader = Reader(rating_scale=(1, 5))\n",
        "train_data = Dataset.load_from_df(train[['userId', 'movieId', 'rating']], reader)\n",
        "test_data = Dataset.load_from_df(test[['userId', 'movieId', 'rating']], reader)\n",
        "\n",
        "\n",
        "train_data2 = train_data.build_full_trainset()\n",
        "test_data2 = test_data.build_full_trainset().build_testset()"
      ]
    },
    {
      "cell_type": "markdown",
      "id": "f756850b",
      "metadata": {
        "id": "f756850b"
      },
      "source": [
        "# Modeling"
      ]
    },
    {
      "cell_type": "markdown",
      "id": "c9831b2c",
      "metadata": {
        "id": "c9831b2c"
      },
      "source": [
        "### Baseline/dummy"
      ]
    },
    {
      "cell_type": "markdown",
      "id": "e7ecb0e8",
      "metadata": {
        "id": "e7ecb0e8"
      },
      "source": [
        "The first step in our **iterative modeling process** is to create and test a `dummy model`, which will act as our `base line RSME (root mean squared error) score` that we compare to when judging the **validity** and **performance** of our future models.  "
      ]
    },
    {
      "cell_type": "code",
      "execution_count": 41,
      "id": "1708d855",
      "metadata": {
        "ExecuteTime": {
          "end_time": "2022-05-11T16:11:14.281493Z",
          "start_time": "2022-05-11T16:11:13.061362Z"
        },
        "id": "1708d855"
      },
      "outputs": [],
      "source": [
        "dummy_model = NormalPredictor()\n",
        "#cross_validate(dummy_model, train_data, measures=['RMSE'], cv=5, verbose=True)"
      ]
    },
    {
      "cell_type": "code",
      "execution_count": 42,
      "id": "d8e69568",
      "metadata": {
        "ExecuteTime": {
          "end_time": "2022-05-11T16:38:39.340167Z",
          "start_time": "2022-05-11T16:38:39.079201Z"
        },
        "id": "d8e69568",
        "outputId": "18a09966-f634-4b81-dca7-e68df64e8ab8",
        "colab": {
          "base_uri": "https://localhost:8080/"
        }
      },
      "outputs": [
        {
          "output_type": "stream",
          "name": "stdout",
          "text": [
            "RMSE: 1.4493\n"
          ]
        },
        {
          "output_type": "execute_result",
          "data": {
            "text/plain": [
              "1.449312443601635"
            ]
          },
          "metadata": {},
          "execution_count": 42
        }
      ],
      "source": [
        "predictions = dummy_model.fit(train_data2).test(test_data2)\n",
        "baseline_rsme = accuracy.rmse(predictions)\n",
        "baseline_rsme"
      ]
    },
    {
      "cell_type": "markdown",
      "source": [
        "Nearing RAM limit in Google Colab. Will likely have to save final dataset and split models into different notebooks."
      ],
      "metadata": {
        "id": "vfhCld7ozQOC"
      },
      "id": "vfhCld7ozQOC"
    },
    {
      "cell_type": "markdown",
      "id": "fae1eaee",
      "metadata": {
        "id": "fae1eaee"
      },
      "source": [
        "### KNNBasics"
      ]
    },
    {
      "cell_type": "markdown",
      "id": "3a434133",
      "metadata": {
        "id": "3a434133"
      },
      "source": [
        "**The grid searches took a while to run, as such they are commented out for this notebook. The best parameters for each grid search is inputed into cross validation**"
      ]
    },
    {
      "cell_type": "markdown",
      "id": "92f9f0e2",
      "metadata": {
        "id": "92f9f0e2"
      },
      "source": [
        "The `k-nearest neighbors` (KNN) algorithm is a *simple*, *supervised machine learning* algorithm that can be used to solve both `classification` and `regression` problems. In this case, we are using it as the basis for our `recommendation system`. The premise is that the rating of movies *unseen* by the user will be **predicted** using *ratings of similar users*. In this case, the nearest \"neighbors\"."
      ]
    },
    {
      "cell_type": "code",
      "execution_count": null,
      "id": "aaba5899",
      "metadata": {
        "ExecuteTime": {
          "end_time": "2022-05-11T16:17:28.739738Z",
          "start_time": "2022-05-11T16:17:01.656080Z"
        },
        "id": "aaba5899"
      },
      "outputs": [],
      "source": [
        "# param_grid = {'k':[10, 50, 100],'min_k': [1, 5, 10]}\n",
        "# base_model = GridSearchCV(KNNBasic,param_grid=param_grid,joblib_verbose=5, measures=['RMSE'])\n",
        "# base_model.fit(train_data)"
      ]
    },
    {
      "cell_type": "code",
      "execution_count": null,
      "id": "9643d8fb",
      "metadata": {
        "ExecuteTime": {
          "end_time": "2022-05-11T16:18:08.893448Z",
          "start_time": "2022-05-11T16:18:08.876676Z"
        },
        "id": "9643d8fb"
      },
      "outputs": [],
      "source": [
        "# base_model.best_params"
      ]
    },
    {
      "cell_type": "code",
      "execution_count": null,
      "id": "4e0a8a23",
      "metadata": {
        "ExecuteTime": {
          "end_time": "2022-05-11T16:18:35.789798Z",
          "start_time": "2022-05-11T16:18:14.344612Z"
        },
        "id": "4e0a8a23"
      },
      "outputs": [],
      "source": [
        "#trying different parameters\n",
        "# param_grid = {'k':[5, 10, 15],'min_k': [1, 5, 10]}\n",
        "# base_model = GridSearchCV(KNNBasic,param_grid=param_grid,joblib_verbose=5, measures=['RMSE'])\n",
        "# base_model.fit(train_data)"
      ]
    },
    {
      "cell_type": "code",
      "execution_count": null,
      "id": "33881715",
      "metadata": {
        "id": "33881715"
      },
      "outputs": [],
      "source": [
        "# base_model.best_params"
      ]
    },
    {
      "cell_type": "code",
      "execution_count": null,
      "id": "9d87d0d8",
      "metadata": {
        "id": "9d87d0d8"
      },
      "outputs": [],
      "source": [
        "# param_grid = {'k':[10, 15, 20],'min_k': [1, 5, 10]}\n",
        "# base_model = GridSearchCV(KNNBasic,param_grid=param_grid,joblib_verbose=5, measures=['RMSE'])\n",
        "# base_model.fit(train_data)"
      ]
    },
    {
      "cell_type": "code",
      "execution_count": null,
      "id": "a5a13a17",
      "metadata": {
        "id": "a5a13a17"
      },
      "outputs": [],
      "source": [
        "# base_model.best_params"
      ]
    },
    {
      "cell_type": "markdown",
      "id": "31396797",
      "metadata": {
        "id": "31396797"
      },
      "source": [
        "We performed a `GridSearch` until the `hyper-parameters` were tuned to what is considered the *optimal amount*."
      ]
    },
    {
      "cell_type": "markdown",
      "id": "43c5e827",
      "metadata": {
        "id": "43c5e827"
      },
      "source": [
        "#### KNN Cross Validation"
      ]
    },
    {
      "cell_type": "code",
      "execution_count": null,
      "id": "020e694b",
      "metadata": {
        "ExecuteTime": {
          "end_time": "2022-05-11T16:18:35.792687Z",
          "start_time": "2022-05-11T16:18:35.790888Z"
        },
        "id": "020e694b"
      },
      "outputs": [],
      "source": [
        "#instantiate KNN model \n",
        "model1=KNNBasic(k=15, min_k=5)"
      ]
    },
    {
      "cell_type": "code",
      "execution_count": null,
      "id": "d75c9e84",
      "metadata": {
        "ExecuteTime": {
          "end_time": "2022-05-11T16:39:44.336062Z",
          "start_time": "2022-05-11T16:39:41.217623Z"
        },
        "scrolled": false,
        "id": "d75c9e84",
        "outputId": "eae8092e-f65c-41b1-8043-b6f964f43abd"
      },
      "outputs": [
        {
          "name": "stdout",
          "output_type": "stream",
          "text": [
            "Computing the msd similarity matrix...\n",
            "Done computing similarity matrix.\n",
            "Computing the msd similarity matrix...\n",
            "Done computing similarity matrix.\n",
            "Computing the msd similarity matrix...\n",
            "Done computing similarity matrix.\n",
            "Computing the msd similarity matrix...\n",
            "Done computing similarity matrix.\n",
            "Computing the msd similarity matrix...\n",
            "Done computing similarity matrix.\n",
            "Evaluating RMSE of algorithm KNNBasic on 5 split(s).\n",
            "\n",
            "                  Fold 1  Fold 2  Fold 3  Fold 4  Fold 5  Mean    Std     \n",
            "RMSE (testset)    0.9498  0.9526  0.9621  0.9536  0.9411  0.9519  0.0067  \n",
            "Fit time          0.07    0.07    0.07    0.07    0.07    0.07    0.00    \n",
            "Test time         0.52    0.49    0.55    0.51    0.61    0.54    0.04    \n"
          ]
        },
        {
          "data": {
            "text/plain": [
              "{'test_rmse': array([0.94981707, 0.95256237, 0.96208644, 0.95364915, 0.94113532]),\n",
              " 'fit_time': (0.07169246673583984,\n",
              "  0.0717618465423584,\n",
              "  0.06754112243652344,\n",
              "  0.06877017021179199,\n",
              "  0.0717618465423584),\n",
              " 'test_time': (0.5158190727233887,\n",
              "  0.49244117736816406,\n",
              "  0.5522491931915283,\n",
              "  0.5122096538543701,\n",
              "  0.6079607009887695)}"
            ]
          },
          "execution_count": 45,
          "metadata": {},
          "output_type": "execute_result"
        }
      ],
      "source": [
        "#instaniatite and perform cross val with training data\n",
        "knn_cv_results = cross_validate(model1, train_data, measures=['RMSE'], cv=5, verbose=True)\n",
        "knn_cv_results"
      ]
    },
    {
      "cell_type": "code",
      "execution_count": null,
      "id": "58720ca0",
      "metadata": {
        "id": "58720ca0",
        "outputId": "11de76f5-e050-4a53-e453-7cf3f9a1bb40"
      },
      "outputs": [
        {
          "data": {
            "text/plain": [
              "Prediction(uid=10, iid=20, r_ui=None, est=2.7014774642183195, details={'actual_k': 10, 'was_impossible': False})"
            ]
          },
          "execution_count": 46,
          "metadata": {},
          "output_type": "execute_result"
        }
      ],
      "source": [
        "#use model to predict\n",
        "model1.predict(uid=10, iid = 20)\n",
        "#this model just predicted what user 10 would predict movie 20"
      ]
    },
    {
      "cell_type": "code",
      "execution_count": null,
      "id": "f08f2181",
      "metadata": {
        "ExecuteTime": {
          "end_time": "2022-05-11T16:41:24.811007Z",
          "start_time": "2022-05-11T16:41:24.804825Z"
        },
        "id": "f08f2181",
        "outputId": "abc8a87c-6746-4fea-811f-2746dd161655"
      },
      "outputs": [
        {
          "data": {
            "text/plain": [
              "0.9518500720049218"
            ]
          },
          "execution_count": 47,
          "metadata": {},
          "output_type": "execute_result"
        }
      ],
      "source": [
        "knn_rsme = knn_cv_results['test_rmse'].mean()\n",
        "knn_rsme"
      ]
    },
    {
      "cell_type": "markdown",
      "id": "b24c178e",
      "metadata": {
        "id": "b24c178e"
      },
      "source": [
        "Looking at the output above we can determine that our model predicted that **user 10** would rate **movie 20** a **2.5** give or take our **RSME** which is **.95**."
      ]
    },
    {
      "cell_type": "markdown",
      "id": "3af45d2f",
      "metadata": {
        "id": "3af45d2f"
      },
      "source": [
        "### SVD"
      ]
    },
    {
      "cell_type": "markdown",
      "id": "7695c45d",
      "metadata": {
        "id": "7695c45d"
      },
      "source": [
        "After defining our `baseline model` and exploring the `KNN` algorithm, we decided to try using `Singular Value Decomposition (SVD)` algorithm, in the hopes that it would improve the `accuracy` of our model and lower the `RSME`. The `surprise` library uses a form of `SVD` called `Funk's SVD`, the premise behind it is a **matrix factorization-based model**. This means it *transforms* a **user-item matrix** (in our case, a *user-movie ratings matrix*)into latent factor matrices. It is also important to note that errors are *minimized* using `stochastic gradient descent`.  This means that both `regularization` and `learning rate` are `hyper-parameters` that we can tune. Number of `factors` and number of `epochs` are also `hyper-parameters` we tuned."
      ]
    },
    {
      "cell_type": "code",
      "execution_count": null,
      "id": "8965cf10",
      "metadata": {
        "id": "8965cf10"
      },
      "outputs": [],
      "source": [
        "model2 = SVD()"
      ]
    },
    {
      "cell_type": "code",
      "execution_count": null,
      "id": "d31fc592",
      "metadata": {
        "id": "d31fc592",
        "outputId": "33536307-a8fd-4ddc-d399-4b4298feb916"
      },
      "outputs": [
        {
          "name": "stdout",
          "output_type": "stream",
          "text": [
            "Evaluating RMSE of algorithm SVD on 5 split(s).\n",
            "\n",
            "                  Fold 1  Fold 2  Fold 3  Fold 4  Fold 5  Mean    Std     \n",
            "RMSE (testset)    0.8789  0.8800  0.8756  0.8823  0.8831  0.8800  0.0027  \n",
            "Fit time          2.61    2.64    2.58    2.52    2.44    2.56    0.07    \n",
            "Test time         0.08    0.07    0.08    0.07    0.13    0.09    0.02    \n"
          ]
        },
        {
          "data": {
            "text/plain": [
              "{'test_rmse': array([0.87887842, 0.88000044, 0.87560258, 0.88229692, 0.88306141]),\n",
              " 'fit_time': (2.607375383377075,\n",
              "  2.639669179916382,\n",
              "  2.577373504638672,\n",
              "  2.5218799114227295,\n",
              "  2.4448211193084717),\n",
              " 'test_time': (0.08072996139526367,\n",
              "  0.06677699089050293,\n",
              "  0.07973456382751465,\n",
              "  0.06677699089050293,\n",
              "  0.13256096839904785)}"
            ]
          },
          "execution_count": 49,
          "metadata": {},
          "output_type": "execute_result"
        }
      ],
      "source": [
        "cross_validate(model2, train_data, measures=['RMSE'], cv=5, verbose=True)"
      ]
    },
    {
      "cell_type": "code",
      "execution_count": null,
      "id": "3318989d",
      "metadata": {
        "id": "3318989d"
      },
      "outputs": [],
      "source": [
        "# param_grid = {'n_factors':[10,20,50],'n_epochs': [5, 10, 15], 'lr_all': [0.002,0.005,0.01],\n",
        "#              'reg_all': [0.2,0.4,0.6]}\n",
        "# gs_model2 = GridSearchCV(SVD,param_grid=param_grid,joblib_verbose=5, measures=['RMSE'])\n",
        "# gs_model2.fit(train_data)"
      ]
    },
    {
      "cell_type": "code",
      "execution_count": null,
      "id": "fe936299",
      "metadata": {
        "id": "fe936299"
      },
      "outputs": [],
      "source": [
        "# gs_model2.best_params"
      ]
    },
    {
      "cell_type": "code",
      "execution_count": null,
      "id": "195fedde",
      "metadata": {
        "id": "195fedde"
      },
      "outputs": [],
      "source": [
        "# param_grid = {'n_factors':[25, 50, 75],'n_epochs': [15, 30, 45], 'lr_all': [0.01,0.05,0.1],\n",
        "#              'reg_all': [0.1,0.2,0.3]}\n",
        "# gs_model2 = GridSearchCV(SVD,param_grid=param_grid,joblib_verbose=5, measures=['RMSE'])\n",
        "# gs_model2.fit(train_data)"
      ]
    },
    {
      "cell_type": "code",
      "execution_count": null,
      "id": "8f9a6c9c",
      "metadata": {
        "id": "8f9a6c9c"
      },
      "outputs": [],
      "source": [
        "# gs_model2.best_params"
      ]
    },
    {
      "cell_type": "code",
      "execution_count": null,
      "id": "6fa03534",
      "metadata": {
        "id": "6fa03534",
        "outputId": "c22c1b6e-c3ed-4d5c-ee00-7c81488b247e"
      },
      "outputs": [
        {
          "name": "stdout",
          "output_type": "stream",
          "text": [
            "Evaluating RMSE of algorithm SVD on 5 split(s).\n",
            "\n",
            "                  Fold 1  Fold 2  Fold 3  Fold 4  Fold 5  Mean    Std     \n",
            "RMSE (testset)    0.8564  0.8516  0.8676  0.8614  0.8663  0.8607  0.0060  \n",
            "Fit time          4.64    4.72    5.04    4.90    4.55    4.77    0.18    \n",
            "Test time         0.07    0.16    0.07    0.09    0.09    0.10    0.04    \n"
          ]
        },
        {
          "data": {
            "text/plain": [
              "{'test_rmse': array([0.85644098, 0.85157425, 0.86763833, 0.86141483, 0.86633767]),\n",
              " 'fit_time': (4.635298252105713,\n",
              "  4.717840194702148,\n",
              "  5.039127349853516,\n",
              "  4.903642177581787,\n",
              "  4.554098129272461),\n",
              " 'test_time': (0.06677651405334473,\n",
              "  0.1634528636932373,\n",
              "  0.06976771354675293,\n",
              "  0.09376382827758789,\n",
              "  0.08871006965637207)}"
            ]
          },
          "execution_count": 54,
          "metadata": {},
          "output_type": "execute_result"
        }
      ],
      "source": [
        "cross_validate(SVD(n_factors=75,n_epochs=45,lr_all=0.01,reg_all=0.1), train_data, measures=['RMSE'], \n",
        "               cv=5, verbose=True)"
      ]
    },
    {
      "cell_type": "code",
      "execution_count": null,
      "id": "718df0d8",
      "metadata": {
        "id": "718df0d8"
      },
      "outputs": [],
      "source": [
        "# param_grid = {'n_factors':[75, 100, 125],'n_epochs': [45, 60, 75], 'lr_all': [.005, 0.01, .015],\n",
        "#              'reg_all': [.05, 0.1, 0.15]}\n",
        "# gs_model2 = GridSearchCV(SVD,param_grid=param_grid,joblib_verbose=5, measures=['RMSE'])\n",
        "# gs_model2.fit(train_data)"
      ]
    },
    {
      "cell_type": "code",
      "execution_count": null,
      "id": "55310c89",
      "metadata": {
        "id": "55310c89"
      },
      "outputs": [],
      "source": [
        "# gs_model2.best_params"
      ]
    },
    {
      "cell_type": "code",
      "execution_count": null,
      "id": "516173a9",
      "metadata": {
        "ExecuteTime": {
          "end_time": "2022-05-11T16:43:07.493802Z",
          "start_time": "2022-05-11T16:42:25.812800Z"
        },
        "id": "516173a9"
      },
      "outputs": [],
      "source": [
        "svd_cv_results = cross_validate(SVD(n_factors=125,n_epochs=45,lr_all=0.015,reg_all=0.1), train_data, measures=['RMSE'], \n",
        "               cv=5, verbose=True)\n",
        "svd_cv_results"
      ]
    },
    {
      "cell_type": "code",
      "execution_count": null,
      "id": "d4b4ac2b",
      "metadata": {
        "ExecuteTime": {
          "end_time": "2022-05-11T16:43:07.497876Z",
          "start_time": "2022-05-11T16:43:07.495424Z"
        },
        "id": "d4b4ac2b",
        "outputId": "667ef3f5-b262-42cc-89a3-d4f0a0cbe9ae"
      },
      "outputs": [
        {
          "data": {
            "text/plain": [
              "0.8591781610881813"
            ]
          },
          "execution_count": 58,
          "metadata": {},
          "output_type": "execute_result"
        }
      ],
      "source": [
        "svd_rsme = svd_cv_results['test_rmse'].mean()\n",
        "svd_rsme"
      ]
    },
    {
      "cell_type": "markdown",
      "id": "fb0bdc02",
      "metadata": {
        "id": "fb0bdc02"
      },
      "source": [
        "### NMF"
      ]
    },
    {
      "cell_type": "markdown",
      "id": "c5270898",
      "metadata": {
        "id": "c5270898"
      },
      "source": [
        "The **final algorithm** we explored in the `surprise` Library was `Non-negative Matrix Factorization (NMF)`. The only difference between this algorithm and the previous algorithm `SVD` is that in `NMF`, a specific *step size* is set for the `stochastic gradient descent` process of `regularization`. This is done to ensure that all **user** and **item factors** are kept positive. While this model can be prone to **over-fitting**, this can be mitigated with steps to **reduce the dimensionality** of our **data/factors**. "
      ]
    },
    {
      "cell_type": "code",
      "execution_count": null,
      "id": "2b8552dc",
      "metadata": {
        "id": "2b8552dc"
      },
      "outputs": [],
      "source": [
        "model3 = NMF()"
      ]
    },
    {
      "cell_type": "code",
      "execution_count": null,
      "id": "65ef51ae",
      "metadata": {
        "id": "65ef51ae",
        "outputId": "a070ab52-8db3-4f30-be1a-2d766d2e7caa"
      },
      "outputs": [
        {
          "name": "stdout",
          "output_type": "stream",
          "text": [
            "Evaluating RMSE of algorithm NMF on 5 split(s).\n",
            "\n",
            "                  Fold 1  Fold 2  Fold 3  Fold 4  Fold 5  Mean    Std     \n",
            "RMSE (testset)    0.9482  0.9284  0.9456  0.9432  0.9248  0.9381  0.0095  \n",
            "Fit time          3.96    3.58    3.64    4.36    3.80    3.87    0.28    \n",
            "Test time         0.06    0.06    0.06    0.07    0.14    0.08    0.03    \n"
          ]
        },
        {
          "data": {
            "text/plain": [
              "{'test_rmse': array([0.94823616, 0.92843048, 0.94562281, 0.94320069, 0.92479912]),\n",
              " 'fit_time': (3.9567813873291016,\n",
              "  3.582054615020752,\n",
              "  3.643934488296509,\n",
              "  4.355371952056885,\n",
              "  3.7997536659240723),\n",
              " 'test_time': (0.059800148010253906,\n",
              "  0.058803558349609375,\n",
              "  0.0627899169921875,\n",
              "  0.06729555130004883,\n",
              "  0.1445159912109375)}"
            ]
          },
          "execution_count": 60,
          "metadata": {},
          "output_type": "execute_result"
        }
      ],
      "source": [
        "cross_validate(model3, train_data, measures=['RMSE'], cv=5, verbose=True)"
      ]
    },
    {
      "cell_type": "code",
      "execution_count": null,
      "id": "bae63fc7",
      "metadata": {
        "id": "bae63fc7"
      },
      "outputs": [],
      "source": [
        "# param_grid = {'n_factors':[10,15,20],'n_epochs': [25, 50, 75]}\n",
        "# gs_model3 = GridSearchCV(NMF,param_grid=param_grid,joblib_verbose=5, measures=['RMSE'])\n",
        "# gs_model3.fit(train_data)"
      ]
    },
    {
      "cell_type": "code",
      "execution_count": null,
      "id": "4211f575",
      "metadata": {
        "id": "4211f575"
      },
      "outputs": [],
      "source": [
        "# gs_model3.best_params"
      ]
    },
    {
      "cell_type": "code",
      "execution_count": null,
      "id": "bf9e8a59",
      "metadata": {
        "id": "bf9e8a59",
        "outputId": "d635a657-9740-40b7-de5f-a3b9f12018b0"
      },
      "outputs": [
        {
          "name": "stdout",
          "output_type": "stream",
          "text": [
            "Evaluating RMSE of algorithm NMF on 5 split(s).\n",
            "\n",
            "                  Fold 1  Fold 2  Fold 3  Fold 4  Fold 5  Mean    Std     \n",
            "RMSE (testset)    0.9674  0.9826  0.9737  0.9728  0.9682  0.9730  0.0054  \n",
            "Fit time          1.73    1.62    1.57    1.59    1.87    1.68    0.11    \n",
            "Test time         0.06    0.14    0.08    0.07    0.14    0.10    0.04    \n"
          ]
        },
        {
          "data": {
            "text/plain": [
              "{'test_rmse': array([0.96741159, 0.98263188, 0.97374586, 0.97280672, 0.96821345]),\n",
              " 'fit_time': (1.7255523204803467,\n",
              "  1.615922212600708,\n",
              "  1.5716705322265625,\n",
              "  1.5916743278503418,\n",
              "  1.8737311363220215),\n",
              " 'test_time': (0.060796499252319336,\n",
              "  0.13953733444213867,\n",
              "  0.07774019241333008,\n",
              "  0.07275772094726562,\n",
              "  0.14452052116394043)}"
            ]
          },
          "execution_count": 63,
          "metadata": {},
          "output_type": "execute_result"
        }
      ],
      "source": [
        "cross_validate(NMF(n_factors=10,n_epochs=25), train_data, measures=['RMSE'], \n",
        "               cv=5, verbose=True)"
      ]
    },
    {
      "cell_type": "code",
      "execution_count": null,
      "id": "90834d0a",
      "metadata": {
        "ExecuteTime": {
          "end_time": "2022-05-11T16:44:27.860007Z",
          "start_time": "2022-05-11T16:43:40.604980Z"
        },
        "id": "90834d0a"
      },
      "outputs": [],
      "source": [
        "# param_grid = {'n_factors':[3,5,10],'n_epochs': [15, 20, 25]}\n",
        "# gs_model3 = GridSearchCV(NMF,param_grid=param_grid,joblib_verbose=5, measures=['RMSE'])\n",
        "# gs_model3.fit(train_data)"
      ]
    },
    {
      "cell_type": "code",
      "execution_count": null,
      "id": "1872c18c",
      "metadata": {
        "ExecuteTime": {
          "end_time": "2022-05-11T16:44:27.864242Z",
          "start_time": "2022-05-11T16:44:27.861448Z"
        },
        "id": "1872c18c"
      },
      "outputs": [],
      "source": [
        "# gs_model3.best_params"
      ]
    },
    {
      "cell_type": "code",
      "execution_count": null,
      "id": "f012b311",
      "metadata": {
        "ExecuteTime": {
          "end_time": "2022-05-11T16:49:26.020560Z",
          "start_time": "2022-05-11T16:46:32.311588Z"
        },
        "id": "f012b311"
      },
      "outputs": [],
      "source": [
        "# param_grid = {'n_factors':[10, 20, 30],'n_epochs': [25, 50, 75]}\n",
        "# gs_model3 = GridSearchCV(NMF,param_grid=param_grid,joblib_verbose=5, measures=['RMSE'])\n",
        "# gs_model3.fit(train_data)"
      ]
    },
    {
      "cell_type": "code",
      "execution_count": null,
      "id": "31dc6aa3",
      "metadata": {
        "ExecuteTime": {
          "end_time": "2022-05-11T16:51:20.901862Z",
          "start_time": "2022-05-11T16:51:20.894123Z"
        },
        "id": "31dc6aa3"
      },
      "outputs": [],
      "source": [
        "# gs_model3.best_params"
      ]
    },
    {
      "cell_type": "code",
      "execution_count": null,
      "id": "d91704db",
      "metadata": {
        "ExecuteTime": {
          "end_time": "2022-05-11T16:51:55.029101Z",
          "start_time": "2022-05-11T16:51:35.915650Z"
        },
        "id": "d91704db",
        "outputId": "782b34f1-fbf8-4a67-bbc4-7ff9994fb4cb"
      },
      "outputs": [
        {
          "name": "stdout",
          "output_type": "stream",
          "text": [
            "Evaluating RMSE of algorithm NMF on 5 split(s).\n",
            "\n",
            "                  Fold 1  Fold 2  Fold 3  Fold 4  Fold 5  Mean    Std     \n",
            "RMSE (testset)    0.9363  0.9346  0.9375  0.9444  0.9342  0.9374  0.0037  \n",
            "Fit time          4.06    4.05    4.16    3.87    3.88    4.00    0.11    \n",
            "Test time         0.06    0.07    0.06    0.06    0.14    0.08    0.03    \n"
          ]
        }
      ],
      "source": [
        "nmf_cv_results = cross_validate(NMF(n_factors=20,n_epochs=50), train_data, measures=['RMSE'], \n",
        "               cv=5, verbose=True)"
      ]
    },
    {
      "cell_type": "code",
      "execution_count": null,
      "id": "c48de5da",
      "metadata": {
        "ExecuteTime": {
          "end_time": "2022-05-11T16:51:55.033406Z",
          "start_time": "2022-05-11T16:51:55.030692Z"
        },
        "id": "c48de5da",
        "outputId": "e34234cb-28ec-4f9a-ce90-9f28ac492abf"
      },
      "outputs": [
        {
          "data": {
            "text/plain": [
              "0.9374113693612329"
            ]
          },
          "execution_count": 69,
          "metadata": {},
          "output_type": "execute_result"
        }
      ],
      "source": [
        "nmf_rsme = nmf_cv_results['test_rmse'].mean()\n",
        "nmf_rsme"
      ]
    },
    {
      "cell_type": "markdown",
      "id": "eaf4179e",
      "metadata": {
        "id": "eaf4179e"
      },
      "source": [
        "### Model Performance"
      ]
    },
    {
      "cell_type": "code",
      "execution_count": null,
      "id": "e98b529e",
      "metadata": {
        "ExecuteTime": {
          "end_time": "2022-05-11T16:52:24.947798Z",
          "start_time": "2022-05-11T16:52:24.942233Z"
        },
        "id": "e98b529e",
        "outputId": "62075150-e8fc-43c5-c061-75d8e37dbe62"
      },
      "outputs": [
        {
          "data": {
            "text/plain": [
              "(1.4299688225641143,\n",
              " 0.9518500720049218,\n",
              " 0.8591781610881813,\n",
              " 0.9374113693612329)"
            ]
          },
          "execution_count": 70,
          "metadata": {},
          "output_type": "execute_result"
        }
      ],
      "source": [
        "baseline_rsme, knn_rsme, svd_rsme, nmf_rsme"
      ]
    },
    {
      "cell_type": "code",
      "execution_count": null,
      "id": "db093228",
      "metadata": {
        "ExecuteTime": {
          "end_time": "2022-05-11T16:57:46.561318Z",
          "start_time": "2022-05-11T16:57:46.433650Z"
        },
        "scrolled": false,
        "id": "db093228",
        "outputId": "cd3dc1fb-26b0-4c77-d786-c4129bd25f50"
      },
      "outputs": [
        {
          "data": {
            "image/png": "[encoded data removed]",
            "text/plain": [
              "<Figure size 640x480 with 1 Axes>"
            ]
          },
          "metadata": {},
          "output_type": "display_data"
        }
      ],
      "source": [
        "objects = ('Baseline', 'KNN', 'NMF', 'SVD')\n",
        "y_pos = np.arange(len(objects))\n",
        "performance = [baseline_rsme, knn_rsme, nmf_rsme, svd_rsme]\n",
        "\n",
        "plt.bar(y_pos, performance, align='center', alpha=0.5, color=['red', 'blue', 'blue', 'green'])\n",
        "plt.xticks(y_pos, objects)\n",
        "plt.ylabel('Error')\n",
        "plt.title('Model Performance')\n",
        "\n",
        "plt.savefig('./images/model_performance.png', dpi = 200 )\n",
        "\n",
        "plt.show();"
      ]
    },
    {
      "cell_type": "markdown",
      "id": "c034f4d5",
      "metadata": {
        "id": "c034f4d5"
      },
      "source": [
        "When we compare the **best model** with *each different* algorithm explored, with `hyper-parameters` tuned to *optimize*, we found that our **best model** using `SVD` is the model which exhibits the *lowest* `RSME` in `cross validation`. Therefore that is the model we have determined to be our **final model**."
      ]
    },
    {
      "cell_type": "code",
      "execution_count": null,
      "id": "97b0f882",
      "metadata": {
        "scrolled": false,
        "id": "97b0f882",
        "outputId": "08961969-b7ce-406b-cf4e-11a60bd2748d"
      },
      "outputs": [
        {
          "data": {
            "image/png": "[encoded data removed]",
            "text/plain": [
              "<Figure size 640x480 with 1 Axes>"
            ]
          },
          "metadata": {},
          "output_type": "display_data"
        }
      ],
      "source": [
        "objects = (\"Final\", \"3rd\", \"2nd\", \"1st\")\n",
        "y_pos = np.arange(len(objects))\n",
        "performance = [svd_rsme-.7, nmf_rsme-.7, knn_rsme-.7, baseline_rsme-.7]\n",
        "\n",
        "plt.bar(y_pos, performance, align='center', alpha=0.5, color=['green', 'blue', 'blue', 'red'], bottom=.7)\n",
        "plt.xticks(y_pos, objects)\n",
        "plt.ylabel('Error')\n",
        "plt.title('Model Performance')\n",
        "\n",
        "plt.savefig('./images/model_performance_presentation.png', dpi = 200 )\n",
        "\n",
        "plt.show();"
      ]
    },
    {
      "cell_type": "markdown",
      "id": "4eb21bc6",
      "metadata": {
        "id": "4eb21bc6"
      },
      "source": [
        "The above graph is for our nontechnical presentation. "
      ]
    },
    {
      "cell_type": "markdown",
      "id": "7e99fb30",
      "metadata": {
        "id": "7e99fb30"
      },
      "source": [
        "### Final Model Evaluation"
      ]
    },
    {
      "cell_type": "code",
      "execution_count": null,
      "id": "14bd70d7",
      "metadata": {
        "ExecuteTime": {
          "end_time": "2022-05-11T18:15:54.378941Z",
          "start_time": "2022-05-11T18:15:54.372126Z"
        },
        "id": "14bd70d7"
      },
      "outputs": [],
      "source": [
        "final_model = SVD(n_factors=125,n_epochs=45,lr_all=0.015,reg_all=0.1)"
      ]
    },
    {
      "cell_type": "code",
      "execution_count": null,
      "id": "b8ee930e",
      "metadata": {
        "ExecuteTime": {
          "end_time": "2022-05-11T18:16:05.008323Z",
          "start_time": "2022-05-11T18:15:54.801508Z"
        },
        "id": "b8ee930e"
      },
      "outputs": [],
      "source": [
        "predictions = final_model.fit(train_data2).test(test_data2)"
      ]
    },
    {
      "cell_type": "code",
      "execution_count": null,
      "id": "53812884",
      "metadata": {
        "ExecuteTime": {
          "end_time": "2022-05-11T18:16:05.036643Z",
          "start_time": "2022-05-11T18:16:05.011229Z"
        },
        "id": "53812884",
        "outputId": "6762b65a-fbe1-4cd2-8a24-1442405f2955"
      },
      "outputs": [
        {
          "name": "stdout",
          "output_type": "stream",
          "text": [
            "RMSE: 0.8599\n"
          ]
        },
        {
          "data": {
            "text/plain": [
              "0.8599180315314878"
            ]
          },
          "execution_count": 75,
          "metadata": {},
          "output_type": "execute_result"
        }
      ],
      "source": [
        "accuracy.rmse(predictions)"
      ]
    },
    {
      "cell_type": "markdown",
      "id": "8bbcf959",
      "metadata": {
        "id": "8bbcf959"
      },
      "source": [
        "## Deployment"
      ]
    },
    {
      "cell_type": "markdown",
      "id": "01725c2b",
      "metadata": {
        "id": "01725c2b"
      },
      "source": [
        "In terms of deploying our final model, we used retrained our final model on the complete data set. To fit the complete data set, we transformed it into a surprise train set. "
      ]
    },
    {
      "cell_type": "code",
      "execution_count": null,
      "id": "4817fd4a",
      "metadata": {
        "ExecuteTime": {
          "end_time": "2022-05-11T18:16:36.720025Z",
          "start_time": "2022-05-11T18:16:36.536692Z"
        },
        "id": "4817fd4a"
      },
      "outputs": [],
      "source": [
        "#create trainset object from surprise dataset\n",
        "full_data = complete_data.build_full_trainset()"
      ]
    },
    {
      "cell_type": "code",
      "execution_count": null,
      "id": "5537b58a",
      "metadata": {
        "ExecuteTime": {
          "end_time": "2022-05-11T18:16:49.733076Z",
          "start_time": "2022-05-11T18:16:36.721450Z"
        },
        "id": "5537b58a",
        "outputId": "c27754f2-011a-4e3d-beeb-818902524b71"
      },
      "outputs": [
        {
          "data": {
            "text/plain": [
              "<surprise.prediction_algorithms.matrix_factorization.SVD at 0x1e0369b5250>"
            ]
          },
          "execution_count": 77,
          "metadata": {},
          "output_type": "execute_result"
        }
      ],
      "source": [
        "final_model.fit(full_data)"
      ]
    },
    {
      "cell_type": "markdown",
      "id": "2be5e293",
      "metadata": {
        "id": "2be5e293"
      },
      "source": [
        "#### Function Building"
      ]
    },
    {
      "cell_type": "markdown",
      "id": "87c07105",
      "metadata": {
        "id": "87c07105"
      },
      "source": [
        "Below is the process in which we built our deployment function. The purpose of this function is to take 3 inputs from the reader and give movie recommendations based on those inputs"
      ]
    },
    {
      "cell_type": "code",
      "execution_count": null,
      "id": "29f63ef6",
      "metadata": {
        "ExecuteTime": {
          "end_time": "2022-05-11T18:16:49.747635Z",
          "start_time": "2022-05-11T18:16:49.735335Z"
        },
        "id": "29f63ef6"
      },
      "outputs": [],
      "source": [
        "#setting index to ensure dropping\n",
        "userdf = movie_rating.set_index('userId')"
      ]
    },
    {
      "cell_type": "markdown",
      "id": "ea0cd15f",
      "metadata": {
        "id": "ea0cd15f"
      },
      "source": [
        "First we reset the index in our merged data frame (*movie_rating*)  to have *userId* as the index. This is to ensure the matrix that is inputted into our recommender function is in the correct format."
      ]
    },
    {
      "cell_type": "code",
      "execution_count": null,
      "id": "81c415af",
      "metadata": {
        "ExecuteTime": {
          "end_time": "2022-05-11T18:16:49.766575Z",
          "start_time": "2022-05-11T18:16:49.750443Z"
        },
        "id": "81c415af",
        "outputId": "af9d613d-688f-4b35-912f-4f9dc18c5a98"
      },
      "outputs": [
        {
          "data": {
            "text/html": [
              "<div>\n",
              "<style scoped>\n",
              "    .dataframe tbody tr th:only-of-type {\n",
              "        vertical-align: middle;\n",
              "    }\n",
              "\n",
              "    .dataframe tbody tr th {\n",
              "        vertical-align: top;\n",
              "    }\n",
              "\n",
              "    .dataframe thead th {\n",
              "        text-align: right;\n",
              "    }\n",
              "</style>\n",
              "<table border=\"1\" class=\"dataframe\">\n",
              "  <thead>\n",
              "    <tr style=\"text-align: right;\">\n",
              "      <th></th>\n",
              "      <th>movieId</th>\n",
              "      <th>genres</th>\n",
              "      <th>Title</th>\n",
              "      <th>year_released</th>\n",
              "      <th>rating</th>\n",
              "      <th>timestamp</th>\n",
              "    </tr>\n",
              "    <tr>\n",
              "      <th>userId</th>\n",
              "      <th></th>\n",
              "      <th></th>\n",
              "      <th></th>\n",
              "      <th></th>\n",
              "      <th></th>\n",
              "      <th></th>\n",
              "    </tr>\n",
              "  </thead>\n",
              "  <tbody>\n",
              "    <tr>\n",
              "      <th>1.0</th>\n",
              "      <td>1</td>\n",
              "      <td>adventure, animation, children, comedy, fantasy</td>\n",
              "      <td>Toy Story</td>\n",
              "      <td>1995</td>\n",
              "      <td>4.0</td>\n",
              "      <td>2000-07-30 18:45:03</td>\n",
              "    </tr>\n",
              "    <tr>\n",
              "      <th>5.0</th>\n",
              "      <td>1</td>\n",
              "      <td>adventure, animation, children, comedy, fantasy</td>\n",
              "      <td>Toy Story</td>\n",
              "      <td>1995</td>\n",
              "      <td>4.0</td>\n",
              "      <td>1996-11-08 06:36:02</td>\n",
              "    </tr>\n",
              "    <tr>\n",
              "      <th>7.0</th>\n",
              "      <td>1</td>\n",
              "      <td>adventure, animation, children, comedy, fantasy</td>\n",
              "      <td>Toy Story</td>\n",
              "      <td>1995</td>\n",
              "      <td>4.5</td>\n",
              "      <td>2005-01-25 06:52:26</td>\n",
              "    </tr>\n",
              "    <tr>\n",
              "      <th>15.0</th>\n",
              "      <td>1</td>\n",
              "      <td>adventure, animation, children, comedy, fantasy</td>\n",
              "      <td>Toy Story</td>\n",
              "      <td>1995</td>\n",
              "      <td>2.5</td>\n",
              "      <td>2017-11-13 12:59:30</td>\n",
              "    </tr>\n",
              "    <tr>\n",
              "      <th>17.0</th>\n",
              "      <td>1</td>\n",
              "      <td>adventure, animation, children, comedy, fantasy</td>\n",
              "      <td>Toy Story</td>\n",
              "      <td>1995</td>\n",
              "      <td>4.5</td>\n",
              "      <td>2011-05-18 05:28:03</td>\n",
              "    </tr>\n",
              "    <tr>\n",
              "      <th>...</th>\n",
              "      <td>...</td>\n",
              "      <td>...</td>\n",
              "      <td>...</td>\n",
              "      <td>...</td>\n",
              "      <td>...</td>\n",
              "      <td>...</td>\n",
              "    </tr>\n",
              "    <tr>\n",
              "      <th>184.0</th>\n",
              "      <td>193581</td>\n",
              "      <td>action, animation, comedy, fantasy</td>\n",
              "      <td>Black Butler: Book of the Atlantic</td>\n",
              "      <td>2017</td>\n",
              "      <td>4.0</td>\n",
              "      <td>2018-09-16 14:44:42</td>\n",
              "    </tr>\n",
              "    <tr>\n",
              "      <th>184.0</th>\n",
              "      <td>193583</td>\n",
              "      <td>animation, comedy, fantasy</td>\n",
              "      <td>No Game No Life: Zero</td>\n",
              "      <td>2017</td>\n",
              "      <td>3.5</td>\n",
              "      <td>2018-09-16 14:52:25</td>\n",
              "    </tr>\n",
              "    <tr>\n",
              "      <th>184.0</th>\n",
              "      <td>193585</td>\n",
              "      <td>drama</td>\n",
              "      <td>Flint</td>\n",
              "      <td>2017</td>\n",
              "      <td>3.5</td>\n",
              "      <td>2018-09-16 14:56:45</td>\n",
              "    </tr>\n",
              "    <tr>\n",
              "      <th>184.0</th>\n",
              "      <td>193587</td>\n",
              "      <td>action, animation</td>\n",
              "      <td>Bungo Stray Dogs: Dead Apple</td>\n",
              "      <td>2018</td>\n",
              "      <td>3.5</td>\n",
              "      <td>2018-09-16 15:00:21</td>\n",
              "    </tr>\n",
              "    <tr>\n",
              "      <th>331.0</th>\n",
              "      <td>193609</td>\n",
              "      <td>comedy</td>\n",
              "      <td>Andrew Dice Clay: Dice Rules</td>\n",
              "      <td>1991</td>\n",
              "      <td>4.0</td>\n",
              "      <td>2018-09-17 04:13:26</td>\n",
              "    </tr>\n",
              "  </tbody>\n",
              "</table>\n",
              "<p>100813 rows × 6 columns</p>\n",
              "</div>"
            ],
            "text/plain": [
              "        movieId                                           genres  \\\n",
              "userId                                                             \n",
              "1.0           1  adventure, animation, children, comedy, fantasy   \n",
              "5.0           1  adventure, animation, children, comedy, fantasy   \n",
              "7.0           1  adventure, animation, children, comedy, fantasy   \n",
              "15.0          1  adventure, animation, children, comedy, fantasy   \n",
              "17.0          1  adventure, animation, children, comedy, fantasy   \n",
              "...         ...                                              ...   \n",
              "184.0    193581               action, animation, comedy, fantasy   \n",
              "184.0    193583                       animation, comedy, fantasy   \n",
              "184.0    193585                                            drama   \n",
              "184.0    193587                                action, animation   \n",
              "331.0    193609                                           comedy   \n",
              "\n",
              "                                      Title year_released  rating  \\\n",
              "userId                                                              \n",
              "1.0                              Toy Story           1995     4.0   \n",
              "5.0                              Toy Story           1995     4.0   \n",
              "7.0                              Toy Story           1995     4.5   \n",
              "15.0                             Toy Story           1995     2.5   \n",
              "17.0                             Toy Story           1995     4.5   \n",
              "...                                     ...           ...     ...   \n",
              "184.0   Black Butler: Book of the Atlantic           2017     4.0   \n",
              "184.0                No Game No Life: Zero           2017     3.5   \n",
              "184.0                                Flint           2017     3.5   \n",
              "184.0         Bungo Stray Dogs: Dead Apple           2018     3.5   \n",
              "331.0         Andrew Dice Clay: Dice Rules           1991     4.0   \n",
              "\n",
              "                 timestamp  \n",
              "userId                      \n",
              "1.0    2000-07-30 18:45:03  \n",
              "5.0    1996-11-08 06:36:02  \n",
              "7.0    2005-01-25 06:52:26  \n",
              "15.0   2017-11-13 12:59:30  \n",
              "17.0   2011-05-18 05:28:03  \n",
              "...                    ...  \n",
              "184.0  2018-09-16 14:44:42  \n",
              "184.0  2018-09-16 14:52:25  \n",
              "184.0  2018-09-16 14:56:45  \n",
              "184.0  2018-09-16 15:00:21  \n",
              "331.0  2018-09-17 04:13:26  \n",
              "\n",
              "[100813 rows x 6 columns]"
            ]
          },
          "execution_count": 79,
          "metadata": {},
          "output_type": "execute_result"
        }
      ],
      "source": [
        "userdf"
      ]
    },
    {
      "cell_type": "code",
      "execution_count": null,
      "id": "b443a2d3",
      "metadata": {
        "ExecuteTime": {
          "end_time": "2022-05-11T18:16:49.769943Z",
          "start_time": "2022-05-11T18:16:49.767958Z"
        },
        "id": "b443a2d3"
      },
      "outputs": [],
      "source": [
        "#create \n",
        "userdf1 = userdf['movieId']"
      ]
    },
    {
      "cell_type": "markdown",
      "id": "4fa72921",
      "metadata": {
        "id": "4fa72921"
      },
      "source": [
        "Since we reset our index to user id we can create a data frame that is essentially a list of all the movies that each specific user has seen and rated."
      ]
    },
    {
      "cell_type": "code",
      "execution_count": null,
      "id": "cb99b78e",
      "metadata": {
        "ExecuteTime": {
          "end_time": "2022-05-11T18:16:49.780553Z",
          "start_time": "2022-05-11T18:16:49.771260Z"
        },
        "scrolled": true,
        "id": "cb99b78e",
        "outputId": "a9381dcb-5339-4bff-eeaa-4d9dcd055eb3"
      },
      "outputs": [
        {
          "data": {
            "text/plain": [
              "userId\n",
              "9.0      41\n",
              "9.0     187\n",
              "9.0     223\n",
              "9.0     371\n",
              "9.0     627\n",
              "9.0     922\n",
              "9.0     923\n",
              "9.0    1037\n",
              "9.0    1095\n",
              "9.0    1198\n",
              "9.0    1270\n",
              "9.0    1674\n",
              "9.0    1987\n",
              "9.0    2011\n",
              "9.0    2012\n",
              "9.0    2023\n",
              "9.0    2300\n",
              "9.0    2877\n",
              "9.0    2901\n",
              "9.0    3173\n",
              "9.0    3328\n",
              "9.0    3735\n",
              "9.0    4131\n",
              "9.0    4558\n",
              "9.0    4993\n",
              "9.0    5218\n",
              "9.0    5378\n",
              "9.0    5445\n",
              "9.0    5447\n",
              "9.0    5451\n",
              "9.0    5481\n",
              "9.0    5507\n",
              "9.0    5841\n",
              "9.0    5843\n",
              "9.0    5872\n",
              "9.0    5890\n",
              "9.0    5891\n",
              "9.0    5893\n",
              "9.0    5902\n",
              "9.0    5952\n",
              "9.0    5956\n",
              "9.0    5962\n",
              "9.0    5965\n",
              "9.0    5988\n",
              "9.0    6001\n",
              "9.0    6044\n",
              "Name: movieId, dtype: int64"
            ]
          },
          "execution_count": 81,
          "metadata": {},
          "output_type": "execute_result"
        }
      ],
      "source": [
        "userdf1.loc[9,]"
      ]
    },
    {
      "cell_type": "markdown",
      "id": "1e514322",
      "metadata": {
        "id": "1e514322"
      },
      "source": [
        "This is a sanity check, we're trying to create a list of movies that one specific user (user 9) has seen. The purpose of this is to take these movies out of the data set that is being predicted on. This is because we don't want to recommended movies to a user that they have already seen/rated."
      ]
    },
    {
      "cell_type": "code",
      "execution_count": null,
      "id": "8f2f3647",
      "metadata": {
        "ExecuteTime": {
          "end_time": "2022-05-11T18:16:49.786152Z",
          "start_time": "2022-05-11T18:16:49.783391Z"
        },
        "id": "8f2f3647"
      },
      "outputs": [],
      "source": [
        "user_rate = list(userdf1.loc[9,])"
      ]
    },
    {
      "cell_type": "code",
      "execution_count": null,
      "id": "b46bf81c",
      "metadata": {
        "ExecuteTime": {
          "end_time": "2022-05-11T18:16:49.790728Z",
          "start_time": "2022-05-11T18:16:49.788081Z"
        },
        "id": "b46bf81c",
        "outputId": "0466176c-6c4f-4c31-f813-5c315f33abe2"
      },
      "outputs": [
        {
          "data": {
            "text/plain": [
              "[41,\n",
              " 187,\n",
              " 223,\n",
              " 371,\n",
              " 627,\n",
              " 922,\n",
              " 923,\n",
              " 1037,\n",
              " 1095,\n",
              " 1198,\n",
              " 1270,\n",
              " 1674,\n",
              " 1987,\n",
              " 2011,\n",
              " 2012,\n",
              " 2023,\n",
              " 2300,\n",
              " 2877,\n",
              " 2901,\n",
              " 3173,\n",
              " 3328,\n",
              " 3735,\n",
              " 4131,\n",
              " 4558,\n",
              " 4993,\n",
              " 5218,\n",
              " 5378,\n",
              " 5445,\n",
              " 5447,\n",
              " 5451,\n",
              " 5481,\n",
              " 5507,\n",
              " 5841,\n",
              " 5843,\n",
              " 5872,\n",
              " 5890,\n",
              " 5891,\n",
              " 5893,\n",
              " 5902,\n",
              " 5952,\n",
              " 5956,\n",
              " 5962,\n",
              " 5965,\n",
              " 5988,\n",
              " 6001,\n",
              " 6044]"
            ]
          },
          "execution_count": 83,
          "metadata": {},
          "output_type": "execute_result"
        }
      ],
      "source": [
        "user_rate"
      ]
    },
    {
      "cell_type": "code",
      "execution_count": null,
      "id": "1de33c01",
      "metadata": {
        "ExecuteTime": {
          "end_time": "2022-05-11T18:16:49.794169Z",
          "start_time": "2022-05-11T18:16:49.791659Z"
        },
        "id": "1de33c01"
      },
      "outputs": [],
      "source": [
        "#setting index so we can drop base off of specific movieId\n",
        "moviedf = movies.set_index('movieId')"
      ]
    },
    {
      "cell_type": "markdown",
      "id": "9fcffd68",
      "metadata": {
        "id": "9fcffd68"
      },
      "source": [
        "Once we reset the index in moviedf, we can use the list of movies the user has already rated and remove them from the data set that our function will iterate over to provide recommendations."
      ]
    },
    {
      "cell_type": "code",
      "execution_count": null,
      "id": "2cb52656",
      "metadata": {
        "ExecuteTime": {
          "end_time": "2022-05-11T18:16:49.802343Z",
          "start_time": "2022-05-11T18:16:49.795147Z"
        },
        "id": "2cb52656",
        "outputId": "c1c48f75-0cd7-4de7-8d77-72e5f6096969"
      },
      "outputs": [
        {
          "data": {
            "text/html": [
              "<div>\n",
              "<style scoped>\n",
              "    .dataframe tbody tr th:only-of-type {\n",
              "        vertical-align: middle;\n",
              "    }\n",
              "\n",
              "    .dataframe tbody tr th {\n",
              "        vertical-align: top;\n",
              "    }\n",
              "\n",
              "    .dataframe thead th {\n",
              "        text-align: right;\n",
              "    }\n",
              "</style>\n",
              "<table border=\"1\" class=\"dataframe\">\n",
              "  <thead>\n",
              "    <tr style=\"text-align: right;\">\n",
              "      <th></th>\n",
              "      <th>genres</th>\n",
              "      <th>Title</th>\n",
              "      <th>year_released</th>\n",
              "    </tr>\n",
              "    <tr>\n",
              "      <th>movieId</th>\n",
              "      <th></th>\n",
              "      <th></th>\n",
              "      <th></th>\n",
              "    </tr>\n",
              "  </thead>\n",
              "  <tbody>\n",
              "    <tr>\n",
              "      <th>1</th>\n",
              "      <td>adventure, animation, children, comedy, fantasy</td>\n",
              "      <td>Toy Story</td>\n",
              "      <td>1995</td>\n",
              "    </tr>\n",
              "    <tr>\n",
              "      <th>2</th>\n",
              "      <td>adventure, children, fantasy</td>\n",
              "      <td>Jumanji</td>\n",
              "      <td>1995</td>\n",
              "    </tr>\n",
              "    <tr>\n",
              "      <th>3</th>\n",
              "      <td>comedy, romance</td>\n",
              "      <td>Grumpier Old Men</td>\n",
              "      <td>1995</td>\n",
              "    </tr>\n",
              "    <tr>\n",
              "      <th>4</th>\n",
              "      <td>comedy, drama, romance</td>\n",
              "      <td>Waiting to Exhale</td>\n",
              "      <td>1995</td>\n",
              "    </tr>\n",
              "    <tr>\n",
              "      <th>5</th>\n",
              "      <td>comedy</td>\n",
              "      <td>Father of the Bride Part II</td>\n",
              "      <td>1995</td>\n",
              "    </tr>\n",
              "    <tr>\n",
              "      <th>...</th>\n",
              "      <td>...</td>\n",
              "      <td>...</td>\n",
              "      <td>...</td>\n",
              "    </tr>\n",
              "    <tr>\n",
              "      <th>193581</th>\n",
              "      <td>action, animation, comedy, fantasy</td>\n",
              "      <td>Black Butler: Book of the Atlantic</td>\n",
              "      <td>2017</td>\n",
              "    </tr>\n",
              "    <tr>\n",
              "      <th>193583</th>\n",
              "      <td>animation, comedy, fantasy</td>\n",
              "      <td>No Game No Life: Zero</td>\n",
              "      <td>2017</td>\n",
              "    </tr>\n",
              "    <tr>\n",
              "      <th>193585</th>\n",
              "      <td>drama</td>\n",
              "      <td>Flint</td>\n",
              "      <td>2017</td>\n",
              "    </tr>\n",
              "    <tr>\n",
              "      <th>193587</th>\n",
              "      <td>action, animation</td>\n",
              "      <td>Bungo Stray Dogs: Dead Apple</td>\n",
              "      <td>2018</td>\n",
              "    </tr>\n",
              "    <tr>\n",
              "      <th>193609</th>\n",
              "      <td>comedy</td>\n",
              "      <td>Andrew Dice Clay: Dice Rules</td>\n",
              "      <td>1991</td>\n",
              "    </tr>\n",
              "  </tbody>\n",
              "</table>\n",
              "<p>9737 rows × 3 columns</p>\n",
              "</div>"
            ],
            "text/plain": [
              "                                                  genres  \\\n",
              "movieId                                                    \n",
              "1        adventure, animation, children, comedy, fantasy   \n",
              "2                           adventure, children, fantasy   \n",
              "3                                        comedy, romance   \n",
              "4                                 comedy, drama, romance   \n",
              "5                                                 comedy   \n",
              "...                                                  ...   \n",
              "193581                action, animation, comedy, fantasy   \n",
              "193583                        animation, comedy, fantasy   \n",
              "193585                                             drama   \n",
              "193587                                 action, animation   \n",
              "193609                                            comedy   \n",
              "\n",
              "                                       Title year_released  \n",
              "movieId                                                     \n",
              "1                                 Toy Story           1995  \n",
              "2                                   Jumanji           1995  \n",
              "3                          Grumpier Old Men           1995  \n",
              "4                         Waiting to Exhale           1995  \n",
              "5               Father of the Bride Part II           1995  \n",
              "...                                      ...           ...  \n",
              "193581   Black Butler: Book of the Atlantic           2017  \n",
              "193583                No Game No Life: Zero           2017  \n",
              "193585                                Flint           2017  \n",
              "193587         Bungo Stray Dogs: Dead Apple           2018  \n",
              "193609         Andrew Dice Clay: Dice Rules           1991  \n",
              "\n",
              "[9737 rows x 3 columns]"
            ]
          },
          "execution_count": 85,
          "metadata": {},
          "output_type": "execute_result"
        }
      ],
      "source": [
        "moviedf"
      ]
    },
    {
      "cell_type": "code",
      "execution_count": null,
      "id": "89444b44",
      "metadata": {
        "ExecuteTime": {
          "end_time": "2022-05-11T18:16:49.809957Z",
          "start_time": "2022-05-11T18:16:49.804965Z"
        },
        "id": "89444b44"
      },
      "outputs": [],
      "source": [
        "moviedf.drop(user_rate, inplace = True)"
      ]
    },
    {
      "cell_type": "code",
      "execution_count": null,
      "id": "29746236",
      "metadata": {
        "ExecuteTime": {
          "end_time": "2022-05-11T18:16:49.817016Z",
          "start_time": "2022-05-11T18:16:49.810910Z"
        },
        "id": "29746236",
        "outputId": "5f3856a4-4692-47cd-cb67-d2aec0eb533a"
      },
      "outputs": [
        {
          "data": {
            "text/html": [
              "<div>\n",
              "<style scoped>\n",
              "    .dataframe tbody tr th:only-of-type {\n",
              "        vertical-align: middle;\n",
              "    }\n",
              "\n",
              "    .dataframe tbody tr th {\n",
              "        vertical-align: top;\n",
              "    }\n",
              "\n",
              "    .dataframe thead th {\n",
              "        text-align: right;\n",
              "    }\n",
              "</style>\n",
              "<table border=\"1\" class=\"dataframe\">\n",
              "  <thead>\n",
              "    <tr style=\"text-align: right;\">\n",
              "      <th></th>\n",
              "      <th>genres</th>\n",
              "      <th>Title</th>\n",
              "      <th>year_released</th>\n",
              "    </tr>\n",
              "    <tr>\n",
              "      <th>movieId</th>\n",
              "      <th></th>\n",
              "      <th></th>\n",
              "      <th></th>\n",
              "    </tr>\n",
              "  </thead>\n",
              "  <tbody>\n",
              "    <tr>\n",
              "      <th>1</th>\n",
              "      <td>adventure, animation, children, comedy, fantasy</td>\n",
              "      <td>Toy Story</td>\n",
              "      <td>1995</td>\n",
              "    </tr>\n",
              "    <tr>\n",
              "      <th>2</th>\n",
              "      <td>adventure, children, fantasy</td>\n",
              "      <td>Jumanji</td>\n",
              "      <td>1995</td>\n",
              "    </tr>\n",
              "    <tr>\n",
              "      <th>3</th>\n",
              "      <td>comedy, romance</td>\n",
              "      <td>Grumpier Old Men</td>\n",
              "      <td>1995</td>\n",
              "    </tr>\n",
              "    <tr>\n",
              "      <th>4</th>\n",
              "      <td>comedy, drama, romance</td>\n",
              "      <td>Waiting to Exhale</td>\n",
              "      <td>1995</td>\n",
              "    </tr>\n",
              "    <tr>\n",
              "      <th>5</th>\n",
              "      <td>comedy</td>\n",
              "      <td>Father of the Bride Part II</td>\n",
              "      <td>1995</td>\n",
              "    </tr>\n",
              "    <tr>\n",
              "      <th>...</th>\n",
              "      <td>...</td>\n",
              "      <td>...</td>\n",
              "      <td>...</td>\n",
              "    </tr>\n",
              "    <tr>\n",
              "      <th>193581</th>\n",
              "      <td>action, animation, comedy, fantasy</td>\n",
              "      <td>Black Butler: Book of the Atlantic</td>\n",
              "      <td>2017</td>\n",
              "    </tr>\n",
              "    <tr>\n",
              "      <th>193583</th>\n",
              "      <td>animation, comedy, fantasy</td>\n",
              "      <td>No Game No Life: Zero</td>\n",
              "      <td>2017</td>\n",
              "    </tr>\n",
              "    <tr>\n",
              "      <th>193585</th>\n",
              "      <td>drama</td>\n",
              "      <td>Flint</td>\n",
              "      <td>2017</td>\n",
              "    </tr>\n",
              "    <tr>\n",
              "      <th>193587</th>\n",
              "      <td>action, animation</td>\n",
              "      <td>Bungo Stray Dogs: Dead Apple</td>\n",
              "      <td>2018</td>\n",
              "    </tr>\n",
              "    <tr>\n",
              "      <th>193609</th>\n",
              "      <td>comedy</td>\n",
              "      <td>Andrew Dice Clay: Dice Rules</td>\n",
              "      <td>1991</td>\n",
              "    </tr>\n",
              "  </tbody>\n",
              "</table>\n",
              "<p>9691 rows × 3 columns</p>\n",
              "</div>"
            ],
            "text/plain": [
              "                                                  genres  \\\n",
              "movieId                                                    \n",
              "1        adventure, animation, children, comedy, fantasy   \n",
              "2                           adventure, children, fantasy   \n",
              "3                                        comedy, romance   \n",
              "4                                 comedy, drama, romance   \n",
              "5                                                 comedy   \n",
              "...                                                  ...   \n",
              "193581                action, animation, comedy, fantasy   \n",
              "193583                        animation, comedy, fantasy   \n",
              "193585                                             drama   \n",
              "193587                                 action, animation   \n",
              "193609                                            comedy   \n",
              "\n",
              "                                       Title year_released  \n",
              "movieId                                                     \n",
              "1                                 Toy Story           1995  \n",
              "2                                   Jumanji           1995  \n",
              "3                          Grumpier Old Men           1995  \n",
              "4                         Waiting to Exhale           1995  \n",
              "5               Father of the Bride Part II           1995  \n",
              "...                                      ...           ...  \n",
              "193581   Black Butler: Book of the Atlantic           2017  \n",
              "193583                No Game No Life: Zero           2017  \n",
              "193585                                Flint           2017  \n",
              "193587         Bungo Stray Dogs: Dead Apple           2018  \n",
              "193609         Andrew Dice Clay: Dice Rules           1991  \n",
              "\n",
              "[9691 rows x 3 columns]"
            ]
          },
          "execution_count": 87,
          "metadata": {},
          "output_type": "execute_result"
        }
      ],
      "source": [
        "moviedf"
      ]
    },
    {
      "cell_type": "code",
      "execution_count": null,
      "id": "97591a4c",
      "metadata": {
        "ExecuteTime": {
          "end_time": "2022-05-11T18:16:49.822255Z",
          "start_time": "2022-05-11T18:16:49.818027Z"
        },
        "id": "97591a4c"
      },
      "outputs": [],
      "source": [
        "#reset index to be able to use .apply on the movieId\n",
        "moviedf = moviedf.reset_index()"
      ]
    },
    {
      "cell_type": "markdown",
      "id": "03a0d8d1",
      "metadata": {
        "id": "03a0d8d1"
      },
      "source": [
        "We have to reset the index to the original index of the movie data frame so we can use it in an .apply method and use movieId as a feature/column in our final model"
      ]
    },
    {
      "cell_type": "code",
      "execution_count": null,
      "id": "95aeb910",
      "metadata": {
        "ExecuteTime": {
          "end_time": "2022-05-11T18:16:49.832396Z",
          "start_time": "2022-05-11T18:16:49.823454Z"
        },
        "id": "95aeb910",
        "outputId": "0d7cab8f-783d-45c4-dea0-c1f9580171bd"
      },
      "outputs": [
        {
          "data": {
            "text/html": [
              "<div>\n",
              "<style scoped>\n",
              "    .dataframe tbody tr th:only-of-type {\n",
              "        vertical-align: middle;\n",
              "    }\n",
              "\n",
              "    .dataframe tbody tr th {\n",
              "        vertical-align: top;\n",
              "    }\n",
              "\n",
              "    .dataframe thead th {\n",
              "        text-align: right;\n",
              "    }\n",
              "</style>\n",
              "<table border=\"1\" class=\"dataframe\">\n",
              "  <thead>\n",
              "    <tr style=\"text-align: right;\">\n",
              "      <th></th>\n",
              "      <th>movieId</th>\n",
              "      <th>genres</th>\n",
              "      <th>Title</th>\n",
              "      <th>year_released</th>\n",
              "    </tr>\n",
              "  </thead>\n",
              "  <tbody>\n",
              "    <tr>\n",
              "      <th>0</th>\n",
              "      <td>1</td>\n",
              "      <td>adventure, animation, children, comedy, fantasy</td>\n",
              "      <td>Toy Story</td>\n",
              "      <td>1995</td>\n",
              "    </tr>\n",
              "    <tr>\n",
              "      <th>1</th>\n",
              "      <td>2</td>\n",
              "      <td>adventure, children, fantasy</td>\n",
              "      <td>Jumanji</td>\n",
              "      <td>1995</td>\n",
              "    </tr>\n",
              "    <tr>\n",
              "      <th>2</th>\n",
              "      <td>3</td>\n",
              "      <td>comedy, romance</td>\n",
              "      <td>Grumpier Old Men</td>\n",
              "      <td>1995</td>\n",
              "    </tr>\n",
              "    <tr>\n",
              "      <th>3</th>\n",
              "      <td>4</td>\n",
              "      <td>comedy, drama, romance</td>\n",
              "      <td>Waiting to Exhale</td>\n",
              "      <td>1995</td>\n",
              "    </tr>\n",
              "    <tr>\n",
              "      <th>4</th>\n",
              "      <td>5</td>\n",
              "      <td>comedy</td>\n",
              "      <td>Father of the Bride Part II</td>\n",
              "      <td>1995</td>\n",
              "    </tr>\n",
              "    <tr>\n",
              "      <th>...</th>\n",
              "      <td>...</td>\n",
              "      <td>...</td>\n",
              "      <td>...</td>\n",
              "      <td>...</td>\n",
              "    </tr>\n",
              "    <tr>\n",
              "      <th>9686</th>\n",
              "      <td>193581</td>\n",
              "      <td>action, animation, comedy, fantasy</td>\n",
              "      <td>Black Butler: Book of the Atlantic</td>\n",
              "      <td>2017</td>\n",
              "    </tr>\n",
              "    <tr>\n",
              "      <th>9687</th>\n",
              "      <td>193583</td>\n",
              "      <td>animation, comedy, fantasy</td>\n",
              "      <td>No Game No Life: Zero</td>\n",
              "      <td>2017</td>\n",
              "    </tr>\n",
              "    <tr>\n",
              "      <th>9688</th>\n",
              "      <td>193585</td>\n",
              "      <td>drama</td>\n",
              "      <td>Flint</td>\n",
              "      <td>2017</td>\n",
              "    </tr>\n",
              "    <tr>\n",
              "      <th>9689</th>\n",
              "      <td>193587</td>\n",
              "      <td>action, animation</td>\n",
              "      <td>Bungo Stray Dogs: Dead Apple</td>\n",
              "      <td>2018</td>\n",
              "    </tr>\n",
              "    <tr>\n",
              "      <th>9690</th>\n",
              "      <td>193609</td>\n",
              "      <td>comedy</td>\n",
              "      <td>Andrew Dice Clay: Dice Rules</td>\n",
              "      <td>1991</td>\n",
              "    </tr>\n",
              "  </tbody>\n",
              "</table>\n",
              "<p>9691 rows × 4 columns</p>\n",
              "</div>"
            ],
            "text/plain": [
              "      movieId                                           genres  \\\n",
              "0           1  adventure, animation, children, comedy, fantasy   \n",
              "1           2                     adventure, children, fantasy   \n",
              "2           3                                  comedy, romance   \n",
              "3           4                           comedy, drama, romance   \n",
              "4           5                                           comedy   \n",
              "...       ...                                              ...   \n",
              "9686   193581               action, animation, comedy, fantasy   \n",
              "9687   193583                       animation, comedy, fantasy   \n",
              "9688   193585                                            drama   \n",
              "9689   193587                                action, animation   \n",
              "9690   193609                                           comedy   \n",
              "\n",
              "                                    Title year_released  \n",
              "0                              Toy Story           1995  \n",
              "1                                Jumanji           1995  \n",
              "2                       Grumpier Old Men           1995  \n",
              "3                      Waiting to Exhale           1995  \n",
              "4            Father of the Bride Part II           1995  \n",
              "...                                   ...           ...  \n",
              "9686  Black Butler: Book of the Atlantic           2017  \n",
              "9687               No Game No Life: Zero           2017  \n",
              "9688                               Flint           2017  \n",
              "9689        Bungo Stray Dogs: Dead Apple           2018  \n",
              "9690        Andrew Dice Clay: Dice Rules           1991  \n",
              "\n",
              "[9691 rows x 4 columns]"
            ]
          },
          "execution_count": 89,
          "metadata": {},
          "output_type": "execute_result"
        }
      ],
      "source": [
        "moviedf"
      ]
    },
    {
      "cell_type": "code",
      "execution_count": null,
      "id": "13fefc3b",
      "metadata": {
        "ExecuteTime": {
          "end_time": "2022-05-11T18:16:49.901693Z",
          "start_time": "2022-05-11T18:16:49.833502Z"
        },
        "id": "13fefc3b"
      },
      "outputs": [],
      "source": [
        "moviedf['est_rating'] = moviedf['movieId'].apply(lambda x: final_model.predict(9, x).est)\n",
        "moviedf.sort_values(by='est_rating', ascending=False, inplace=True)"
      ]
    },
    {
      "cell_type": "markdown",
      "id": "d4c133fc",
      "metadata": {
        "id": "d4c133fc"
      },
      "source": [
        "The code above uses our final model to estimate what users would have rated the movies they have not seen yet,as well as adding the predicted rating as a new column in our data frame. The movies with the highest predicted ratings will be the ones that our recommendation system will recommend to the user. "
      ]
    },
    {
      "cell_type": "code",
      "execution_count": null,
      "id": "30f051e2",
      "metadata": {
        "ExecuteTime": {
          "end_time": "2022-05-11T18:16:49.908239Z",
          "start_time": "2022-05-11T18:16:49.902609Z"
        },
        "id": "30f051e2",
        "outputId": "a32dbd99-54b8-45fb-bc3c-d79e3d0d1f38"
      },
      "outputs": [
        {
          "data": {
            "text/html": [
              "<div>\n",
              "<style scoped>\n",
              "    .dataframe tbody tr th:only-of-type {\n",
              "        vertical-align: middle;\n",
              "    }\n",
              "\n",
              "    .dataframe tbody tr th {\n",
              "        vertical-align: top;\n",
              "    }\n",
              "\n",
              "    .dataframe thead th {\n",
              "        text-align: right;\n",
              "    }\n",
              "</style>\n",
              "<table border=\"1\" class=\"dataframe\">\n",
              "  <thead>\n",
              "    <tr style=\"text-align: right;\">\n",
              "      <th></th>\n",
              "      <th>movieId</th>\n",
              "      <th>genres</th>\n",
              "      <th>Title</th>\n",
              "      <th>year_released</th>\n",
              "      <th>est_rating</th>\n",
              "    </tr>\n",
              "  </thead>\n",
              "  <tbody>\n",
              "    <tr>\n",
              "      <th>5574</th>\n",
              "      <td>27156</td>\n",
              "      <td>action, animation, drama, fantasy, sci-fi</td>\n",
              "      <td>Neon Genesis Evangelion: The End of Evangelion</td>\n",
              "      <td>Shin seiki Evangelion Gekijô-ban: Air/Magokoro...</td>\n",
              "      <td>4.628788</td>\n",
              "    </tr>\n",
              "    <tr>\n",
              "      <th>3877</th>\n",
              "      <td>5490</td>\n",
              "      <td>action, comedy</td>\n",
              "      <td>The Big Bus</td>\n",
              "      <td>1976</td>\n",
              "      <td>4.563338</td>\n",
              "    </tr>\n",
              "    <tr>\n",
              "      <th>4544</th>\n",
              "      <td>6818</td>\n",
              "      <td>drama, war</td>\n",
              "      <td>Come and See</td>\n",
              "      <td>Idi i smotri (1985</td>\n",
              "      <td>4.546410</td>\n",
              "    </tr>\n",
              "    <tr>\n",
              "      <th>4736</th>\n",
              "      <td>7121</td>\n",
              "      <td>comedy, romance</td>\n",
              "      <td>Adam's Rib</td>\n",
              "      <td>1949</td>\n",
              "      <td>4.540400</td>\n",
              "    </tr>\n",
              "    <tr>\n",
              "      <th>9567</th>\n",
              "      <td>177593</td>\n",
              "      <td>crime, drama</td>\n",
              "      <td>Three Billboards Outside Ebbing, Missouri</td>\n",
              "      <td>2017</td>\n",
              "      <td>4.526741</td>\n",
              "    </tr>\n",
              "  </tbody>\n",
              "</table>\n",
              "</div>"
            ],
            "text/plain": [
              "      movieId                                     genres  \\\n",
              "5574    27156  action, animation, drama, fantasy, sci-fi   \n",
              "3877     5490                             action, comedy   \n",
              "4544     6818                                 drama, war   \n",
              "4736     7121                            comedy, romance   \n",
              "9567   177593                               crime, drama   \n",
              "\n",
              "                                                Title  \\\n",
              "5574  Neon Genesis Evangelion: The End of Evangelion    \n",
              "3877                                     The Big Bus    \n",
              "4544                                    Come and See    \n",
              "4736                                      Adam's Rib    \n",
              "9567       Three Billboards Outside Ebbing, Missouri    \n",
              "\n",
              "                                          year_released  est_rating  \n",
              "5574  Shin seiki Evangelion Gekijô-ban: Air/Magokoro...    4.628788  \n",
              "3877                                               1976    4.563338  \n",
              "4544                                 Idi i smotri (1985    4.546410  \n",
              "4736                                               1949    4.540400  \n",
              "9567                                               2017    4.526741  "
            ]
          },
          "execution_count": 91,
          "metadata": {},
          "output_type": "execute_result"
        }
      ],
      "source": [
        "moviedf.head(5)"
      ]
    },
    {
      "cell_type": "markdown",
      "id": "6ae45923",
      "metadata": {
        "id": "6ae45923"
      },
      "source": [
        "The above data frame is the first simple version of the results of our deployed function. "
      ]
    },
    {
      "cell_type": "markdown",
      "id": "9565d343",
      "metadata": {
        "id": "9565d343"
      },
      "source": [
        "#### Function"
      ]
    },
    {
      "cell_type": "code",
      "execution_count": null,
      "id": "d094e134",
      "metadata": {
        "ExecuteTime": {
          "end_time": "2022-05-11T18:16:49.912920Z",
          "start_time": "2022-05-11T18:16:49.909080Z"
        },
        "id": "d094e134"
      },
      "outputs": [],
      "source": [
        "#creating a variable that only has the userid and movies that they've rated\n",
        "#this uses the original train dataset not surprise's version\n",
        "users_movies_seen = movie_rating[['movieId', 'userId']]\n",
        "#setting user id as index to make it easier to use loc on it\n",
        "users_movies_seen = users_movies_seen.set_index('userId')"
      ]
    },
    {
      "cell_type": "code",
      "execution_count": null,
      "id": "617a8048",
      "metadata": {
        "id": "617a8048"
      },
      "outputs": [],
      "source": [
        "users_movies_seen.to_csv('./data/users_movies_seen.csv')\n",
        "movies.to_csv('./data/movies_cleaned.csv')"
      ]
    },
    {
      "cell_type": "code",
      "execution_count": null,
      "id": "0dc33833",
      "metadata": {
        "ExecuteTime": {
          "end_time": "2022-05-11T18:16:49.917142Z",
          "start_time": "2022-05-11T18:16:49.913788Z"
        },
        "code_folding": [
          0
        ],
        "id": "0dc33833"
      },
      "outputs": [],
      "source": [
        "def recommender():\n",
        "    user = float(input('userId: '))\n",
        "    genre = input('What genres are you interested in? ')\n",
        "    num_recs = int(input('How many recomendations would you like? '))\n",
        "\n",
        "    #using the train data\n",
        "    #create the seen_movie\n",
        "    seen_movie = list(users_movies_seen.loc[user, 'movieId'])\n",
        "\n",
        "    #create df with all the unseen/unrated movies\n",
        "    train_copy = movies.copy()\n",
        "    train_copy2 = train_copy.set_index('movieId')\n",
        "\n",
        "    #using the not_seen df, create a rating for a user\n",
        "    not_seen = train_copy2.drop(index = seen_movie)\n",
        "\n",
        "    #subsetting the df to unseen movies of a certain genre\n",
        "    not_seen = not_seen[not_seen['genres'].str.contains(genre)]\n",
        "    \n",
        "    #reset not_seen index\n",
        "    not_seen = not_seen.reset_index()\n",
        "    \n",
        "    #creating an est rating and the sorted it\n",
        "    not_seen['est_rating'] = not_seen['movieId'].apply(lambda x: final_model.predict(user, x).est)\n",
        "    not_seen.sort_values(by='est_rating', ascending=False, inplace=True)\n",
        "\n",
        "    #returns the recommendations that the model predicts to be the highest rating\n",
        "    return (not_seen.head(num_recs))"
      ]
    },
    {
      "cell_type": "markdown",
      "id": "90027d71",
      "metadata": {
        "id": "90027d71"
      },
      "source": [
        "This is our first version of our deployment function, when this function is run, it will ask the user for their ID, genres of choice and the number of recommendations they would like, It then utilizes the users unique Id to extrapolate a list of movies they have already seen, take that list of seen movies out of the original data set. It then further subsets the data using the genre that the user has inputted. From this subset of the data, the function applies our final model to estimate user ratings for movies they have yet to see. These estimated ratings determine which movies are recommended to the user. "
      ]
    },
    {
      "cell_type": "code",
      "execution_count": null,
      "id": "de17bd77",
      "metadata": {
        "ExecuteTime": {
          "end_time": "2022-05-11T19:40:32.989406Z",
          "start_time": "2022-05-11T19:40:32.973283Z"
        },
        "code_folding": [
          0
        ],
        "id": "de17bd77"
      },
      "outputs": [],
      "source": [
        "def recommender2():\n",
        "    user = float(input('userId: '))\n",
        "    genre = input('What genres are you interested in? ').split(' ')\n",
        "    num_recs = int(input('How many recomendations would you like? '))\n",
        "\n",
        "    #using the train data\n",
        "    #create the seen_movie\n",
        "    seen_movie = list(users_movies_seen.loc[user, 'movieId'])\n",
        "\n",
        "    #create df with all the unseen/unrated movies\n",
        "    train_copy = movies.copy()\n",
        "    train_copy2 = train_copy.set_index('movieId')\n",
        "\n",
        "    #using the not_seen df, create a rating for a user\n",
        "    not_seen = train_copy2.drop(index = seen_movie)\n",
        "\n",
        "    #subsetting the df to unseen movies of a certain genre\n",
        "    seen_test = pd.DataFrame(columns=['genres', 'Title', 'year_released'])\n",
        "    for x in genre:\n",
        "        for row, data in not_seen.iterrows():\n",
        "            if x in not_seen['genres'][row]:\n",
        "                seen_test.loc[row] = list(not_seen.loc[row,:])\n",
        "    \n",
        "    #reset not_seen index\n",
        "    seen_test = seen_test.reset_index()\n",
        "    \n",
        "    #creating an est rating and the sorted it\n",
        "    seen_test['est_rating'] = seen_test['index'].apply(lambda x: final_model.predict(user, x).est)\n",
        "    seen_test.sort_values(by='est_rating', ascending=False, inplace=True)\n",
        "\n",
        "    #returns the recommendations that the model predicts to be the highest rating\n",
        "    return (seen_test[['Title', 'genres']].head(num_recs))"
      ]
    },
    {
      "cell_type": "markdown",
      "id": "32563ba3",
      "metadata": {
        "id": "32563ba3"
      },
      "source": [
        "We wanted to make our function more versatile so we created a second version of our function that has the capability to incorporate more than one genre for sectioning the data.When this function is run, it will ask the user for their ID, genres of choice and the number of recommendations they would like, It then utilizes the users unique Id to extrapolate a list of movies they have already seen, take that list of seen movies out of the original data set. It then further subsets the data using the genres that the user has inputted. From this subset of the data, the function applies our final model to estimate user ratings for movies they have yet to see. These estimated ratings determine which movies are recommended to the user. "
      ]
    },
    {
      "cell_type": "code",
      "execution_count": null,
      "id": "2c3e3bba",
      "metadata": {
        "ExecuteTime": {
          "end_time": "2022-05-11T19:40:55.618066Z",
          "start_time": "2022-05-11T19:40:33.541553Z"
        },
        "scrolled": true,
        "id": "2c3e3bba",
        "outputId": "8361cfe8-4c6e-43df-a309-eee6d42ff17a"
      },
      "outputs": [
        {
          "name": "stdout",
          "output_type": "stream",
          "text": [
            "userId: 9\n",
            "What genres are you interested in? comedy\n",
            "How many recomendations would you like? 5\n"
          ]
        },
        {
          "data": {
            "text/html": [
              "<div>\n",
              "<style scoped>\n",
              "    .dataframe tbody tr th:only-of-type {\n",
              "        vertical-align: middle;\n",
              "    }\n",
              "\n",
              "    .dataframe tbody tr th {\n",
              "        vertical-align: top;\n",
              "    }\n",
              "\n",
              "    .dataframe thead th {\n",
              "        text-align: right;\n",
              "    }\n",
              "</style>\n",
              "<table border=\"1\" class=\"dataframe\">\n",
              "  <thead>\n",
              "    <tr style=\"text-align: right;\">\n",
              "      <th></th>\n",
              "      <th>Title</th>\n",
              "      <th>genres</th>\n",
              "    </tr>\n",
              "  </thead>\n",
              "  <tbody>\n",
              "    <tr>\n",
              "      <th>1462</th>\n",
              "      <td>The Big Bus</td>\n",
              "      <td>action, comedy</td>\n",
              "    </tr>\n",
              "    <tr>\n",
              "      <th>1813</th>\n",
              "      <td>Adam's Rib</td>\n",
              "      <td>comedy, romance</td>\n",
              "    </tr>\n",
              "    <tr>\n",
              "      <th>2412</th>\n",
              "      <td>Beer League</td>\n",
              "      <td>comedy</td>\n",
              "    </tr>\n",
              "    <tr>\n",
              "      <th>1457</th>\n",
              "      <td>The Importance of Being Earnest</td>\n",
              "      <td>comedy, romance</td>\n",
              "    </tr>\n",
              "    <tr>\n",
              "      <th>1651</th>\n",
              "      <td>Belle époque</td>\n",
              "      <td>comedy, romance</td>\n",
              "    </tr>\n",
              "  </tbody>\n",
              "</table>\n",
              "</div>"
            ],
            "text/plain": [
              "                                 Title           genres\n",
              "1462                      The Big Bus    action, comedy\n",
              "1813                       Adam's Rib   comedy, romance\n",
              "2412                      Beer League            comedy\n",
              "1457  The Importance of Being Earnest   comedy, romance\n",
              "1651                     Belle époque   comedy, romance"
            ]
          },
          "execution_count": 96,
          "metadata": {},
          "output_type": "execute_result"
        }
      ],
      "source": [
        "recommender2()"
      ]
    },
    {
      "cell_type": "markdown",
      "id": "da7e3494",
      "metadata": {
        "id": "da7e3494"
      },
      "source": [
        "## Recommendations "
      ]
    },
    {
      "cell_type": "markdown",
      "id": "7d696774",
      "metadata": {
        "id": "7d696774"
      },
      "source": [
        "Based on the performance of our model we can recommend it be used in the following ways: \n",
        " 1. Use our model to predict **rating of movies** that the user hasn't rated by looking at the **ratings** for those movies done by **similar users**.\n",
        " 2. Use these **predicted ratings** as the basis for providing **recommendations** to users using the **app version** of our deployed recommendation system.\n",
        " 3. Use the **app version** to filter based recommendations based on `genre`, including the movies that have *more than one* `genre` tied to it. \n",
        " 4. Use this as the basis to increase interest in films vs TV shows "
      ]
    },
    {
      "cell_type": "markdown",
      "id": "79d0a452",
      "metadata": {
        "id": "79d0a452"
      },
      "source": [
        "## App Deployment"
      ]
    },
    {
      "cell_type": "markdown",
      "id": "f274bdfa",
      "metadata": {
        "id": "f274bdfa"
      },
      "source": [
        "An app was created based on this model. The app.py contains the code necessary to get the recommendation app to work on a local device. The mac_streamlit.yml and windows_streamlit.yml files contains the environment that is required to run this app locally for a mac or a windows. The requirements.txt file contains the information needed to run the recommendation app on the streamlit website."
      ]
    },
    {
      "cell_type": "markdown",
      "id": "b5b879de",
      "metadata": {
        "id": "b5b879de"
      },
      "source": [
        "[DEMO APP](https://share.streamlit.io/xiaohua-su/recommender_system/main/app.py)"
      ]
    },
    {
      "cell_type": "markdown",
      "id": "f56e189c",
      "metadata": {
        "id": "f56e189c"
      },
      "source": [
        "## Next Steps"
      ]
    },
    {
      "cell_type": "markdown",
      "id": "37094b6e",
      "metadata": {
        "ExecuteTime": {
          "end_time": "2022-05-12T18:56:39.611239Z",
          "start_time": "2022-05-12T18:56:39.589574Z"
        },
        "id": "37094b6e"
      },
      "source": [
        "1. Use more current data (our data set is from the 1996-2018), since tastes in movies and TV shows change so much over time, this would be a crucial next step in developing our improving our recommendation system model performance.\n",
        "\n",
        "2. Use more first party data ( or dataset is from MovieLens), by using data native to Hulu we can gain a better understanding of the preferences of Hulu-specific users as opposed to users in general.\n",
        "\n",
        "3. Use more ratings, we chose to use the smaller dataset in our analysis because of time constraints. We could have chosen to use the bigger set however we decided not to. This analysis should be re-done with more data.\n",
        "\n",
        "4. Incorporate a content based filtering algorithm to address cold start problem \n",
        "\n",
        "5. We would do A/B testing on the res system and subscriber retention\n",
        "\n",
        "6. Build the second version of our app"
      ]
    },
    {
      "cell_type": "markdown",
      "id": "0db5ee1a",
      "metadata": {
        "id": "0db5ee1a"
      },
      "source": [
        ""
      ]
    }
  ],
  "metadata": {
    "kernelspec": {
      "display_name": "Python 3",
      "name": "python3"
    },
    "language_info": {
      "name": "python"
    },
    "toc": {
      "base_numbering": 1,
      "nav_menu": {},
      "number_sections": true,
      "sideBar": true,
      "skip_h1_title": true,
      "title_cell": "Table of Contents",
      "title_sidebar": "Contents",
      "toc_cell": false,
      "toc_position": {
        "height": "calc(100% - 180px)",
        "left": "10px",
        "top": "150px",
        "width": "384px"
      },
      "toc_section_display": true,
      "toc_window_display": true
    },
    "varInspector": {
      "cols": {
        "lenName": 16,
        "lenType": 16,
        "lenVar": 40
      },
      "kernels_config": {
        "python": {
          "delete_cmd_postfix": "",
          "delete_cmd_prefix": "del ",
          "library": "var_list.py",
          "varRefreshCmd": "print(var_dic_list())"
        },
        "r": {
          "delete_cmd_postfix": ") ",
          "delete_cmd_prefix": "rm(",
          "library": "var_list.r",
          "varRefreshCmd": "cat(var_dic_list()) "
        }
      },
      "types_to_exclude": [
        "module",
        "function",
        "builtin_function_or_method",
        "instance",
        "_Feature"
      ],
      "window_display": false
    },
    "colab": {
      "name": "Final_Notebook_Full_Dataset.ipynb",
      "provenance": [],
      "machine_shape": "hm"
    },
    "accelerator": "GPU"
  },
  "nbformat": 4,
  "nbformat_minor": 5
}